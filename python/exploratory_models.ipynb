{
 "cells": [
  {
   "cell_type": "code",
   "execution_count": 4,
   "metadata": {},
   "outputs": [],
   "source": [
    "# prepare_data_for_eda.py scrip, without saving out to pkl or csv\n",
    "import numpy as np\n",
    "import os\n",
    "import pandas as pd\n",
    "import logging.config\n",
    "import matplotlib.pyplot as plt\n",
    "import numpy as np\n",
    "import operator\n",
    "\n",
    "from sklearn import preprocessing\n",
    "from sklearn.pipeline import Pipeline, FeatureUnion\n",
    "from sklearn.preprocessing import StandardScaler, Imputer, LabelBinarizer, OneHotEncoder, LabelEncoder, MinMaxScaler\n",
    "from sklearn.base import BaseEstimator, TransformerMixin\n",
    "from sklearn.model_selection import train_test_split\n",
    "from sklearn.metrics import mean_squared_error, accuracy_score\n",
    "from sklearn.ensemble import GradientBoostingRegressor\n",
    "\n",
    "import importlib\n",
    "\n",
    "from sklearn.tree import DecisionTreeRegressor, export_graphviz \n",
    "import category_encoders as ce\n",
    "\n",
    "LOGGING_CONFIG = os.getenv('LOGGING_CONFIG')\n",
    "logging.config.fileConfig(LOGGING_CONFIG)\n",
    "logger = logging.getLogger('prepare_data_for_eda')\n",
    "\n",
    "import statsmodels.api as sm"
   ]
  },
  {
   "cell_type": "code",
   "execution_count": 5,
   "metadata": {},
   "outputs": [],
   "source": [
    "DATADIR = os.getenv('DATADIR')\n",
    "logger.info(\"using DATADIR {}\".format(DATADIR))\n",
    "ENGINE = os.getenv('ENGINE')\n",
    "logger.info(\"using data from {}\".format(ENGINE))"
   ]
  },
  {
   "cell_type": "code",
   "execution_count": 6,
   "metadata": {},
   "outputs": [],
   "source": [
    "#accurate_proportions.to_csv(os.path.join(DATADIR, 'accurate_proportions.csv.gz'), compression='gzip')\n",
    "accurate_proportions = pd.read_csv('../DATA/accurate_proportions.csv')"
   ]
  },
  {
   "cell_type": "markdown",
   "metadata": {},
   "source": [
    "### regression- GLM binomial response data"
   ]
  },
  {
   "cell_type": "code",
   "execution_count": 7,
   "metadata": {},
   "outputs": [],
   "source": [
    "y_usefulness = accurate_proportions[['is_this_useful_yes','is_this_useful_no']].values\n"
   ]
  },
  {
   "cell_type": "code",
   "execution_count": 8,
   "metadata": {},
   "outputs": [
    {
     "data": {
      "text/plain": [
       "(575, 2)"
      ]
     },
     "execution_count": 8,
     "metadata": {},
     "output_type": "execute_result"
    }
   ],
   "source": [
    "y_usefulness.shape"
   ]
  },
  {
   "cell_type": "code",
   "execution_count": 9,
   "metadata": {},
   "outputs": [],
   "source": [
    "x_vars = accurate_proportions[['spelling_grammar', 'errors', 'style', 'string_length', 'word_count', 'sentence_count']]"
   ]
  },
  {
   "cell_type": "code",
   "execution_count": 10,
   "metadata": {},
   "outputs": [
    {
     "name": "stdout",
     "output_type": "stream",
     "text": [
      "                 Generalized Linear Model Regression Results                  \n",
      "==============================================================================\n",
      "Dep. Variable:           ['y1', 'y2']   No. Observations:                  575\n",
      "Model:                            GLM   Df Residuals:                      569\n",
      "Model Family:                Binomial   Df Model:                            5\n",
      "Link Function:                  logit   Scale:                             1.0\n",
      "Method:                          IRLS   Log-Likelihood:                -34804.\n",
      "Date:                Thu, 31 May 2018   Deviance:                       66218.\n",
      "Time:                        10:00:33   Pearson chi2:                 1.05e+03\n",
      "No. Iterations:                     5                                         \n",
      "====================================================================================\n",
      "                       coef    std err          z      P>|z|      [0.025      0.975]\n",
      "------------------------------------------------------------------------------------\n",
      "spelling_grammar    -5.9683      0.410    -14.575      0.000      -6.771      -5.166\n",
      "errors              15.7882      0.720     21.941      0.000      14.378      17.199\n",
      "style               -4.6444      0.257    -18.064      0.000      -5.148      -4.140\n",
      "string_length        0.0001   1.29e-05      8.337      0.000    8.22e-05       0.000\n",
      "word_count          -0.0012   7.46e-05    -16.733      0.000      -0.001      -0.001\n",
      "sentence_count       0.0709      0.001     53.310      0.000       0.068       0.074\n",
      "====================================================================================\n"
     ]
    }
   ],
   "source": [
    "glm_binom = sm.GLM(y_usefulness, x_vars, family=sm.families.Binomial())\n",
    "res = glm_binom.fit()\n",
    "print(res.summary())"
   ]
  },
  {
   "cell_type": "code",
   "execution_count": 11,
   "metadata": {},
   "outputs": [
    {
     "name": "stdout",
     "output_type": "stream",
     "text": [
      "over_f = 116.37609841827768\n"
     ]
    }
   ],
   "source": [
    "print(\"over_f = {}\".format(66218/569))"
   ]
  },
  {
   "cell_type": "markdown",
   "metadata": {},
   "source": [
    "It is assumed that the residual deviance is the same as the residual degrees of freedom. If the residual deviance is larger than the residual degrees of freedom, this is called overdispersion. It means that there is extra unexplained vairation, over and above the binomial variance assumed by the model specification. \n",
    "\n",
    "This model is not sound, the overdisperison factor is over_f. The simplest way to take this into account is to use an 'empirical scale parameter' to reflect the fact that the errors are not binomial as well assumed but are lager than this (overdispersed) by a facotr of over_f. We refit the model using quasibinomial to account for overdispersion. \n",
    "\n",
    "This can't be done, obviously in statsmodels library so check the R script for quasibinomial GLM"
   ]
  },
  {
   "cell_type": "markdown",
   "metadata": {},
   "source": [
    "### Data preprocessing pipeline"
   ]
  },
  {
   "cell_type": "code",
   "execution_count": 75,
   "metadata": {},
   "outputs": [],
   "source": [
    "class DataFrameSelector(BaseEstimator, TransformerMixin):\n",
    "    def __init__(self, attribute_names):\n",
    "        self.attribute_names = attribute_names\n",
    "    def fit(self, X, y=None):\n",
    "        return self\n",
    "    def transform(self, X):\n",
    "        return X[self.attribute_names].values"
   ]
  },
  {
   "cell_type": "code",
   "execution_count": 76,
   "metadata": {},
   "outputs": [],
   "source": [
    "num_attribs = [ 'feedex_comments',\n",
    "       'number_of_internal_searches', 'exits', 'entrances', 'bounce_rate',\n",
    "       'avg_time_on_page',  'number_of_pdfs',   'number_of_word_files', \n",
    "       'readability_score', 'contractions_count', 'equality_count',\n",
    "       'indefinite_article_count', 'passive_count', 'profanities_count',\n",
    "       'redundant_acronyms_count', 'repeated_words_count', 'simplify_count',\n",
    "       'spell_count', 'string_length', 'sentence_count', 'word_count',\n",
    "       'count_survey_responses',\n",
    "       'response_per_pageview', 'response_per_unique_pageview',\n",
    "        'total_to_unique_pageviews',\n",
    "       'feedex_per_unique_1000', 'searches_per_pageview_1000'\n",
    "       ]"
   ]
  },
  {
   "cell_type": "code",
   "execution_count": 77,
   "metadata": {},
   "outputs": [],
   "source": [
    "cat_attribs = [ 'document_type',\n",
    "       'content_purpose_document_supertype', 'status',\n",
    "       'primary_organisation_title', \n",
    "       'primary_organisation_withdrawn',  'locale']"
   ]
  },
  {
   "cell_type": "code",
   "execution_count": 85,
   "metadata": {},
   "outputs": [],
   "source": [
    "num_pipeline = Pipeline( [\n",
    "            ('selector', DataFrameSelector(num_attribs)),\n",
    "            ('imputer', Imputer(strategy='median')),\n",
    "            ('min_max_scaler', MinMaxScaler()),\n",
    "            ])"
   ]
  },
  {
   "cell_type": "code",
   "execution_count": 86,
   "metadata": {},
   "outputs": [],
   "source": [
    "cat_pipeline = Pipeline([\n",
    "        ('selector', DataFrameSelector(cat_attribs)),\n",
    "        ('one_hot_encoder', ce.OneHotEncoder(drop_invariant=True)),\n",
    "        ])"
   ]
  },
  {
   "cell_type": "code",
   "execution_count": 87,
   "metadata": {},
   "outputs": [
    {
     "data": {
      "text/plain": [
       "OneHotEncoder(cols=None, drop_invariant=True, handle_unknown='impute',\n",
       "       impute_missing=True, return_df=True, verbose=0)"
      ]
     },
     "execution_count": 87,
     "metadata": {},
     "output_type": "execute_result"
    }
   ],
   "source": [
    "cat_pipeline.named_steps['one_hot_encoder']"
   ]
  },
  {
   "cell_type": "code",
   "execution_count": 88,
   "metadata": {},
   "outputs": [
    {
     "data": {
      "text/plain": [
       "array(['Cabinet Office', 'Civil Service', 'Civil Service Resourcing',\n",
       "       'Department for Education',\n",
       "       'Department for Exiting the European Union',\n",
       "       'Department for Work and Pensions',\n",
       "       'Department of Health and Social Care',\n",
       "       'Disclosure and Barring Service',\n",
       "       'Driver and Vehicle Licensing Agency',\n",
       "       'Driver and Vehicle Standards Agency',\n",
       "       'Foreign & Commonwealth Office', 'HM Passport Office',\n",
       "       'HM Revenue & Customs', 'HM Treasury', 'Highways England',\n",
       "       'Home Office', \"Prime Minister's Office, 10 Downing Street\",\n",
       "       'Standards and Testing Agency', 'UK Visas and Immigration',\n",
       "       'Valuation Office Agency', 'unknown'], dtype=object)"
      ]
     },
     "execution_count": 88,
     "metadata": {},
     "output_type": "execute_result"
    }
   ],
   "source": [
    "le = LabelEncoder()\n",
    "le.fit(accurate_proportions['primary_organisation_title'].fillna('unknown'))\n",
    "le.classes_\n"
   ]
  },
  {
   "cell_type": "code",
   "execution_count": 89,
   "metadata": {},
   "outputs": [],
   "source": [
    "full_pipeline = Pipeline([\n",
    "        ('features', FeatureUnion(transformer_list=[\n",
    "        ('num_pipeline', num_pipeline),\n",
    "        ('cat_pipeline', cat_pipeline),\n",
    "]))])"
   ]
  },
  {
   "cell_type": "code",
   "execution_count": 90,
   "metadata": {},
   "outputs": [],
   "source": [
    "x_vars_prepared = full_pipeline.fit_transform(accurate_proportions)"
   ]
  },
  {
   "cell_type": "code",
   "execution_count": 91,
   "metadata": {},
   "outputs": [
    {
     "data": {
      "text/plain": [
       "(575, 100)"
      ]
     },
     "execution_count": 91,
     "metadata": {},
     "output_type": "execute_result"
    }
   ],
   "source": [
    "x_vars_prepared.shape"
   ]
  },
  {
   "cell_type": "code",
   "execution_count": 92,
   "metadata": {},
   "outputs": [
    {
     "data": {
      "text/plain": [
       "array([9.25737350e-06, 1.60505459e-04, 6.44091499e-03, 9.25206211e-03,\n",
       "       6.37440758e-01, 2.05323798e-01, 0.00000000e+00, 0.00000000e+00,\n",
       "       8.45298281e-01, 0.00000000e+00, 0.00000000e+00, 0.00000000e+00,\n",
       "       8.33333333e-02, 3.58422939e-02, 0.00000000e+00, 0.00000000e+00,\n",
       "       4.76190476e-03, 3.85964912e-02, 2.57668871e-02, 1.54639175e-02,\n",
       "       2.50347705e-02, 6.69568129e-04, 7.60589521e-02, 7.44731520e-02,\n",
       "       1.88445043e-02, 1.07953199e-04, 3.44843561e-02, 0.00000000e+00,\n",
       "       1.00000000e+00, 0.00000000e+00, 0.00000000e+00, 0.00000000e+00,\n",
       "       0.00000000e+00, 0.00000000e+00, 0.00000000e+00, 0.00000000e+00,\n",
       "       0.00000000e+00, 0.00000000e+00, 0.00000000e+00, 0.00000000e+00,\n",
       "       0.00000000e+00, 0.00000000e+00, 0.00000000e+00, 0.00000000e+00,\n",
       "       0.00000000e+00, 0.00000000e+00, 0.00000000e+00, 0.00000000e+00,\n",
       "       0.00000000e+00, 0.00000000e+00, 0.00000000e+00, 0.00000000e+00,\n",
       "       0.00000000e+00, 0.00000000e+00, 0.00000000e+00, 0.00000000e+00,\n",
       "       0.00000000e+00, 0.00000000e+00, 0.00000000e+00, 0.00000000e+00,\n",
       "       0.00000000e+00, 0.00000000e+00, 0.00000000e+00, 0.00000000e+00,\n",
       "       0.00000000e+00, 0.00000000e+00, 0.00000000e+00, 0.00000000e+00,\n",
       "       1.00000000e+00, 0.00000000e+00, 0.00000000e+00, 0.00000000e+00,\n",
       "       0.00000000e+00, 0.00000000e+00, 0.00000000e+00, 0.00000000e+00,\n",
       "       0.00000000e+00, 0.00000000e+00, 0.00000000e+00, 1.00000000e+00,\n",
       "       0.00000000e+00, 0.00000000e+00, 0.00000000e+00, 0.00000000e+00,\n",
       "       0.00000000e+00, 0.00000000e+00, 0.00000000e+00, 0.00000000e+00,\n",
       "       0.00000000e+00, 0.00000000e+00, 0.00000000e+00, 0.00000000e+00,\n",
       "       0.00000000e+00, 0.00000000e+00, 0.00000000e+00, 0.00000000e+00,\n",
       "       0.00000000e+00, 0.00000000e+00, 0.00000000e+00, 0.00000000e+00])"
      ]
     },
     "execution_count": 92,
     "metadata": {},
     "output_type": "execute_result"
    }
   ],
   "source": [
    "x_vars_prepared[1]"
   ]
  },
  {
   "cell_type": "code",
   "execution_count": 98,
   "metadata": {},
   "outputs": [],
   "source": [
    "fixable_vars =  [ 'number_of_pdfs',   'number_of_word_files', \n",
    "       'readability_score', 'contractions_count', 'equality_count',\n",
    "       'indefinite_article_count', 'passive_count', 'profanities_count',\n",
    "       'redundant_acronyms_count', 'repeated_words_count', 'simplify_count',\n",
    "       'spell_count', 'string_length', 'sentence_count', 'word_count'\n",
    "       ]\n",
    "\n",
    "fixable_pipeline = Pipeline( [\n",
    "            ('selector', DataFrameSelector(fixable_vars)),\n",
    "            ('imputer', Imputer(strategy='median')),\n",
    "            ('min_max_scaler', MinMaxScaler()),\n",
    "            ])\n",
    "\n",
    "fixable_vars_prepared = fixable_pipeline.fit_transform(accurate_proportions)"
   ]
  },
  {
   "cell_type": "code",
   "execution_count": 99,
   "metadata": {},
   "outputs": [
    {
     "data": {
      "text/plain": [
       "count    457.000000\n",
       "mean       3.695842\n",
       "std       14.612894\n",
       "min        0.000000\n",
       "25%        0.000000\n",
       "50%        1.000000\n",
       "75%        3.000000\n",
       "max      279.000000\n",
       "Name: profanities_count, dtype: float64"
      ]
     },
     "execution_count": 99,
     "metadata": {},
     "output_type": "execute_result"
    }
   ],
   "source": [
    "accurate_proportions['profanities_count'].describe()"
   ]
  },
  {
   "cell_type": "markdown",
   "metadata": {},
   "source": [
    "### Decision tree"
   ]
  },
  {
   "cell_type": "code",
   "execution_count": 100,
   "metadata": {},
   "outputs": [
    {
     "data": {
      "text/plain": [
       "DecisionTreeRegressor(criterion='mse', max_depth=3, max_features=None,\n",
       "           max_leaf_nodes=None, min_impurity_decrease=0.0,\n",
       "           min_impurity_split=None, min_samples_leaf=1,\n",
       "           min_samples_split=2, min_weight_fraction_leaf=0.0,\n",
       "           presort=False, random_state=None, splitter='best')"
      ]
     },
     "execution_count": 100,
     "metadata": {},
     "output_type": "execute_result"
    }
   ],
   "source": [
    "tree_reg = DecisionTreeRegressor(max_depth=3)\n",
    "tree_reg.fit(x_vars_prepared, accurate_proportions['useful_per_responses'])"
   ]
  },
  {
   "cell_type": "code",
   "execution_count": 101,
   "metadata": {},
   "outputs": [
    {
     "data": {
      "text/plain": [
       "DecisionTreeRegressor(criterion='mse', max_depth=3, max_features=None,\n",
       "           max_leaf_nodes=None, min_impurity_decrease=0.0,\n",
       "           min_impurity_split=None, min_samples_leaf=1,\n",
       "           min_samples_split=2, min_weight_fraction_leaf=0.0,\n",
       "           presort=False, random_state=None, splitter='best')"
      ]
     },
     "execution_count": 101,
     "metadata": {},
     "output_type": "execute_result"
    }
   ],
   "source": [
    "fixable_reg = DecisionTreeRegressor(max_depth=3)\n",
    "fixable_reg.fit(fixable_vars_prepared, accurate_proportions['useful_per_responses'])"
   ]
  },
  {
   "cell_type": "markdown",
   "metadata": {},
   "source": [
    "#### Export figure of decision tree\n",
    "this can be converted to png in cmd line  \n",
    "`dot -Tpng fixable_tree.dot -o fixable_tree.png`"
   ]
  },
  {
   "cell_type": "code",
   "execution_count": 102,
   "metadata": {},
   "outputs": [],
   "source": [
    "export_graphviz(\n",
    "    fixable_reg, \n",
    "    out_file='../DATA/fixable_tree.dot', \n",
    "    feature_names=fixable_vars\n",
    ")"
   ]
  },
  {
   "cell_type": "markdown",
   "metadata": {},
   "source": [
    "#### Feature importance"
   ]
  },
  {
   "cell_type": "code",
   "execution_count": 103,
   "metadata": {},
   "outputs": [
    {
     "name": "stdout",
     "output_type": "stream",
     "text": [
      "contractions_count 0.31039802754208184\n",
      "profanities_count 0.29638917944990695\n",
      "simplify_count 0.22171845471268478\n",
      "spell_count 0.17149410100091556\n",
      "repeated_words_count 2.3729441083821582e-07\n",
      "number_of_pdfs 0.0\n",
      "number_of_word_files 0.0\n",
      "readability_score 0.0\n",
      "equality_count 0.0\n",
      "indefinite_article_count 0.0\n",
      "passive_count 0.0\n",
      "redundant_acronyms_count 0.0\n",
      "string_length 0.0\n",
      "sentence_count 0.0\n",
      "word_count 0.0\n"
     ]
    }
   ],
   "source": [
    "for name, score in sorted(dict(zip(fixable_vars, \n",
    "                        fixable_reg.feature_importances_)).items(), key=operator.itemgetter(1), reverse=True):\n",
    "    print(name, score)"
   ]
  },
  {
   "cell_type": "code",
   "execution_count": 32,
   "metadata": {},
   "outputs": [],
   "source": [
    "#This names the categorical features but I actually want the names of the levels so it's not ideal\n",
    "cat_names=[]\n",
    "for x in list(cat_pipeline.fit_transform(accurate_proportions).columns):\n",
    "    for y, feature_name in enumerate(cat_attribs):\n",
    "        \n",
    "        if (y==int(x.split('_')[0])):\n",
    "            cat_names.append(feature_name + '_' + x.split('_')[1])\n",
    "        "
   ]
  },
  {
   "cell_type": "code",
   "execution_count": 33,
   "metadata": {},
   "outputs": [],
   "source": [
    "export_graphviz(\n",
    "    tree_reg, \n",
    "    out_file='../DATA/decision_tree.dot', \n",
    "    feature_names=num_attribs + cat_names\n",
    ")"
   ]
  },
  {
   "cell_type": "code",
   "execution_count": 34,
   "metadata": {},
   "outputs": [
    {
     "data": {
      "text/plain": [
       "array([0.        , 0.        , 0.        , 0.        , 0.13721041,\n",
       "       0.        , 0.        , 0.        , 0.        , 0.        ,\n",
       "       0.        , 0.        , 0.        , 0.03582745, 0.        ,\n",
       "       0.        , 0.        , 0.        , 0.0921258 , 0.        ,\n",
       "       0.        , 0.        , 0.        , 0.17937261, 0.0543851 ,\n",
       "       0.        , 0.42859021, 0.        , 0.        , 0.        ,\n",
       "       0.        , 0.        , 0.        , 0.        , 0.        ,\n",
       "       0.        , 0.        , 0.        , 0.        , 0.        ,\n",
       "       0.        , 0.        , 0.        , 0.        , 0.        ,\n",
       "       0.        , 0.        , 0.        , 0.        , 0.        ,\n",
       "       0.        , 0.        , 0.        , 0.        , 0.        ,\n",
       "       0.        , 0.        , 0.        , 0.        , 0.        ,\n",
       "       0.        , 0.        , 0.        , 0.        , 0.        ,\n",
       "       0.        , 0.        , 0.        , 0.        , 0.        ,\n",
       "       0.        , 0.        , 0.        , 0.        , 0.        ,\n",
       "       0.        , 0.        , 0.        , 0.        , 0.        ,\n",
       "       0.        , 0.        , 0.        , 0.07248842, 0.        ,\n",
       "       0.        , 0.        , 0.        , 0.        , 0.        ,\n",
       "       0.        , 0.        , 0.        , 0.        , 0.        ,\n",
       "       0.        , 0.        , 0.        , 0.        , 0.        ])"
      ]
     },
     "execution_count": 34,
     "metadata": {},
     "output_type": "execute_result"
    }
   ],
   "source": [
    "tree_reg.feature_importances_"
   ]
  },
  {
   "cell_type": "code",
   "execution_count": 35,
   "metadata": {},
   "outputs": [],
   "source": [
    "x_vars_labels = num_attribs + cat_names"
   ]
  },
  {
   "cell_type": "code",
   "execution_count": 36,
   "metadata": {},
   "outputs": [
    {
     "name": "stdout",
     "output_type": "stream",
     "text": [
      "searches_per_pageview_1000 0.42859020683079907\n",
      "response_per_unique_pageview 0.17937261084980866\n",
      "bounce_rate 0.1372104127318815\n",
      "string_length 0.09212580159188367\n",
      "primary_organisation_title_5 0.07248842031608188\n",
      "total_to_unique_pageviews 0.05438509692506211\n",
      "profanities_count 0.03582745075448303\n",
      "feedex_comments 0.0\n",
      "number_of_internal_searches 0.0\n",
      "exits 0.0\n",
      "entrances 0.0\n",
      "avg_time_on_page 0.0\n",
      "number_of_pdfs 0.0\n",
      "number_of_word_files 0.0\n",
      "readability_score 0.0\n",
      "contractions_count 0.0\n",
      "equality_count 0.0\n",
      "indefinite_article_count 0.0\n",
      "passive_count 0.0\n",
      "redundant_acronyms_count 0.0\n",
      "repeated_words_count 0.0\n",
      "simplify_count 0.0\n",
      "spell_count 0.0\n",
      "sentence_count 0.0\n",
      "word_count 0.0\n",
      "count_survey_responses 0.0\n",
      "response_per_pageview 0.0\n",
      "feedex_per_unique_1000 0.0\n",
      "document_type_0 0.0\n",
      "document_type_1 0.0\n",
      "document_type_2 0.0\n",
      "document_type_3 0.0\n",
      "document_type_4 0.0\n",
      "document_type_5 0.0\n",
      "document_type_6 0.0\n",
      "document_type_7 0.0\n",
      "document_type_8 0.0\n",
      "document_type_9 0.0\n",
      "document_type_10 0.0\n",
      "document_type_11 0.0\n",
      "document_type_12 0.0\n",
      "document_type_13 0.0\n",
      "document_type_14 0.0\n",
      "document_type_15 0.0\n",
      "document_type_16 0.0\n",
      "document_type_17 0.0\n",
      "document_type_18 0.0\n",
      "document_type_19 0.0\n",
      "document_type_20 0.0\n",
      "document_type_21 0.0\n",
      "document_type_22 0.0\n",
      "document_type_23 0.0\n",
      "document_type_24 0.0\n",
      "document_type_25 0.0\n",
      "document_type_26 0.0\n",
      "document_type_27 0.0\n",
      "document_type_28 0.0\n",
      "document_type_29 0.0\n",
      "document_type_30 0.0\n",
      "document_type_31 0.0\n",
      "document_type_32 0.0\n",
      "document_type_33 0.0\n",
      "document_type_34 0.0\n",
      "document_type_35 0.0\n",
      "document_type_36 0.0\n",
      "document_type_37 0.0\n",
      "document_type_39 0.0\n",
      "document_type_-1 0.0\n",
      "content_purpose_document_supertype_0 0.0\n",
      "content_purpose_document_supertype_1 0.0\n",
      "content_purpose_document_supertype_2 0.0\n",
      "content_purpose_document_supertype_3 0.0\n",
      "content_purpose_document_supertype_4 0.0\n",
      "content_purpose_document_supertype_5 0.0\n",
      "content_purpose_document_supertype_6 0.0\n",
      "content_purpose_document_supertype_7 0.0\n",
      "content_purpose_document_supertype_8 0.0\n",
      "content_purpose_document_supertype_9 0.0\n",
      "content_purpose_document_supertype_10 0.0\n",
      "content_purpose_document_supertype_-1 0.0\n",
      "primary_organisation_title_1 0.0\n",
      "primary_organisation_title_2 0.0\n",
      "primary_organisation_title_3 0.0\n",
      "primary_organisation_title_4 0.0\n",
      "primary_organisation_title_6 0.0\n",
      "primary_organisation_title_7 0.0\n",
      "primary_organisation_title_8 0.0\n",
      "primary_organisation_title_9 0.0\n",
      "primary_organisation_title_10 0.0\n",
      "primary_organisation_title_11 0.0\n",
      "primary_organisation_title_12 0.0\n",
      "primary_organisation_title_13 0.0\n",
      "primary_organisation_title_14 0.0\n",
      "primary_organisation_title_15 0.0\n",
      "primary_organisation_title_16 0.0\n",
      "primary_organisation_title_17 0.0\n",
      "primary_organisation_title_18 0.0\n",
      "primary_organisation_title_19 0.0\n",
      "primary_organisation_title_20 0.0\n",
      "primary_organisation_title_-1 0.0\n"
     ]
    }
   ],
   "source": [
    "for name, score in sorted(dict(zip(num_attribs + cat_names, \n",
    "                        tree_reg.feature_importances_)).items(), key=operator.itemgetter(1), reverse=True):\n",
    "    print(name, score)"
   ]
  },
  {
   "cell_type": "markdown",
   "metadata": {},
   "source": [
    "### Gradient boosted random forest"
   ]
  },
  {
   "cell_type": "code",
   "execution_count": 38,
   "metadata": {},
   "outputs": [],
   "source": [
    "X_train, X_val, y_train, y_val = train_test_split(x_vars_prepared, accurate_proportions['useful_per_responses'])"
   ]
  },
  {
   "cell_type": "code",
   "execution_count": 57,
   "metadata": {},
   "outputs": [],
   "source": [
    "gbrt = GradientBoostingRegressor(max_depth=2, warm_start=True, random_state=17)"
   ]
  },
  {
   "cell_type": "code",
   "execution_count": 58,
   "metadata": {},
   "outputs": [],
   "source": [
    "#This is adapted from hands-on machine learning with scikit-learn and tensorflow\n",
    "#Increase by one tree each time and get error, if error going down continue, otherwise wait for 5 trees then stop\n",
    "\n",
    "min_val_error = float(\"inf\")\n",
    "error_going_up = 0\n",
    "for n_estimators in range(1, 120):\n",
    "    gbrt.n_estimators = n_estimators\n",
    "    gbrt.fit(X_train, y_train)\n",
    "    y_pred = gbrt.predict(X_val)\n",
    "    val_error = mean_squared_error(y_val, y_pred)\n",
    "    if val_error < min_val_error:\n",
    "        min_val_error = val_error\n",
    "        error_going_up = 0\n",
    "    else:\n",
    "        error_going_up += 1\n",
    "        if error_going_up == 5:\n",
    "            break"
   ]
  },
  {
   "cell_type": "code",
   "execution_count": 105,
   "metadata": {},
   "outputs": [
    {
     "data": {
      "text/plain": [
       "0.16566221778114618"
      ]
     },
     "execution_count": 105,
     "metadata": {},
     "output_type": "execute_result"
    }
   ],
   "source": [
    "#% error in usefulness estimate at stopping\n",
    "np.sqrt(val_error)"
   ]
  },
  {
   "cell_type": "code",
   "execution_count": 70,
   "metadata": {},
   "outputs": [
    {
     "data": {
      "text/plain": [
       "0.027443970400167904"
      ]
     },
     "execution_count": 70,
     "metadata": {},
     "output_type": "execute_result"
    }
   ],
   "source": [
    "val_error"
   ]
  },
  {
   "cell_type": "code",
   "execution_count": 60,
   "metadata": {},
   "outputs": [
    {
     "data": {
      "text/plain": [
       "0.5099938579366516"
      ]
     },
     "execution_count": 60,
     "metadata": {},
     "output_type": "execute_result"
    }
   ],
   "source": [
    "np.mean(accurate_proportions['useful_per_responses'])"
   ]
  },
  {
   "cell_type": "markdown",
   "metadata": {},
   "source": [
    "typical prediction error of 17%"
   ]
  },
  {
   "cell_type": "code",
   "execution_count": 63,
   "metadata": {},
   "outputs": [
    {
     "data": {
      "text/plain": [
       "GradientBoostingRegressor(alpha=0.9, criterion='friedman_mse', init=None,\n",
       "             learning_rate=0.1, loss='ls', max_depth=2, max_features=None,\n",
       "             max_leaf_nodes=None, min_impurity_decrease=0.0,\n",
       "             min_impurity_split=None, min_samples_leaf=1,\n",
       "             min_samples_split=2, min_weight_fraction_leaf=0.0,\n",
       "             n_estimators=57, presort='auto', random_state=17,\n",
       "             subsample=1.0, verbose=0, warm_start=True)"
      ]
     },
     "execution_count": 63,
     "metadata": {},
     "output_type": "execute_result"
    }
   ],
   "source": [
    "gbrt"
   ]
  },
  {
   "cell_type": "code",
   "execution_count": 64,
   "metadata": {},
   "outputs": [],
   "source": [
    "params = {'n_estimators': 57, 'max_depth': 2, 'min_samples_split': 2,\n",
    "          'learning_rate': 0.01, 'loss': 'ls'}"
   ]
  },
  {
   "cell_type": "code",
   "execution_count": 65,
   "metadata": {},
   "outputs": [
    {
     "data": {
      "text/plain": [
       "array([0., 0., 0., 0., 0., 0., 0., 0., 0., 0., 0., 0., 0., 0., 0., 0., 0.,\n",
       "       0., 0., 0., 0., 0., 0., 0., 0., 0., 0., 0., 0., 0., 0., 0., 0., 0.,\n",
       "       0., 0., 0., 0., 0., 0., 0., 0., 0., 0., 0., 0., 0., 0., 0., 0., 0.,\n",
       "       0., 0., 0., 0., 0., 0.])"
      ]
     },
     "execution_count": 65,
     "metadata": {},
     "output_type": "execute_result"
    }
   ],
   "source": [
    "np.zeros((params['n_estimators'],), dtype=np.float64)"
   ]
  },
  {
   "cell_type": "code",
   "execution_count": 106,
   "metadata": {},
   "outputs": [],
   "source": [
    "#Also see handson machinel elarning text book\n",
    "#Instead of just ealry stopping, keep all results until stop so error can be plotted over trees\n",
    "\n",
    "# deviance = MSE = ._loss\n",
    "test_score = np.zeros((params['n_estimators'],), dtype=np.float64)\n",
    "error = np.zeros((params['n_estimators'],), dtype=np.float64)\n",
    "\n",
    "for i, y_pred in enumerate(gbrt.staged_predict(X_val)): #number of iterations staged_predict(X)\tPredict regression target at each stage for X.\n",
    "    test_score[i] = gbrt.loss_(y_val, y_pred) #'loss': ‘ls’ refers to least squares regression\n",
    "    error[i] = mean_squared_error(y_val, y_pred)\n",
    "    \n",
    "    if test_score[i] != error[i]:\n",
    "        print(\"they're different\")\n"
   ]
  },
  {
   "cell_type": "code",
   "execution_count": 67,
   "metadata": {},
   "outputs": [
    {
     "data": {
      "text/plain": [
       "(144, 100)"
      ]
     },
     "execution_count": 67,
     "metadata": {},
     "output_type": "execute_result"
    }
   ],
   "source": [
    "X_val.shape"
   ]
  },
  {
   "cell_type": "code",
   "execution_count": 68,
   "metadata": {},
   "outputs": [
    {
     "data": {
      "text/plain": [
       "(57,)"
      ]
     },
     "execution_count": 68,
     "metadata": {},
     "output_type": "execute_result"
    }
   ],
   "source": [
    "gbrt.train_score_.shape"
   ]
  },
  {
   "cell_type": "code",
   "execution_count": 69,
   "metadata": {},
   "outputs": [
    {
     "data": {
      "text/plain": [
       "Text(0,0.5,'MSE')"
      ]
     },
     "execution_count": 69,
     "metadata": {},
     "output_type": "execute_result"
    },
    {
     "data": {
      "image/png": "[encoded data removed]",
      "text/plain": [
       "<Figure size 864x432 with 1 Axes>"
      ]
     },
     "metadata": {},
     "output_type": "display_data"
    }
   ],
   "source": [
    "# Plot training deviance\n",
    "\n",
    "# compute test set deviance\n",
    "test_score = np.zeros((params['n_estimators'],), dtype=np.float64)\n",
    "\n",
    "for i, y_pred in enumerate(gbrt.staged_predict(X_val)): #number of iterations staged_predict(X)\tPredict regression target at each stage for X.\n",
    "    test_score[i] = gbrt.loss_(y_val, y_pred) #'loss': ‘ls’ refers to least squares regression\n",
    "\n",
    "plt.figure(figsize=(12, 6))\n",
    "plt.subplot(1, 2, 1)\n",
    "plt.title('Mean Squared Error (MSE)')\n",
    "plt.plot(np.arange(params['n_estimators']) + 1, gbrt.train_score_, 'b-',\n",
    "         label='Training Set MSE')\n",
    "plt.plot(np.arange(params['n_estimators']) + 1, test_score, 'r-',\n",
    "         label='Validation Set MSE')\n",
    "plt.legend(loc='upper right')\n",
    "plt.xlabel('Number of trees (boosting iterations)')\n",
    "plt.ylabel('MSE')"
   ]
  },
  {
   "cell_type": "code",
   "execution_count": 114,
   "metadata": {},
   "outputs": [],
   "source": [
    "# Plot feature importance\n",
    "feature_importance = gbrt.feature_importances_\n",
    "# make importances relative to max importance\n",
    "feature_importance = 100.0 * (feature_importance / feature_importance.max())\n",
    "sorted_idx = np.argsort(feature_importance)\n",
    "pos = np.arange(sorted_idx.shape[0]) + .5\n",
    "\n",
    "#Needs correcting to sort labels \n",
    "# plt.subplot(1, 2, 2)\n",
    "# plt.barh(pos, feature_importance[sorted_idx], align='center')\n",
    "# plt.yticks(pos, x_vars_labels) # Think ths is an error becaise labels are not getting sroted\n",
    "# plt.xlabel('Relative Importance')\n",
    "# plt.title('Variable Importance')\n",
    "# plt.show()"
   ]
  },
  {
   "cell_type": "code",
   "execution_count": 113,
   "metadata": {},
   "outputs": [
    {
     "name": "stdout",
     "output_type": "stream",
     "text": [
      "searches_per_pageview_1000 100.0\n",
      "bounce_rate 62.78396627829191\n",
      "number_of_internal_searches 49.391551592295066\n",
      "response_per_unique_pageview 41.82157190409575\n",
      "profanities_count 39.94161427177248\n",
      "feedex_per_unique_1000 28.34345376061626\n",
      "total_to_unique_pageviews 25.72432194304215\n",
      "feedex_comments 24.40036602858406\n",
      "avg_time_on_page 20.60974599809924\n",
      "sentence_count 14.624463200134095\n",
      "contractions_count 13.882683845109092\n",
      "document_type_12 11.664239203553464\n",
      "count_survey_responses 11.525564929020431\n",
      "document_type_5 11.364167151269623\n",
      "response_per_pageview 10.694599262121612\n",
      "simplify_count 9.956243888960786\n",
      "string_length 8.807864940730019\n",
      "document_type_21 8.596630457454388\n",
      "primary_organisation_title_10 8.2376624735847\n",
      "exits 8.13229673521578\n",
      "number_of_pdfs 5.175815007149762\n",
      "document_type_31 5.157112927826344\n",
      "entrances 4.894965784384077\n",
      "primary_organisation_title_18 4.44293015464239\n",
      "primary_organisation_title_5 4.090120610065264\n",
      "document_type_4 3.953753685823083\n",
      "primary_organisation_title_4 3.5440094285689194\n",
      "readability_score 2.571034029467974\n",
      "word_count 2.3189381440329724\n",
      "document_type_10 1.6167865862409991\n",
      "number_of_word_files 0.0\n",
      "equality_count 0.0\n",
      "indefinite_article_count 0.0\n",
      "passive_count 0.0\n",
      "redundant_acronyms_count 0.0\n",
      "repeated_words_count 0.0\n",
      "spell_count 0.0\n",
      "document_type_0 0.0\n",
      "document_type_1 0.0\n",
      "document_type_2 0.0\n",
      "document_type_3 0.0\n",
      "document_type_6 0.0\n",
      "document_type_7 0.0\n",
      "document_type_8 0.0\n",
      "document_type_9 0.0\n",
      "document_type_11 0.0\n",
      "document_type_13 0.0\n",
      "document_type_14 0.0\n",
      "document_type_15 0.0\n",
      "document_type_16 0.0\n",
      "document_type_17 0.0\n",
      "document_type_18 0.0\n",
      "document_type_19 0.0\n",
      "document_type_20 0.0\n",
      "document_type_22 0.0\n",
      "document_type_23 0.0\n",
      "document_type_24 0.0\n",
      "document_type_25 0.0\n",
      "document_type_26 0.0\n",
      "document_type_27 0.0\n",
      "document_type_28 0.0\n",
      "document_type_29 0.0\n",
      "document_type_30 0.0\n",
      "document_type_32 0.0\n",
      "document_type_33 0.0\n",
      "document_type_34 0.0\n",
      "document_type_35 0.0\n",
      "document_type_36 0.0\n",
      "document_type_37 0.0\n",
      "document_type_39 0.0\n",
      "document_type_-1 0.0\n",
      "content_purpose_document_supertype_0 0.0\n",
      "content_purpose_document_supertype_1 0.0\n",
      "content_purpose_document_supertype_2 0.0\n",
      "content_purpose_document_supertype_3 0.0\n",
      "content_purpose_document_supertype_4 0.0\n",
      "content_purpose_document_supertype_5 0.0\n",
      "content_purpose_document_supertype_6 0.0\n",
      "content_purpose_document_supertype_7 0.0\n",
      "content_purpose_document_supertype_8 0.0\n",
      "content_purpose_document_supertype_9 0.0\n",
      "content_purpose_document_supertype_10 0.0\n",
      "content_purpose_document_supertype_-1 0.0\n",
      "primary_organisation_title_1 0.0\n",
      "primary_organisation_title_2 0.0\n",
      "primary_organisation_title_3 0.0\n",
      "primary_organisation_title_6 0.0\n",
      "primary_organisation_title_7 0.0\n",
      "primary_organisation_title_8 0.0\n",
      "primary_organisation_title_9 0.0\n",
      "primary_organisation_title_11 0.0\n",
      "primary_organisation_title_12 0.0\n",
      "primary_organisation_title_13 0.0\n",
      "primary_organisation_title_14 0.0\n",
      "primary_organisation_title_15 0.0\n",
      "primary_organisation_title_16 0.0\n",
      "primary_organisation_title_17 0.0\n",
      "primary_organisation_title_19 0.0\n",
      "primary_organisation_title_20 0.0\n",
      "primary_organisation_title_-1 0.0\n"
     ]
    }
   ],
   "source": [
    "for name, score in sorted(dict(zip(x_vars_labels, \n",
    "                        feature_importance)).items(), key=operator.itemgetter(1), reverse=True):\n",
    "    print(name, score)"
   ]
  },
  {
   "cell_type": "code",
   "execution_count": 108,
   "metadata": {},
   "outputs": [
    {
     "name": "stdout",
     "output_type": "stream",
     "text": [
      "searches_per_pageview_1000 0.18239239478774233\n",
      "bounce_rate 0.1145131796377052\n",
      "number_of_internal_searches 0.09008643377201024\n",
      "response_per_unique_pageview 0.07627936653375784\n",
      "profanities_count 0.0728504667871685\n",
      "feedex_per_unique_1000 0.05169630407954441\n",
      "total_to_unique_pageviews 0.04691920683482327\n",
      "feedex_comments 0.044504411936509204\n",
      "avg_time_on_page 0.037590609285604086\n",
      "sentence_count 0.026673908655576672\n",
      "contractions_count 0.025320959525905504\n",
      "document_type_12 0.021274685217131845\n",
      "count_survey_responses 0.02102175388685652\n",
      "document_type_5 0.020727376614882623\n",
      "response_per_pageview 0.019506135707135826\n",
      "simplify_count 0.018159431659983828\n",
      "string_length 0.01606487579506744\n",
      "document_type_21 0.015679600162403506\n",
      "primary_organisation_title_10 0.015024869860102307\n",
      "exits 0.014832690766605447\n",
      "number_of_pdfs 0.009440292941323807\n",
      "document_type_31 0.009406181770970723\n",
      "entrances 0.008928045318178713\n",
      "primary_organisation_title_18 0.008103566707799\n",
      "primary_organisation_title_5 0.007460068930405052\n",
      "document_type_4 0.007211346031581351\n",
      "primary_organisation_title_4 0.006464003668270234\n",
      "readability_score 0.004689370537154427\n",
      "word_count 0.004229566814548164\n",
      "document_type_10 0.002948895773251945\n",
      "number_of_word_files 0.0\n",
      "equality_count 0.0\n",
      "indefinite_article_count 0.0\n",
      "passive_count 0.0\n",
      "redundant_acronyms_count 0.0\n",
      "repeated_words_count 0.0\n",
      "spell_count 0.0\n",
      "document_type_0 0.0\n",
      "document_type_1 0.0\n",
      "document_type_2 0.0\n",
      "document_type_3 0.0\n",
      "document_type_6 0.0\n",
      "document_type_7 0.0\n",
      "document_type_8 0.0\n",
      "document_type_9 0.0\n",
      "document_type_11 0.0\n",
      "document_type_13 0.0\n",
      "document_type_14 0.0\n",
      "document_type_15 0.0\n",
      "document_type_16 0.0\n",
      "document_type_17 0.0\n",
      "document_type_18 0.0\n",
      "document_type_19 0.0\n",
      "document_type_20 0.0\n",
      "document_type_22 0.0\n",
      "document_type_23 0.0\n",
      "document_type_24 0.0\n",
      "document_type_25 0.0\n",
      "document_type_26 0.0\n",
      "document_type_27 0.0\n",
      "document_type_28 0.0\n",
      "document_type_29 0.0\n",
      "document_type_30 0.0\n",
      "document_type_32 0.0\n",
      "document_type_33 0.0\n",
      "document_type_34 0.0\n",
      "document_type_35 0.0\n",
      "document_type_36 0.0\n",
      "document_type_37 0.0\n",
      "document_type_39 0.0\n",
      "document_type_-1 0.0\n",
      "content_purpose_document_supertype_0 0.0\n",
      "content_purpose_document_supertype_1 0.0\n",
      "content_purpose_document_supertype_2 0.0\n",
      "content_purpose_document_supertype_3 0.0\n",
      "content_purpose_document_supertype_4 0.0\n",
      "content_purpose_document_supertype_5 0.0\n",
      "content_purpose_document_supertype_6 0.0\n",
      "content_purpose_document_supertype_7 0.0\n",
      "content_purpose_document_supertype_8 0.0\n",
      "content_purpose_document_supertype_9 0.0\n",
      "content_purpose_document_supertype_10 0.0\n",
      "content_purpose_document_supertype_-1 0.0\n",
      "primary_organisation_title_1 0.0\n",
      "primary_organisation_title_2 0.0\n",
      "primary_organisation_title_3 0.0\n",
      "primary_organisation_title_6 0.0\n",
      "primary_organisation_title_7 0.0\n",
      "primary_organisation_title_8 0.0\n",
      "primary_organisation_title_9 0.0\n",
      "primary_organisation_title_11 0.0\n",
      "primary_organisation_title_12 0.0\n",
      "primary_organisation_title_13 0.0\n",
      "primary_organisation_title_14 0.0\n",
      "primary_organisation_title_15 0.0\n",
      "primary_organisation_title_16 0.0\n",
      "primary_organisation_title_17 0.0\n",
      "primary_organisation_title_19 0.0\n",
      "primary_organisation_title_20 0.0\n",
      "primary_organisation_title_-1 0.0\n"
     ]
    }
   ],
   "source": [
    "for name, score in sorted(dict(zip(num_attribs + cat_names, \n",
    "                        gbrt.feature_importances_)).items(), key=operator.itemgetter(1), reverse=True):\n",
    "    print(name, score)"
   ]
  }
 ],
 "metadata": {
  "kernelspec": {
   "display_name": "give_data",
   "language": "python",
   "name": "give_data"
  },
  "language_info": {
   "codemirror_mode": {
    "name": "ipython",
    "version": 3
   },
   "file_extension": ".py",
   "mimetype": "text/x-python",
   "name": "python",
   "nbconvert_exporter": "python",
   "pygments_lexer": "ipython3",
   "version": "3.6.5"
  }
 },
 "nbformat": 4,
 "nbformat_minor": 2
}
