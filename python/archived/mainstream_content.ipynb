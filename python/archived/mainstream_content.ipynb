{
 "cells": [
  {
   "cell_type": "code",
   "execution_count": 2,
   "metadata": {},
   "outputs": [
    {
     "name": "stdout",
     "output_type": "stream",
     "text": [
      "2018-05-09 18:22:41,408 - mainstream_data - INFO - using data from postgresql://ellieking@localhost:5432/givedata_180504\n"
     ]
    }
   ],
   "source": [
    "import os\n",
    "import pandas as pd\n",
    "import logging.config\n",
    "import matplotlib.pyplot as plt\n",
    "import numpy as np\n",
    "from cycler import cycler #for matplotlib colors\n",
    "import seaborn as sns\n",
    "from sklearn import preprocessing\n",
    "from sqlalchemy import create_engine\n",
    "\n",
    "\n",
    "\n",
    "LOGGING_CONFIG = os.getenv('LOGGING_CONFIG')\n",
    "logging.config.fileConfig(LOGGING_CONFIG)\n",
    "logger = logging.getLogger('mainstream_data')\n",
    "\n",
    "DATADIR = os.getenv('DATADIR')\n",
    "ENGINE = os.getenv('ENGINE')\n",
    "logger.info(\"using data from {}\".format(ENGINE))"
   ]
  },
  {
   "cell_type": "markdown",
   "metadata": {},
   "source": [
    "### Read in data"
   ]
  },
  {
   "cell_type": "code",
   "execution_count": null,
   "metadata": {},
   "outputs": [
    {
     "name": "stdout",
     "output_type": "stream",
     "text": [
      "2018-05-09 18:22:41,884 - mainstream_data - INFO - Importing facts_metrics\n"
     ]
    }
   ],
   "source": [
    "# ### Read in data\n",
    "engine = create_engine(ENGINE)\n",
    "\n",
    "logger.info('Importing facts_metrics')\n",
    "facts_metrics = pd.read_sql_query('select * from \"facts_metrics\"',con=engine)\n",
    "logger.info('Importing dates')\n",
    "dates = pd.read_sql_query('select * from \"dimensions_dates\"',con=engine)\n",
    "logger.info('Dropping {} dates duplicates'.format(sum(dates.duplicated())))\n",
    "dates = dates.drop_duplicates()\n",
    "logger.info('Importing items')\n",
    "items = pd.read_sql_query('select * from \"dimensions_items\"',con=engine)"
   ]
  },
  {
   "cell_type": "code",
   "execution_count": null,
   "metadata": {},
   "outputs": [],
   "source": [
    "items.columns"
   ]
  },
  {
   "cell_type": "code",
   "execution_count": null,
   "metadata": {},
   "outputs": [],
   "source": [
    "mainstream_doctypes = ['answer',\n",
    "                       'completed_transaction', \n",
    "                       'guide', \n",
    "                       'help_page', \n",
    "                       'licence', \n",
    "                       'local_transaction', \n",
    "                       'place', \n",
    "                       'simple_smart_answer', \n",
    "                       'transaction']\n",
    "mainstream = items.loc[items['document_type'].isin(mainstream_doctypes)]"
   ]
  },
  {
   "cell_type": "markdown",
   "metadata": {},
   "source": [
    "### Join facts_metrics to specific item variables"
   ]
  },
  {
   "cell_type": "code",
   "execution_count": null,
   "metadata": {},
   "outputs": [],
   "source": [
    "mainstream_facts_metrics = pd.merge(\n",
    "    left=facts_metrics,\n",
    "    right=mainstream,\n",
    "    how='inner',\n",
    "    left_on='dimensions_item_id', # \n",
    "    right_on='id'\n",
    ")"
   ]
  },
  {
   "cell_type": "code",
   "execution_count": null,
   "metadata": {},
   "outputs": [],
   "source": [
    "mainstream_facts_metrics = mainstream_facts_metrics.drop(['id_x', 'id_y', 'created_at_x',\n",
    "       'updated_at_x', 'created_at_y',\n",
    "       'updated_at_y'], axis=1).copy()"
   ]
  },
  {
   "cell_type": "code",
   "execution_count": null,
   "metadata": {},
   "outputs": [],
   "source": [
    "mainstream_facts_metrics.shape"
   ]
  },
  {
   "cell_type": "code",
   "execution_count": null,
   "metadata": {},
   "outputs": [],
   "source": [
    "mainstream_facts_metrics.to_csv('DATA/mainstream_content.csv.gz', compression='gzip')"
   ]
  },
  {
   "cell_type": "markdown",
   "metadata": {},
   "source": [
    "# Get row per content ID and data from 11APR18"
   ]
  },
  {
   "cell_type": "code",
   "execution_count": null,
   "metadata": {},
   "outputs": [],
   "source": [
    "wed11 = facts_metrics[facts_metrics['dimensions_date_id']==(datetime.date(2018, 4, 14))]"
   ]
  },
  {
   "cell_type": "code",
   "execution_count": null,
   "metadata": {},
   "outputs": [],
   "source": [
    "wed11.shape"
   ]
  },
  {
   "cell_type": "code",
   "execution_count": null,
   "metadata": {},
   "outputs": [],
   "source": [
    "wed11 = wed11.drop('id', axis=1)"
   ]
  },
  {
   "cell_type": "code",
   "execution_count": null,
   "metadata": {},
   "outputs": [],
   "source": [
    "wed11.head()"
   ]
  },
  {
   "cell_type": "code",
   "execution_count": null,
   "metadata": {},
   "outputs": [],
   "source": [
    "facts_metrics.shape"
   ]
  },
  {
   "cell_type": "code",
   "execution_count": null,
   "metadata": {},
   "outputs": [],
   "source": [
    "content_wed11 = pd.merge(wed11, mainstream, how='inner', \n",
    "                         left_on='dimensions_item_id', \n",
    "                         right_on='id')"
   ]
  },
  {
   "cell_type": "code",
   "execution_count": null,
   "metadata": {},
   "outputs": [],
   "source": [
    "content_wed11.shape"
   ]
  },
  {
   "cell_type": "code",
   "execution_count": null,
   "metadata": {},
   "outputs": [],
   "source": [
    "content_wed11.tail(20)"
   ]
  },
  {
   "cell_type": "code",
   "execution_count": null,
   "metadata": {},
   "outputs": [],
   "source": [
    "content_wed11.to_csv('DATA/mainstream_content_weds_11APR18.csv.gz', compression='gzip')"
   ]
  },
  {
   "cell_type": "code",
   "execution_count": null,
   "metadata": {},
   "outputs": [],
   "source": [
    "content_wed11.shape"
   ]
  },
  {
   "cell_type": "code",
   "execution_count": null,
   "metadata": {},
   "outputs": [],
   "source": [
    "content_wed11.content_id.nunique()"
   ]
  },
  {
   "cell_type": "code",
   "execution_count": null,
   "metadata": {},
   "outputs": [],
   "source": []
  }
 ],
 "metadata": {
  "kernelspec": {
   "display_name": "give_data",
   "language": "python",
   "name": "give_data"
  },
  "language_info": {
   "codemirror_mode": {
    "name": "ipython",
    "version": 3
   },
   "file_extension": ".py",
   "mimetype": "text/x-python",
   "name": "python",
   "nbconvert_exporter": "python",
   "pygments_lexer": "ipython3",
   "version": "3.6.5"
  }
 },
 "nbformat": 4,
 "nbformat_minor": 2
}
