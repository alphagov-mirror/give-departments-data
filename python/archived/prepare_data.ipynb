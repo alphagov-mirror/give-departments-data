{
 "cells": [
  {
   "cell_type": "code",
   "execution_count": 1,
   "metadata": {},
   "outputs": [],
   "source": [
    "import pandas as pd\n",
    "import matplotlib.pyplot as plt\n",
    "%matplotlib inline"
   ]
  },
  {
   "cell_type": "code",
   "execution_count": 2,
   "metadata": {},
   "outputs": [
    {
     "name": "stderr",
     "output_type": "stream",
     "text": [
      "/Users/ellieking/Documents/give-depts-data/give_data/lib/python3.6/site-packages/ggplot/utils.py:81: FutureWarning: pandas.tslib is deprecated and will be removed in a future version.\n",
      "You can access Timestamp as pandas.Timestamp\n",
      "  pd.tslib.Timestamp,\n",
      "/Users/ellieking/Documents/give-depts-data/give_data/lib/python3.6/site-packages/ggplot/stats/smoothers.py:4: FutureWarning: The pandas.lib module is deprecated and will be removed in a future version. These are private functions and can be accessed from pandas._libs.lib instead\n",
      "  from pandas.lib import Timestamp\n",
      "/Users/ellieking/Documents/give-depts-data/give_data/lib/python3.6/site-packages/statsmodels/compat/pandas.py:56: FutureWarning: The pandas.core.datetools module is deprecated and will be removed in a future version. Please use the pandas.tseries module instead.\n",
      "  from pandas.core import datetools\n"
     ]
    }
   ],
   "source": [
    "from ggplot import *"
   ]
  },
  {
   "cell_type": "code",
   "execution_count": 3,
   "metadata": {},
   "outputs": [],
   "source": [
    "from sqlalchemy import create_engine"
   ]
  },
  {
   "cell_type": "markdown",
   "metadata": {},
   "source": [
    "# Prepare data for exploratory data analyses\n",
    "1. Date of metric by fact, by document type/primary org (e.g., page views over date-dimension stratified by document type)\n",
    "2. content-specific performance metric (e.g. reading age) by user-related performance metric (e.g., page views) over a defined time-period (min-max in date dimension)"
   ]
  },
  {
   "cell_type": "markdown",
   "metadata": {},
   "source": [
    "### Read in data"
   ]
  },
  {
   "cell_type": "code",
   "execution_count": 4,
   "metadata": {},
   "outputs": [
    {
     "name": "stderr",
     "output_type": "stream",
     "text": [
      "/Users/ellieking/Documents/give-depts-data/give_data/lib/python3.6/site-packages/psycopg2/__init__.py:144: UserWarning: The psycopg2 wheel package will be renamed from release 2.8; in order to keep installing from binary please use \"pip install psycopg2-binary\" instead. For details see: <http://initd.org/psycopg/docs/install.html#binary-install-from-pypi>.\n",
      "  \"\"\")\n"
     ]
    }
   ],
   "source": [
    "engine = create_engine('postgresql://ellieking@localhost:5432/givedata')"
   ]
  },
  {
   "cell_type": "code",
   "execution_count": 5,
   "metadata": {},
   "outputs": [],
   "source": [
    "facts_metrics = pd.read_sql_query('select * from \"facts_metrics\"',con=engine)"
   ]
  },
  {
   "cell_type": "code",
   "execution_count": 6,
   "metadata": {},
   "outputs": [],
   "source": [
    "items = pd.read_sql_query('select * from \"dimensions_items\"',con=engine)"
   ]
  },
  {
   "cell_type": "markdown",
   "metadata": {},
   "source": [
    "### Join facts_metrics to specific item variables"
   ]
  },
  {
   "cell_type": "code",
   "execution_count": 7,
   "metadata": {},
   "outputs": [],
   "source": [
    "content_performance_bytime = pd.merge(\n",
    "    left=facts_metrics,\n",
    "    right=items[['id', 'document_type']],\n",
    "    left_on='dimensions_item_id', # which taxon is the content item tagged to\n",
    "    right_on='id', # what is the id of that taxon\n",
    "    how='outer', # keep everything for checking merge\n",
    "    indicator=True # so we can filter by match type\n",
    ")"
   ]
  },
  {
   "cell_type": "code",
   "execution_count": 8,
   "metadata": {},
   "outputs": [
    {
     "data": {
      "text/plain": [
       "_merge\n",
       "left_only           0\n",
       "right_only          1\n",
       "both          4197562\n",
       "dtype: int64"
      ]
     },
     "execution_count": 8,
     "metadata": {},
     "output_type": "execute_result"
    }
   ],
   "source": [
    "content_performance_bytime.groupby('_merge').size()"
   ]
  },
  {
   "cell_type": "code",
   "execution_count": null,
   "metadata": {},
   "outputs": [],
   "source": [
    "content_performance_bytime.to_csv('../DATA/content_performance_bytime', compression='gzip')"
   ]
  },
  {
   "cell_type": "code",
   "execution_count": 9,
   "metadata": {},
   "outputs": [
    {
     "data": {
      "text/html": [
       "<div>\n",
       "<style scoped>\n",
       "    .dataframe tbody tr th:only-of-type {\n",
       "        vertical-align: middle;\n",
       "    }\n",
       "\n",
       "    .dataframe tbody tr th {\n",
       "        vertical-align: top;\n",
       "    }\n",
       "\n",
       "    .dataframe thead th {\n",
       "        text-align: right;\n",
       "    }\n",
       "</style>\n",
       "<table border=\"1\" class=\"dataframe\">\n",
       "  <thead>\n",
       "    <tr style=\"text-align: right;\">\n",
       "      <th></th>\n",
       "      <th>id_x</th>\n",
       "      <th>dimensions_date_id</th>\n",
       "      <th>dimensions_item_id</th>\n",
       "      <th>created_at</th>\n",
       "      <th>updated_at</th>\n",
       "      <th>pageviews</th>\n",
       "      <th>unique_pageviews</th>\n",
       "      <th>feedex_comments</th>\n",
       "      <th>id_y</th>\n",
       "      <th>document_type</th>\n",
       "      <th>_merge</th>\n",
       "    </tr>\n",
       "  </thead>\n",
       "  <tbody>\n",
       "    <tr>\n",
       "      <th>4197562</th>\n",
       "      <td>NaN</td>\n",
       "      <td>NaN</td>\n",
       "      <td>NaN</td>\n",
       "      <td>NaT</td>\n",
       "      <td>NaT</td>\n",
       "      <td>NaN</td>\n",
       "      <td>NaN</td>\n",
       "      <td>NaN</td>\n",
       "      <td>3551332</td>\n",
       "      <td>None</td>\n",
       "      <td>right_only</td>\n",
       "    </tr>\n",
       "  </tbody>\n",
       "</table>\n",
       "</div>"
      ],
      "text/plain": [
       "         id_x dimensions_date_id  dimensions_item_id created_at updated_at  \\\n",
       "4197562   NaN                NaN                 NaN        NaT        NaT   \n",
       "\n",
       "         pageviews  unique_pageviews  feedex_comments     id_y document_type  \\\n",
       "4197562        NaN               NaN              NaN  3551332          None   \n",
       "\n",
       "             _merge  \n",
       "4197562  right_only  "
      ]
     },
     "execution_count": 9,
     "metadata": {},
     "output_type": "execute_result"
    }
   ],
   "source": [
    "content_performance_bytime[content_performance_bytime['_merge']=='right_only']"
   ]
  },
  {
   "cell_type": "markdown",
   "metadata": {},
   "source": [
    "### Dates to index for plots"
   ]
  },
  {
   "cell_type": "code",
   "execution_count": 10,
   "metadata": {},
   "outputs": [],
   "source": [
    "content_performance_bytime['date'] = pd.to_datetime(content_performance_bytime['dimensions_date_id'])"
   ]
  },
  {
   "cell_type": "code",
   "execution_count": 11,
   "metadata": {},
   "outputs": [],
   "source": [
    "content_performance_bytime.index = content_performance_bytime['date']"
   ]
  },
  {
   "cell_type": "markdown",
   "metadata": {},
   "source": [
    "### Page views over time, by doc type"
   ]
  },
  {
   "cell_type": "code",
   "execution_count": 79,
   "metadata": {},
   "outputs": [],
   "source": [
    "def plot_time_metric_byvar(df, metric, byvar):\n",
    "    grouped = df.groupby([byvar, pd.Grouper(freq='D')])[metric].sum()\n",
    "    by_day = grouped.unstack(byvar, fill_value=0)\n",
    "    top = by_day.iloc[:, by_day.columns.isin(by_day.min().sort_values(ascending=False)[:10].index)]\n",
    "    bottom = by_day.iloc[:, by_day.columns.isin(by_day.min().sort_values()[:10].index)]\n",
    "    \n",
    "    ax = top.plot()\n",
    "    ax.legend(loc='center left', bbox_to_anchor=(1, 0.5))\n",
    "    \n",
    "    ay = bottom.plot()\n",
    "    ay.legend(loc='center left', bbox_to_anchor=(1, 0.5))\n",
    "\n",
    "    return ax, ay\n",
    "    "
   ]
  },
  {
   "cell_type": "code",
   "execution_count": 80,
   "metadata": {},
   "outputs": [
    {
     "data": {
      "text/plain": [
       "(<matplotlib.axes._subplots.AxesSubplot at 0x1bf54ab00>,\n",
       " <matplotlib.axes._subplots.AxesSubplot at 0x1b6d84ef0>)"
      ]
     },
     "execution_count": 80,
     "metadata": {},
     "output_type": "execute_result"
    },
    {
     "data": {
      "image/png": "[encoded data removed]",
      "text/plain": [
       "<Figure size 432x288 with 1 Axes>"
      ]
     },
     "metadata": {},
     "output_type": "display_data"
    },
    {
     "data": {
      "image/png": "[encoded data removed]",
      "text/plain": [
       "<Figure size 432x288 with 1 Axes>"
      ]
     },
     "metadata": {},
     "output_type": "display_data"
    }
   ],
   "source": [
    "plot_time_metric_byvar(df=content_performance_bytime, metric='pageviews', byvar='document_type')"
   ]
  },
  {
   "cell_type": "code",
   "execution_count": 26,
   "metadata": {},
   "outputs": [],
   "source": [
    "doctype_grouped = content_performance_bytime.groupby(['document_type', pd.Grouper(freq='D')])['pageviews'].sum()"
   ]
  },
  {
   "cell_type": "code",
   "execution_count": 27,
   "metadata": {},
   "outputs": [
    {
     "data": {
      "text/plain": [
       "document_type           date      \n",
       "aaib_report             2018-04-08     1636.0\n",
       "                        2018-04-09     2168.0\n",
       "                        2018-04-10     1616.0\n",
       "                        2018-04-11     1657.0\n",
       "                        2018-04-12     1820.0\n",
       "                        2018-04-13     2517.0\n",
       "                        2018-04-14     1367.0\n",
       "                        2018-04-15     1488.0\n",
       "                        2018-04-16     1807.0\n",
       "                        2018-04-17     1888.0\n",
       "about                   2018-04-08     4512.0\n",
       "                        2018-04-09     9859.0\n",
       "                        2018-04-10    10415.0\n",
       "                        2018-04-11     9600.0\n",
       "                        2018-04-12     9333.0\n",
       "                        2018-04-13     7815.0\n",
       "                        2018-04-14     3620.0\n",
       "                        2018-04-15     4739.0\n",
       "                        2018-04-16    10861.0\n",
       "                        2018-04-17    10679.0\n",
       "about_our_services      2018-04-08     1297.0\n",
       "                        2018-04-09     4550.0\n",
       "                        2018-04-10     4548.0\n",
       "                        2018-04-11     4567.0\n",
       "                        2018-04-12     4243.0\n",
       "                        2018-04-13     3543.0\n",
       "                        2018-04-14     1194.0\n",
       "                        2018-04-15     1360.0\n",
       "                        2018-04-16     4525.0\n",
       "                        2018-04-17     4513.0\n",
       "                                       ...   \n",
       "world_news_story        2018-04-08     3407.0\n",
       "                        2018-04-09     5898.0\n",
       "                        2018-04-10     6033.0\n",
       "                        2018-04-11     5897.0\n",
       "                        2018-04-12     6205.0\n",
       "                        2018-04-13     5096.0\n",
       "                        2018-04-14     3917.0\n",
       "                        2018-04-15     3965.0\n",
       "                        2018-04-16     6473.0\n",
       "                        2018-04-17     6206.0\n",
       "worldwide_organisation  2018-04-08    14514.0\n",
       "                        2018-04-09    25751.0\n",
       "                        2018-04-10    24969.0\n",
       "                        2018-04-11    24445.0\n",
       "                        2018-04-12    23900.0\n",
       "                        2018-04-13    20221.0\n",
       "                        2018-04-14    13259.0\n",
       "                        2018-04-15    13978.0\n",
       "                        2018-04-16    26364.0\n",
       "                        2018-04-17    25309.0\n",
       "written_statement       2018-04-08      780.0\n",
       "                        2018-04-09     1683.0\n",
       "                        2018-04-10     1701.0\n",
       "                        2018-04-11     1635.0\n",
       "                        2018-04-12     1466.0\n",
       "                        2018-04-13     1338.0\n",
       "                        2018-04-14      686.0\n",
       "                        2018-04-15      818.0\n",
       "                        2018-04-16     1586.0\n",
       "                        2018-04-17     1862.0\n",
       "Name: pageviews, Length: 1410, dtype: float64"
      ]
     },
     "execution_count": 27,
     "metadata": {},
     "output_type": "execute_result"
    }
   ],
   "source": [
    "doctype_grouped"
   ]
  },
  {
   "cell_type": "code",
   "execution_count": 30,
   "metadata": {},
   "outputs": [],
   "source": [
    "doctype_by_day = doctype_grouped.unstack('document_type', fill_value=0)"
   ]
  },
  {
   "cell_type": "code",
   "execution_count": 64,
   "metadata": {},
   "outputs": [
    {
     "data": {
      "text/plain": [
       "Index(['aaib_report', 'about', 'about_our_services', 'access_and_opening',\n",
       "       'answer', 'asylum_support_decision', 'authored_article',\n",
       "       'business_finance_support_scheme', 'calculator', 'calendar',\n",
       "       ...\n",
       "       'travel_advice_index', 'unpublishing', 'utaac_decision',\n",
       "       'welsh_language_scheme', 'working_group', 'world_location',\n",
       "       'world_location_news_article', 'world_news_story',\n",
       "       'worldwide_organisation', 'written_statement'],\n",
       "      dtype='object', name='document_type', length=141)"
      ]
     },
     "execution_count": 64,
     "metadata": {},
     "output_type": "execute_result"
    }
   ],
   "source": [
    "doctype_by_day.columns"
   ]
  },
  {
   "cell_type": "code",
   "execution_count": 61,
   "metadata": {},
   "outputs": [
    {
     "data": {
      "text/plain": [
       "Index(['transaction', 'guide', 'answer', 'mainstream_browse_page',\n",
       "       'simple_smart_answer', 'guidance', 'detailed_guide', 'organisation',\n",
       "       'form', 'html_publication'],\n",
       "      dtype='object', name='document_type')"
      ]
     },
     "execution_count": 61,
     "metadata": {},
     "output_type": "execute_result"
    }
   ],
   "source": [
    "doctype_by_day.min().sort_values(ascending=False)[:10].index"
   ]
  },
  {
   "cell_type": "code",
   "execution_count": 67,
   "metadata": {},
   "outputs": [
    {
     "data": {
      "text/plain": [
       "array([False, False, False, False,  True, False, False, False, False,\n",
       "       False, False, False, False, False, False, False, False, False,\n",
       "       False, False, False, False,  True, False, False, False, False,\n",
       "       False, False, False, False, False, False, False, False, False,\n",
       "        True, False,  True,  True, False, False, False, False,  True,\n",
       "       False, False, False, False, False, False, False, False,  True,\n",
       "       False, False, False, False, False, False, False, False, False,\n",
       "       False, False, False, False, False, False, False, False, False,\n",
       "        True, False, False, False, False, False, False, False, False,\n",
       "       False, False, False, False, False, False, False, False, False,\n",
       "       False, False, False, False, False, False, False, False, False,\n",
       "       False, False, False, False, False, False, False, False, False,\n",
       "       False, False,  True, False, False, False, False, False, False,\n",
       "       False, False, False, False, False, False, False, False, False,\n",
       "       False, False,  True, False, False, False, False, False, False,\n",
       "       False, False, False, False, False, False])"
      ]
     },
     "execution_count": 67,
     "metadata": {},
     "output_type": "execute_result"
    }
   ],
   "source": [
    "doctype_by_day.columns.isin(doctype_by_day.min().sort_values(ascending=False)[:10].index)"
   ]
  },
  {
   "cell_type": "code",
   "execution_count": 69,
   "metadata": {},
   "outputs": [
    {
     "data": {
      "text/html": [
       "<div>\n",
       "<style scoped>\n",
       "    .dataframe tbody tr th:only-of-type {\n",
       "        vertical-align: middle;\n",
       "    }\n",
       "\n",
       "    .dataframe tbody tr th {\n",
       "        vertical-align: top;\n",
       "    }\n",
       "\n",
       "    .dataframe thead th {\n",
       "        text-align: right;\n",
       "    }\n",
       "</style>\n",
       "<table border=\"1\" class=\"dataframe\">\n",
       "  <thead>\n",
       "    <tr style=\"text-align: right;\">\n",
       "      <th>document_type</th>\n",
       "      <th>answer</th>\n",
       "      <th>detailed_guide</th>\n",
       "      <th>form</th>\n",
       "      <th>guidance</th>\n",
       "      <th>guide</th>\n",
       "      <th>html_publication</th>\n",
       "      <th>mainstream_browse_page</th>\n",
       "      <th>organisation</th>\n",
       "      <th>simple_smart_answer</th>\n",
       "      <th>transaction</th>\n",
       "    </tr>\n",
       "    <tr>\n",
       "      <th>date</th>\n",
       "      <th></th>\n",
       "      <th></th>\n",
       "      <th></th>\n",
       "      <th></th>\n",
       "      <th></th>\n",
       "      <th></th>\n",
       "      <th></th>\n",
       "      <th></th>\n",
       "      <th></th>\n",
       "      <th></th>\n",
       "    </tr>\n",
       "  </thead>\n",
       "  <tbody>\n",
       "    <tr>\n",
       "      <th>2018-04-08</th>\n",
       "      <td>379931.0</td>\n",
       "      <td>139298.0</td>\n",
       "      <td>114739.0</td>\n",
       "      <td>154098.0</td>\n",
       "      <td>846985.0</td>\n",
       "      <td>109163.0</td>\n",
       "      <td>342428.0</td>\n",
       "      <td>150520.0</td>\n",
       "      <td>246094.0</td>\n",
       "      <td>1193136.0</td>\n",
       "    </tr>\n",
       "    <tr>\n",
       "      <th>2018-04-09</th>\n",
       "      <td>684770.0</td>\n",
       "      <td>298206.0</td>\n",
       "      <td>282203.0</td>\n",
       "      <td>353049.0</td>\n",
       "      <td>1286113.0</td>\n",
       "      <td>233423.0</td>\n",
       "      <td>565964.0</td>\n",
       "      <td>409212.0</td>\n",
       "      <td>523613.0</td>\n",
       "      <td>2254905.0</td>\n",
       "    </tr>\n",
       "    <tr>\n",
       "      <th>2018-04-10</th>\n",
       "      <td>732596.0</td>\n",
       "      <td>329034.0</td>\n",
       "      <td>275999.0</td>\n",
       "      <td>360746.0</td>\n",
       "      <td>1587596.0</td>\n",
       "      <td>248165.0</td>\n",
       "      <td>559144.0</td>\n",
       "      <td>580302.0</td>\n",
       "      <td>490295.0</td>\n",
       "      <td>2824735.0</td>\n",
       "    </tr>\n",
       "    <tr>\n",
       "      <th>2018-04-11</th>\n",
       "      <td>622415.0</td>\n",
       "      <td>301323.0</td>\n",
       "      <td>261700.0</td>\n",
       "      <td>349053.0</td>\n",
       "      <td>1216551.0</td>\n",
       "      <td>234356.0</td>\n",
       "      <td>462603.0</td>\n",
       "      <td>417667.0</td>\n",
       "      <td>421481.0</td>\n",
       "      <td>2193918.0</td>\n",
       "    </tr>\n",
       "    <tr>\n",
       "      <th>2018-04-12</th>\n",
       "      <td>585420.0</td>\n",
       "      <td>291225.0</td>\n",
       "      <td>241308.0</td>\n",
       "      <td>355073.0</td>\n",
       "      <td>1359007.0</td>\n",
       "      <td>223015.0</td>\n",
       "      <td>464781.0</td>\n",
       "      <td>249368.0</td>\n",
       "      <td>285804.0</td>\n",
       "      <td>1758086.0</td>\n",
       "    </tr>\n",
       "    <tr>\n",
       "      <th>2018-04-13</th>\n",
       "      <td>561696.0</td>\n",
       "      <td>250599.0</td>\n",
       "      <td>230943.0</td>\n",
       "      <td>290182.0</td>\n",
       "      <td>1259375.0</td>\n",
       "      <td>193263.0</td>\n",
       "      <td>376788.0</td>\n",
       "      <td>350410.0</td>\n",
       "      <td>352354.0</td>\n",
       "      <td>2084683.0</td>\n",
       "    </tr>\n",
       "    <tr>\n",
       "      <th>2018-04-14</th>\n",
       "      <td>320777.0</td>\n",
       "      <td>113231.0</td>\n",
       "      <td>95696.0</td>\n",
       "      <td>123932.0</td>\n",
       "      <td>736640.0</td>\n",
       "      <td>84296.0</td>\n",
       "      <td>250190.0</td>\n",
       "      <td>104624.0</td>\n",
       "      <td>226613.0</td>\n",
       "      <td>1360302.0</td>\n",
       "    </tr>\n",
       "    <tr>\n",
       "      <th>2018-04-15</th>\n",
       "      <td>396516.0</td>\n",
       "      <td>140756.0</td>\n",
       "      <td>113282.0</td>\n",
       "      <td>161294.0</td>\n",
       "      <td>904073.0</td>\n",
       "      <td>112745.0</td>\n",
       "      <td>324051.0</td>\n",
       "      <td>194799.0</td>\n",
       "      <td>240013.0</td>\n",
       "      <td>1730897.0</td>\n",
       "    </tr>\n",
       "    <tr>\n",
       "      <th>2018-04-16</th>\n",
       "      <td>712019.0</td>\n",
       "      <td>337236.0</td>\n",
       "      <td>295721.0</td>\n",
       "      <td>408504.0</td>\n",
       "      <td>1518615.0</td>\n",
       "      <td>263811.0</td>\n",
       "      <td>585037.0</td>\n",
       "      <td>602422.0</td>\n",
       "      <td>505261.0</td>\n",
       "      <td>2636359.0</td>\n",
       "    </tr>\n",
       "    <tr>\n",
       "      <th>2018-04-17</th>\n",
       "      <td>723363.0</td>\n",
       "      <td>343023.0</td>\n",
       "      <td>286174.0</td>\n",
       "      <td>424433.0</td>\n",
       "      <td>1527962.0</td>\n",
       "      <td>271287.0</td>\n",
       "      <td>556996.0</td>\n",
       "      <td>581057.0</td>\n",
       "      <td>326014.0</td>\n",
       "      <td>2695724.0</td>\n",
       "    </tr>\n",
       "  </tbody>\n",
       "</table>\n",
       "</div>"
      ],
      "text/plain": [
       "document_type    answer  detailed_guide      form  guidance      guide  \\\n",
       "date                                                                     \n",
       "2018-04-08     379931.0        139298.0  114739.0  154098.0   846985.0   \n",
       "2018-04-09     684770.0        298206.0  282203.0  353049.0  1286113.0   \n",
       "2018-04-10     732596.0        329034.0  275999.0  360746.0  1587596.0   \n",
       "2018-04-11     622415.0        301323.0  261700.0  349053.0  1216551.0   \n",
       "2018-04-12     585420.0        291225.0  241308.0  355073.0  1359007.0   \n",
       "2018-04-13     561696.0        250599.0  230943.0  290182.0  1259375.0   \n",
       "2018-04-14     320777.0        113231.0   95696.0  123932.0   736640.0   \n",
       "2018-04-15     396516.0        140756.0  113282.0  161294.0   904073.0   \n",
       "2018-04-16     712019.0        337236.0  295721.0  408504.0  1518615.0   \n",
       "2018-04-17     723363.0        343023.0  286174.0  424433.0  1527962.0   \n",
       "\n",
       "document_type  html_publication  mainstream_browse_page  organisation  \\\n",
       "date                                                                    \n",
       "2018-04-08             109163.0                342428.0      150520.0   \n",
       "2018-04-09             233423.0                565964.0      409212.0   \n",
       "2018-04-10             248165.0                559144.0      580302.0   \n",
       "2018-04-11             234356.0                462603.0      417667.0   \n",
       "2018-04-12             223015.0                464781.0      249368.0   \n",
       "2018-04-13             193263.0                376788.0      350410.0   \n",
       "2018-04-14              84296.0                250190.0      104624.0   \n",
       "2018-04-15             112745.0                324051.0      194799.0   \n",
       "2018-04-16             263811.0                585037.0      602422.0   \n",
       "2018-04-17             271287.0                556996.0      581057.0   \n",
       "\n",
       "document_type  simple_smart_answer  transaction  \n",
       "date                                             \n",
       "2018-04-08                246094.0    1193136.0  \n",
       "2018-04-09                523613.0    2254905.0  \n",
       "2018-04-10                490295.0    2824735.0  \n",
       "2018-04-11                421481.0    2193918.0  \n",
       "2018-04-12                285804.0    1758086.0  \n",
       "2018-04-13                352354.0    2084683.0  \n",
       "2018-04-14                226613.0    1360302.0  \n",
       "2018-04-15                240013.0    1730897.0  \n",
       "2018-04-16                505261.0    2636359.0  \n",
       "2018-04-17                326014.0    2695724.0  "
      ]
     },
     "execution_count": 69,
     "metadata": {},
     "output_type": "execute_result"
    }
   ],
   "source": [
    "doctype_by_day.iloc[:, doctype_by_day.columns.isin(doctype_by_day.min().sort_values(ascending=False)[:10].index)]"
   ]
  },
  {
   "cell_type": "code",
   "execution_count": 59,
   "metadata": {},
   "outputs": [
    {
     "ename": "KeyError",
     "evalue": "'None of [document_type\\ntransaction               1193136.0\\nguide                      736640.0\\nanswer                     320777.0\\nmainstream_browse_page     250190.0\\nsimple_smart_answer        226613.0\\nguidance                   123932.0\\ndetailed_guide             113231.0\\norganisation               104624.0\\nform                        95696.0\\nhtml_publication            84296.0\\ndtype: float64] are in the [columns]'",
     "output_type": "error",
     "traceback": [
      "\u001b[0;31m---------------------------------------------------------------------------\u001b[0m",
      "\u001b[0;31mKeyError\u001b[0m                                  Traceback (most recent call last)",
      "\u001b[0;32m<ipython-input-59-87d74e361e00>\u001b[0m in \u001b[0;36m<module>\u001b[0;34m()\u001b[0m\n\u001b[1;32m      1\u001b[0m \u001b[0;34m\u001b[0m\u001b[0m\n\u001b[1;32m      2\u001b[0m \u001b[0;31m#There are too many document types to plot on one chart so select the types with highest maximum\u001b[0m\u001b[0;34m\u001b[0m\u001b[0;34m\u001b[0m\u001b[0m\n\u001b[0;32m----> 3\u001b[0;31m \u001b[0mtop_views\u001b[0m \u001b[0;34m=\u001b[0m \u001b[0mdoctype_by_day\u001b[0m\u001b[0;34m.\u001b[0m\u001b[0mloc\u001b[0m\u001b[0;34m[\u001b[0m\u001b[0;34m:\u001b[0m\u001b[0;34m,\u001b[0m\u001b[0mdoctype_by_day\u001b[0m\u001b[0;34m.\u001b[0m\u001b[0mmin\u001b[0m\u001b[0;34m(\u001b[0m\u001b[0;34m)\u001b[0m\u001b[0;34m.\u001b[0m\u001b[0msort_values\u001b[0m\u001b[0;34m(\u001b[0m\u001b[0mascending\u001b[0m\u001b[0;34m=\u001b[0m\u001b[0;32mFalse\u001b[0m\u001b[0;34m)\u001b[0m\u001b[0;34m[\u001b[0m\u001b[0;34m:\u001b[0m\u001b[0;36m10\u001b[0m\u001b[0;34m]\u001b[0m\u001b[0;34m]\u001b[0m\u001b[0;34m\u001b[0m\u001b[0m\n\u001b[0m\u001b[1;32m      4\u001b[0m \u001b[0;34m\u001b[0m\u001b[0m\n\u001b[1;32m      5\u001b[0m \u001b[0max\u001b[0m \u001b[0;34m=\u001b[0m \u001b[0mtop_views\u001b[0m\u001b[0;34m.\u001b[0m\u001b[0mplot\u001b[0m\u001b[0;34m(\u001b[0m\u001b[0;34m)\u001b[0m\u001b[0;34m\u001b[0m\u001b[0m\n",
      "\u001b[0;32m~/Documents/give-depts-data/give_data/lib/python3.6/site-packages/pandas/core/indexing.py\u001b[0m in \u001b[0;36m__getitem__\u001b[0;34m(self, key)\u001b[0m\n\u001b[1;32m   1365\u001b[0m             \u001b[0;32mexcept\u001b[0m \u001b[0;34m(\u001b[0m\u001b[0mKeyError\u001b[0m\u001b[0;34m,\u001b[0m \u001b[0mIndexError\u001b[0m\u001b[0;34m)\u001b[0m\u001b[0;34m:\u001b[0m\u001b[0;34m\u001b[0m\u001b[0m\n\u001b[1;32m   1366\u001b[0m                 \u001b[0;32mpass\u001b[0m\u001b[0;34m\u001b[0m\u001b[0m\n\u001b[0;32m-> 1367\u001b[0;31m             \u001b[0;32mreturn\u001b[0m \u001b[0mself\u001b[0m\u001b[0;34m.\u001b[0m\u001b[0m_getitem_tuple\u001b[0m\u001b[0;34m(\u001b[0m\u001b[0mkey\u001b[0m\u001b[0;34m)\u001b[0m\u001b[0;34m\u001b[0m\u001b[0m\n\u001b[0m\u001b[1;32m   1368\u001b[0m         \u001b[0;32melse\u001b[0m\u001b[0;34m:\u001b[0m\u001b[0;34m\u001b[0m\u001b[0m\n\u001b[1;32m   1369\u001b[0m             \u001b[0;31m# we by definition only have the 0th axis\u001b[0m\u001b[0;34m\u001b[0m\u001b[0;34m\u001b[0m\u001b[0m\n",
      "\u001b[0;32m~/Documents/give-depts-data/give_data/lib/python3.6/site-packages/pandas/core/indexing.py\u001b[0m in \u001b[0;36m_getitem_tuple\u001b[0;34m(self, tup)\u001b[0m\n\u001b[1;32m    861\u001b[0m \u001b[0;34m\u001b[0m\u001b[0m\n\u001b[1;32m    862\u001b[0m         \u001b[0;31m# no multi-index, so validate all of the indexers\u001b[0m\u001b[0;34m\u001b[0m\u001b[0;34m\u001b[0m\u001b[0m\n\u001b[0;32m--> 863\u001b[0;31m         \u001b[0mself\u001b[0m\u001b[0;34m.\u001b[0m\u001b[0m_has_valid_tuple\u001b[0m\u001b[0;34m(\u001b[0m\u001b[0mtup\u001b[0m\u001b[0;34m)\u001b[0m\u001b[0;34m\u001b[0m\u001b[0m\n\u001b[0m\u001b[1;32m    864\u001b[0m \u001b[0;34m\u001b[0m\u001b[0m\n\u001b[1;32m    865\u001b[0m         \u001b[0;31m# ugly hack for GH #836\u001b[0m\u001b[0;34m\u001b[0m\u001b[0;34m\u001b[0m\u001b[0m\n",
      "\u001b[0;32m~/Documents/give-depts-data/give_data/lib/python3.6/site-packages/pandas/core/indexing.py\u001b[0m in \u001b[0;36m_has_valid_tuple\u001b[0;34m(self, key)\u001b[0m\n\u001b[1;32m    202\u001b[0m             \u001b[0;32mif\u001b[0m \u001b[0mi\u001b[0m \u001b[0;34m>=\u001b[0m \u001b[0mself\u001b[0m\u001b[0;34m.\u001b[0m\u001b[0mobj\u001b[0m\u001b[0;34m.\u001b[0m\u001b[0mndim\u001b[0m\u001b[0;34m:\u001b[0m\u001b[0;34m\u001b[0m\u001b[0m\n\u001b[1;32m    203\u001b[0m                 \u001b[0;32mraise\u001b[0m \u001b[0mIndexingError\u001b[0m\u001b[0;34m(\u001b[0m\u001b[0;34m'Too many indexers'\u001b[0m\u001b[0;34m)\u001b[0m\u001b[0;34m\u001b[0m\u001b[0m\n\u001b[0;32m--> 204\u001b[0;31m             \u001b[0;32mif\u001b[0m \u001b[0;32mnot\u001b[0m \u001b[0mself\u001b[0m\u001b[0;34m.\u001b[0m\u001b[0m_has_valid_type\u001b[0m\u001b[0;34m(\u001b[0m\u001b[0mk\u001b[0m\u001b[0;34m,\u001b[0m \u001b[0mi\u001b[0m\u001b[0;34m)\u001b[0m\u001b[0;34m:\u001b[0m\u001b[0;34m\u001b[0m\u001b[0m\n\u001b[0m\u001b[1;32m    205\u001b[0m                 raise ValueError(\"Location based indexing can only have \"\n\u001b[1;32m    206\u001b[0m                                  \u001b[0;34m\"[{types}] types\"\u001b[0m\u001b[0;34m\u001b[0m\u001b[0m\n",
      "\u001b[0;32m~/Documents/give-depts-data/give_data/lib/python3.6/site-packages/pandas/core/indexing.py\u001b[0m in \u001b[0;36m_has_valid_type\u001b[0;34m(self, key, axis)\u001b[0m\n\u001b[1;32m   1470\u001b[0m                         raise KeyError(\n\u001b[1;32m   1471\u001b[0m                             u\"None of [{key}] are in the [{axis}]\".format(\n\u001b[0;32m-> 1472\u001b[0;31m                                 key=key, axis=self.obj._get_axis_name(axis)))\n\u001b[0m\u001b[1;32m   1473\u001b[0m                     \u001b[0;32melse\u001b[0m\u001b[0;34m:\u001b[0m\u001b[0;34m\u001b[0m\u001b[0m\n\u001b[1;32m   1474\u001b[0m \u001b[0;34m\u001b[0m\u001b[0m\n",
      "\u001b[0;31mKeyError\u001b[0m: 'None of [document_type\\ntransaction               1193136.0\\nguide                      736640.0\\nanswer                     320777.0\\nmainstream_browse_page     250190.0\\nsimple_smart_answer        226613.0\\nguidance                   123932.0\\ndetailed_guide             113231.0\\norganisation               104624.0\\nform                        95696.0\\nhtml_publication            84296.0\\ndtype: float64] are in the [columns]'"
     ]
    }
   ],
   "source": [
    "\n",
    "#There are too many document types to plot on one chart so select the types with highest maximum\n",
    "top_views = doctype_by_day.loc[:,doctype_by_day.min().sort_values(ascending=False)[:10]]\n",
    "\n",
    "ax = top_views.plot()\n",
    "ax.legend(loc='center left', bbox_to_anchor=(1, 0.5))"
   ]
  },
  {
   "cell_type": "code",
   "execution_count": 52,
   "metadata": {},
   "outputs": [
    {
     "data": {
      "text/plain": [
       "<matplotlib.legend.Legend at 0x1e073cda0>"
      ]
     },
     "execution_count": 52,
     "metadata": {},
     "output_type": "execute_result"
    },
    {
     "data": {
      "image/png": "[encoded data removed]",
      "text/plain": [
       "<Figure size 432x288 with 1 Axes>"
      ]
     },
     "metadata": {},
     "output_type": "display_data"
    }
   ],
   "source": [
    "\n",
    "#There are too many document types to plot on one chart so select the types with highest maximum\n",
    "bottom_views = doctype_by_day.loc[:,doctype_by_day.max() < 10]\n",
    "\n",
    "ax = bottom_views.plot()\n",
    "ax.legend(loc='center left', bbox_to_anchor=(1, 0.5))"
   ]
  },
  {
   "cell_type": "markdown",
   "metadata": {},
   "source": [
    "Document types with no page views in date range"
   ]
  },
  {
   "cell_type": "code",
   "execution_count": 45,
   "metadata": {},
   "outputs": [],
   "source": [
    "#over the whole month (includes entire data range) total number of page views \n",
    "\n",
    "x = content_performance_bytime.groupby(['document_type', pd.Grouper(freq='M')])['pageviews'].sum()"
   ]
  },
  {
   "cell_type": "code",
   "execution_count": 50,
   "metadata": {},
   "outputs": [
    {
     "data": {
      "text/plain": [
       "document_type                       date      \n",
       "need                                2018-04-30    0.0\n",
       "placeholder                         2018-04-30    0.0\n",
       "placeholder_organisation            2018-04-30    0.0\n",
       "placeholder_working_group           2018-04-30    0.0\n",
       "placeholder_world_location          2018-04-30    0.0\n",
       "placeholder_worldwide_organisation  2018-04-30    0.0\n",
       "service_sign_in                     2018-04-30    0.0\n",
       "smart_answer                        2018-04-30    0.0\n",
       "unpublishing                        2018-04-30    0.0\n",
       "world_location_news_article         2018-04-30    0.0\n",
       "Name: pageviews, dtype: float64"
      ]
     },
     "execution_count": 50,
     "metadata": {},
     "output_type": "execute_result"
    }
   ],
   "source": [
    "#which documen types had no page views\n",
    "x[x==0]"
   ]
  },
  {
   "cell_type": "code",
   "execution_count": null,
   "metadata": {},
   "outputs": [],
   "source": [
    "dates = pd.read_sql_query('select * from \"dimensions_dates\"',con=engine)"
   ]
  },
  {
   "cell_type": "code",
   "execution_count": null,
   "metadata": {},
   "outputs": [],
   "source": [
    "dates['date'] = pd.to_datetime(dates['date'])"
   ]
  },
  {
   "cell_type": "code",
   "execution_count": null,
   "metadata": {},
   "outputs": [],
   "source": [
    "min(dates['date'])"
   ]
  },
  {
   "cell_type": "code",
   "execution_count": null,
   "metadata": {},
   "outputs": [],
   "source": [
    "max(dates['date'])"
   ]
  },
  {
   "cell_type": "code",
   "execution_count": null,
   "metadata": {},
   "outputs": [],
   "source": [
    "items.shape"
   ]
  },
  {
   "cell_type": "code",
   "execution_count": null,
   "metadata": {},
   "outputs": [],
   "source": [
    "feedex = pd.read_sql_query('select * from \"events_feedexes\"',con=engine)"
   ]
  },
  {
   "cell_type": "code",
   "execution_count": null,
   "metadata": {},
   "outputs": [],
   "source": [
    "feedex.shape"
   ]
  },
  {
   "cell_type": "code",
   "execution_count": null,
   "metadata": {},
   "outputs": [],
   "source": [
    "ga = pd.read_sql_query('select * from \"events_gas\"',con=engine)"
   ]
  },
  {
   "cell_type": "code",
   "execution_count": null,
   "metadata": {},
   "outputs": [],
   "source": [
    "ga.shape"
   ]
  },
  {
   "cell_type": "code",
   "execution_count": null,
   "metadata": {},
   "outputs": [],
   "source": [
    "facts_metrics.head()"
   ]
  },
  {
   "cell_type": "code",
   "execution_count": null,
   "metadata": {},
   "outputs": [],
   "source": [
    "facts_metrics.shape"
   ]
  },
  {
   "cell_type": "code",
   "execution_count": null,
   "metadata": {},
   "outputs": [],
   "source": [
    "facts_metrics.id.nunique()"
   ]
  },
  {
   "cell_type": "code",
   "execution_count": null,
   "metadata": {},
   "outputs": [],
   "source": [
    "facts_metrics.groupby('dimensions_item_id').size().describe()"
   ]
  },
  {
   "cell_type": "code",
   "execution_count": null,
   "metadata": {},
   "outputs": [],
   "source": [
    "facts_metrics.groupby('dimensions_date_id').size().describe()"
   ]
  },
  {
   "cell_type": "code",
   "execution_count": null,
   "metadata": {},
   "outputs": [],
   "source": [
    "facts_metrics[facts_metrics['dimensions_item_id']==3063339]"
   ]
  },
  {
   "cell_type": "code",
   "execution_count": null,
   "metadata": {},
   "outputs": [],
   "source": [
    "facts_metrics.groupby(['dimensions_date_id', 'dimensions_item_id', 'id']).sum()"
   ]
  },
  {
   "cell_type": "code",
   "execution_count": null,
   "metadata": {},
   "outputs": [],
   "source": [
    "facts_metrics.groupby('dimensions_item_id').sum()"
   ]
  },
  {
   "cell_type": "code",
   "execution_count": null,
   "metadata": {},
   "outputs": [],
   "source": [
    "facts_metrics.dimensions_item_id.nunique()"
   ]
  },
  {
   "cell_type": "code",
   "execution_count": null,
   "metadata": {},
   "outputs": [],
   "source": [
    "facts_metrics.dimensions_date_id.nunique()"
   ]
  },
  {
   "cell_type": "markdown",
   "metadata": {},
   "source": []
  },
  {
   "cell_type": "code",
   "execution_count": null,
   "metadata": {},
   "outputs": [],
   "source": [
    "schema = pd.read_sql_query('select * from \"schema_migrations\"',con=engine)"
   ]
  },
  {
   "cell_type": "code",
   "execution_count": null,
   "metadata": {},
   "outputs": [],
   "source": [
    "schema.head()"
   ]
  },
  {
   "cell_type": "code",
   "execution_count": null,
   "metadata": {},
   "outputs": [],
   "source": [
    "schema.shape"
   ]
  },
  {
   "cell_type": "code",
   "execution_count": null,
   "metadata": {},
   "outputs": [],
   "source": []
  },
  {
   "cell_type": "code",
   "execution_count": null,
   "metadata": {},
   "outputs": [],
   "source": []
  },
  {
   "cell_type": "code",
   "execution_count": null,
   "metadata": {},
   "outputs": [],
   "source": []
  },
  {
   "cell_type": "code",
   "execution_count": null,
   "metadata": {},
   "outputs": [],
   "source": []
  },
  {
   "cell_type": "code",
   "execution_count": null,
   "metadata": {},
   "outputs": [],
   "source": []
  },
  {
   "cell_type": "code",
   "execution_count": null,
   "metadata": {},
   "outputs": [],
   "source": []
  },
  {
   "cell_type": "code",
   "execution_count": null,
   "metadata": {},
   "outputs": [],
   "source": []
  }
 ],
 "metadata": {
  "kernelspec": {
   "display_name": "give_data",
   "language": "python",
   "name": "give_data"
  },
  "language_info": {
   "codemirror_mode": {
    "name": "ipython",
    "version": 3
   },
   "file_extension": ".py",
   "mimetype": "text/x-python",
   "name": "python",
   "nbconvert_exporter": "python",
   "pygments_lexer": "ipython3",
   "version": "3.6.5"
  }
 },
 "nbformat": 4,
 "nbformat_minor": 2
}
