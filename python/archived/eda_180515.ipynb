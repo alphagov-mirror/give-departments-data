{
 "cells": [
  {
   "cell_type": "code",
   "execution_count": 4,
   "metadata": {},
   "outputs": [],
   "source": [
    "# prepare_data_for_eda.py scrip, without saving out to pkl or csv\n",
    "import os\n",
    "import pandas as pd\n",
    "import logging.config\n",
    "import matplotlib.pyplot as plt\n",
    "import numpy as np\n",
    "from cycler import cycler #for matplotlib colors\n",
    "import seaborn as sns\n",
    "from sklearn import preprocessing\n",
    "from sqlalchemy import create_engine\n",
    "import importlib\n",
    "import missingno as msno\n",
    "import functions_to_derive_vars\n",
    "importlib.reload(functions_to_derive_vars)\n",
    "\n",
    "LOGGING_CONFIG = os.getenv('LOGGING_CONFIG')\n",
    "logging.config.fileConfig(LOGGING_CONFIG)\n",
    "logger = logging.getLogger('prepare_data_for_eda')"
   ]
  },
  {
   "cell_type": "code",
   "execution_count": 5,
   "metadata": {},
   "outputs": [
    {
     "name": "stdout",
     "output_type": "stream",
     "text": [
      "2018-05-30 10:35:41,142 - prepare_data_for_eda - INFO - using DATADIR ../DATA\n",
      "2018-05-30 10:35:41,144 - prepare_data_for_eda - INFO - using data from postgresql://ellieking@localhost:5432/givedata_180515\n"
     ]
    }
   ],
   "source": [
    "DATADIR = os.getenv('DATADIR')\n",
    "logger.info(\"using DATADIR {}\".format(DATADIR))\n",
    "ENGINE = os.getenv('ENGINE')\n",
    "logger.info(\"using data from {}\".format(ENGINE))"
   ]
  },
  {
   "cell_type": "code",
   "execution_count": 6,
   "metadata": {},
   "outputs": [
    {
     "name": "stdout",
     "output_type": "stream",
     "text": [
      "2018-05-30 10:35:41,567 - prepare_data_for_eda - INFO - Importing facts_metrics\n",
      "2018-05-30 10:37:57,009 - prepare_data_for_eda - INFO - Importing dates\n",
      "2018-05-30 10:37:57,044 - prepare_data_for_eda - INFO - Dropping 0 dates duplicates\n"
     ]
    }
   ],
   "source": [
    "# ### Read in data\n",
    "engine = create_engine(ENGINE)\n",
    "\n",
    "logger.info('Importing facts_metrics')\n",
    "facts_metrics = pd.read_sql_query('select dimensions_date_id, dimensions_item_id, pageviews, unique_pageviews, feedex_comments, is_this_useful_yes, is_this_useful_no,\\\n",
    "number_of_internal_searches, exits, entrances, bounce_rate,\\\n",
    "avg_time_on_page from \"facts_metrics\"',con=engine)\n",
    "\n",
    "logger.info('Importing dates')\n",
    "dates = pd.read_sql_query('select * from \"dimensions_dates\"',con=engine)\n",
    "logger.info('Dropping {} dates duplicates'.format(sum(dates.duplicated())))\n",
    "dates = dates.drop_duplicates()"
   ]
  },
  {
   "cell_type": "code",
   "execution_count": 4,
   "metadata": {},
   "outputs": [
    {
     "data": {
      "text/plain": [
       "<matplotlib.axes._subplots.AxesSubplot at 0x1051c1da0>"
      ]
     },
     "execution_count": 4,
     "metadata": {},
     "output_type": "execute_result"
    },
    {
     "data": {
      "image/png": "[encoded data removed]",
      "text/plain": [
       "<Figure size 432x288 with 1 Axes>"
      ]
     },
     "metadata": {},
     "output_type": "display_data"
    }
   ],
   "source": [
    "facts_metrics['bounce_rate'].hist()"
   ]
  },
  {
   "cell_type": "code",
   "execution_count": 7,
   "metadata": {},
   "outputs": [
    {
     "name": "stdout",
     "output_type": "stream",
     "text": [
      "2018-05-30 10:37:57,071 - prepare_data_for_eda - INFO - Importing items\n",
      "2018-05-30 10:38:03,010 - prepare_data_for_eda - INFO - Finished importing items\n"
     ]
    }
   ],
   "source": [
    "logger.info('Importing items')\n",
    "items = pd.read_sql_query('select id, \\\n",
    "content_id, title, base_path, description, number_of_pdfs, document_type, content_purpose_document_supertype,\\\n",
    "first_published_at, public_updated_at, number_of_word_files, status,  \\\n",
    "readability_score, contractions_count, equality_count, indefinite_article_count, \\\n",
    "passive_count, profanities_count, redundant_acronyms_count, repeated_words_count, \\\n",
    "simplify_count, spell_count, string_length, sentence_count, word_count, \\\n",
    "primary_organisation_title, primary_organisation_content_id, primary_organisation_withdrawn,\\\n",
    "content_hash, locale, publishing_api_payload_version from \"dimensions_items\"',con=engine)\n",
    "logger.info('Finished importing items')"
   ]
  },
  {
   "cell_type": "markdown",
   "metadata": {},
   "source": [
    "Something wrong with description reading in..."
   ]
  },
  {
   "cell_type": "code",
   "execution_count": null,
   "metadata": {},
   "outputs": [],
   "source": [
    "items.description.head()"
   ]
  },
  {
   "cell_type": "code",
   "execution_count": 8,
   "metadata": {},
   "outputs": [
    {
     "name": "stdout",
     "output_type": "stream",
     "text": [
      "2018-05-30 10:38:03,018 - prepare_data_for_eda - INFO - create lists of component variables\n"
     ]
    }
   ],
   "source": [
    "logger.info(\"create lists of component variables\")\n",
    "spelling_grammar_vars = ['contractions_count',\n",
    "                         'indefinite_article_count',\n",
    "                         'redundant_acronyms_count',\n",
    "                         'repeated_words_count',\n",
    "                         'spell_count'\n",
    "                         ]\n",
    "\n",
    "style_vars = ['readability_score',\n",
    "              'equality_count',\n",
    "              'passive_count',\n",
    "              'simplify_count'\n",
    "              ]\n",
    "\n",
    "error_vars = ['profanities_count', 'spell_count']"
   ]
  },
  {
   "cell_type": "code",
   "execution_count": 9,
   "metadata": {},
   "outputs": [
    {
     "name": "stdout",
     "output_type": "stream",
     "text": [
      "2018-05-30 10:38:03,028 - prepare_data_for_eda - INFO - joining facts_metrics to items\n",
      "2018-05-30 10:39:41,641 - prepare_data_for_eda - INFO - _merge\n",
      "left_only            0\n",
      "right_only        4269\n",
      "both          18266364\n",
      "dtype: int64 items(right) matches in facts_metrics(left)\n",
      "2018-05-30 10:39:41,651 - prepare_data_for_eda - INFO - dates to index\n"
     ]
    }
   ],
   "source": [
    "# ### Join facts_metrics to specific item variables\n",
    "\n",
    "logger.info(\"joining facts_metrics to items\")\n",
    "\n",
    "content_performance_bytime = pd.merge(\n",
    "    left=facts_metrics,\n",
    "    right=items,\n",
    "    left_on='dimensions_item_id', #\n",
    "    right_on='id', # \n",
    "    how='outer', # keep everything for checking merge\n",
    "    indicator=True # so we can filter by match type\n",
    ")\n",
    "\n",
    "logger.info(\"{} items(right) matches in facts_metrics(left)\".format(\n",
    "    content_performance_bytime.groupby('_merge').size()\n",
    "    )\n",
    ")\n",
    "\n",
    "\n",
    "# ### Dates to index for plots\n",
    "logger.info(\"dates to index\")\n",
    "content_performance_bytime['date'] = pd.to_datetime(content_performance_bytime['dimensions_date_id'])\n",
    "content_performance_bytime.index = content_performance_bytime['date']"
   ]
  },
  {
   "cell_type": "code",
   "execution_count": 10,
   "metadata": {},
   "outputs": [
    {
     "name": "stdout",
     "output_type": "stream",
     "text": [
      "2018-05-30 10:39:45,277 - prepare_data_for_eda - INFO - create count_survey_responses\n",
      "2018-05-30 10:39:45,661 - prepare_data_for_eda - INFO - create response_per_pageview\n",
      "2018-05-30 10:39:46,050 - prepare_data_for_eda - INFO - create response_per_unique_pageview\n",
      "2018-05-30 10:39:46,454 - prepare_data_for_eda - INFO - create useful_per_responses\n",
      "2018-05-30 10:39:46,758 - prepare_data_for_eda - INFO - create mean_views_per_session\n",
      "2018-05-30 10:39:47,034 - prepare_data_for_eda - INFO - create feedex_per_unique\n",
      "2018-05-30 10:39:47,431 - prepare_data_for_eda - INFO - create searches_per_pageview\n",
      "2018-05-30 10:39:47,835 - prepare_data_for_eda - INFO - Loop through and min-max scale component vars\n",
      "2018-05-30 10:40:02,155 - prepare_data_for_eda - INFO - Sum component vars for each composite var\n",
      "2018-05-30 10:40:04,089 - prepare_data_for_eda - INFO - spelling_grammar: count    1.827063e+07\n",
      "mean     1.783485e-03\n",
      "std      9.770571e-03\n",
      "min      0.000000e+00\n",
      "25%      1.005632e-04\n",
      "50%      6.033789e-04\n",
      "75%      1.783485e-03\n",
      "max      1.500000e+00\n",
      "Name: spelling_grammar, dtype: float64\n",
      "2018-05-30 10:40:07,424 - prepare_data_for_eda - INFO - style: count    1.827063e+07\n",
      "mean     2.204873e-02\n",
      "std      2.857729e-02\n",
      "min      0.000000e+00\n",
      "25%      1.121080e-02\n",
      "50%      1.701806e-02\n",
      "75%      2.204873e-02\n",
      "max      1.408788e+00\n",
      "Name: style, dtype: float64\n",
      "2018-05-30 10:40:09,118 - prepare_data_for_eda - INFO - errors: count    1.827063e+07\n",
      "mean     4.761308e-03\n",
      "std      1.166761e-02\n",
      "min      0.000000e+00\n",
      "25%      3.016895e-04\n",
      "50%      2.031499e-03\n",
      "75%      4.761308e-03\n",
      "max      1.018403e+00\n",
      "Name: errors, dtype: float64\n"
     ]
    }
   ],
   "source": [
    "content_performance_bytime = functions_to_derive_vars.derive_variables(content_performance_bytime, spelling_grammar_vars, style_vars, error_vars, logger)"
   ]
  },
  {
   "cell_type": "code",
   "execution_count": null,
   "metadata": {},
   "outputs": [],
   "source": [
    "facts_metrics.columns"
   ]
  },
  {
   "cell_type": "markdown",
   "metadata": {},
   "source": [
    "ave_time_on_page = ga:timeOnPage / (ga:pageviews - ga:exits)\n",
    "bounce_rate = single-page session / sessions starting with that page\n",
    "\n",
    "\"For all sessions that start with the page, Bounce Rate is the percentage that were the only one of the session\""
   ]
  },
  {
   "cell_type": "code",
   "execution_count": 15,
   "metadata": {},
   "outputs": [],
   "source": [
    "metrics_time_independent_sum = facts_metrics[['dimensions_item_id', 'pageviews', 'unique_pageviews', 'feedex_comments',\n",
    "       'is_this_useful_yes', 'is_this_useful_no',\n",
    "       'number_of_internal_searches', 'exits', 'entrances']].groupby('dimensions_item_id').sum()"
   ]
  },
  {
   "cell_type": "code",
   "execution_count": 16,
   "metadata": {},
   "outputs": [
    {
     "data": {
      "text/html": [
       "<div>\n",
       "<style scoped>\n",
       "    .dataframe tbody tr th:only-of-type {\n",
       "        vertical-align: middle;\n",
       "    }\n",
       "\n",
       "    .dataframe tbody tr th {\n",
       "        vertical-align: top;\n",
       "    }\n",
       "\n",
       "    .dataframe thead th {\n",
       "        text-align: right;\n",
       "    }\n",
       "</style>\n",
       "<table border=\"1\" class=\"dataframe\">\n",
       "  <thead>\n",
       "    <tr style=\"text-align: right;\">\n",
       "      <th></th>\n",
       "      <th>pageviews</th>\n",
       "      <th>unique_pageviews</th>\n",
       "      <th>feedex_comments</th>\n",
       "      <th>is_this_useful_yes</th>\n",
       "      <th>is_this_useful_no</th>\n",
       "      <th>number_of_internal_searches</th>\n",
       "      <th>exits</th>\n",
       "      <th>entrances</th>\n",
       "    </tr>\n",
       "  </thead>\n",
       "  <tbody>\n",
       "    <tr>\n",
       "      <th>count</th>\n",
       "      <td>4.468500e+05</td>\n",
       "      <td>4.468500e+05</td>\n",
       "      <td>446850.000000</td>\n",
       "      <td>446850.000000</td>\n",
       "      <td>446850.000000</td>\n",
       "      <td>4.468500e+05</td>\n",
       "      <td>4.468500e+05</td>\n",
       "      <td>4.468500e+05</td>\n",
       "    </tr>\n",
       "    <tr>\n",
       "      <th>mean</th>\n",
       "      <td>8.007410e+02</td>\n",
       "      <td>5.620664e+02</td>\n",
       "      <td>0.413752</td>\n",
       "      <td>0.594025</td>\n",
       "      <td>0.491838</td>\n",
       "      <td>1.004462e+01</td>\n",
       "      <td>2.225770e+02</td>\n",
       "      <td>2.336057e+02</td>\n",
       "    </tr>\n",
       "    <tr>\n",
       "      <th>std</th>\n",
       "      <td>3.948670e+04</td>\n",
       "      <td>2.857576e+04</td>\n",
       "      <td>163.359843</td>\n",
       "      <td>34.601771</td>\n",
       "      <td>27.628809</td>\n",
       "      <td>2.949882e+03</td>\n",
       "      <td>1.071904e+04</td>\n",
       "      <td>9.550655e+03</td>\n",
       "    </tr>\n",
       "    <tr>\n",
       "      <th>min</th>\n",
       "      <td>0.000000e+00</td>\n",
       "      <td>0.000000e+00</td>\n",
       "      <td>0.000000</td>\n",
       "      <td>0.000000</td>\n",
       "      <td>0.000000</td>\n",
       "      <td>0.000000e+00</td>\n",
       "      <td>0.000000e+00</td>\n",
       "      <td>0.000000e+00</td>\n",
       "    </tr>\n",
       "    <tr>\n",
       "      <th>25%</th>\n",
       "      <td>0.000000e+00</td>\n",
       "      <td>0.000000e+00</td>\n",
       "      <td>0.000000</td>\n",
       "      <td>0.000000</td>\n",
       "      <td>0.000000</td>\n",
       "      <td>0.000000e+00</td>\n",
       "      <td>0.000000e+00</td>\n",
       "      <td>0.000000e+00</td>\n",
       "    </tr>\n",
       "    <tr>\n",
       "      <th>50%</th>\n",
       "      <td>3.000000e+00</td>\n",
       "      <td>2.000000e+00</td>\n",
       "      <td>0.000000</td>\n",
       "      <td>0.000000</td>\n",
       "      <td>0.000000</td>\n",
       "      <td>0.000000e+00</td>\n",
       "      <td>1.000000e+00</td>\n",
       "      <td>0.000000e+00</td>\n",
       "    </tr>\n",
       "    <tr>\n",
       "      <th>75%</th>\n",
       "      <td>2.200000e+01</td>\n",
       "      <td>1.700000e+01</td>\n",
       "      <td>0.000000</td>\n",
       "      <td>0.000000</td>\n",
       "      <td>0.000000</td>\n",
       "      <td>0.000000e+00</td>\n",
       "      <td>6.000000e+00</td>\n",
       "      <td>4.000000e+00</td>\n",
       "    </tr>\n",
       "    <tr>\n",
       "      <th>max</th>\n",
       "      <td>1.164198e+07</td>\n",
       "      <td>8.552308e+06</td>\n",
       "      <td>108022.000000</td>\n",
       "      <td>13895.000000</td>\n",
       "      <td>9654.000000</td>\n",
       "      <td>1.725798e+06</td>\n",
       "      <td>3.238626e+06</td>\n",
       "      <td>2.532019e+06</td>\n",
       "    </tr>\n",
       "  </tbody>\n",
       "</table>\n",
       "</div>"
      ],
      "text/plain": [
       "          pageviews  unique_pageviews  feedex_comments  is_this_useful_yes  \\\n",
       "count  4.468500e+05      4.468500e+05    446850.000000       446850.000000   \n",
       "mean   8.007410e+02      5.620664e+02         0.413752            0.594025   \n",
       "std    3.948670e+04      2.857576e+04       163.359843           34.601771   \n",
       "min    0.000000e+00      0.000000e+00         0.000000            0.000000   \n",
       "25%    0.000000e+00      0.000000e+00         0.000000            0.000000   \n",
       "50%    3.000000e+00      2.000000e+00         0.000000            0.000000   \n",
       "75%    2.200000e+01      1.700000e+01         0.000000            0.000000   \n",
       "max    1.164198e+07      8.552308e+06    108022.000000        13895.000000   \n",
       "\n",
       "       is_this_useful_no  number_of_internal_searches         exits  \\\n",
       "count      446850.000000                 4.468500e+05  4.468500e+05   \n",
       "mean            0.491838                 1.004462e+01  2.225770e+02   \n",
       "std            27.628809                 2.949882e+03  1.071904e+04   \n",
       "min             0.000000                 0.000000e+00  0.000000e+00   \n",
       "25%             0.000000                 0.000000e+00  0.000000e+00   \n",
       "50%             0.000000                 0.000000e+00  1.000000e+00   \n",
       "75%             0.000000                 0.000000e+00  6.000000e+00   \n",
       "max          9654.000000                 1.725798e+06  3.238626e+06   \n",
       "\n",
       "          entrances  \n",
       "count  4.468500e+05  \n",
       "mean   2.336057e+02  \n",
       "std    9.550655e+03  \n",
       "min    0.000000e+00  \n",
       "25%    0.000000e+00  \n",
       "50%    0.000000e+00  \n",
       "75%    4.000000e+00  \n",
       "max    2.532019e+06  "
      ]
     },
     "execution_count": 16,
     "metadata": {},
     "output_type": "execute_result"
    }
   ],
   "source": [
    "metrics_time_independent_sum.describe()"
   ]
  },
  {
   "cell_type": "code",
   "execution_count": 17,
   "metadata": {},
   "outputs": [],
   "source": [
    "metrics_time_independent_ave = facts_metrics[['dimensions_item_id', 'bounce_rate',\n",
    "       'avg_time_on_page']].groupby('dimensions_item_id').mean()"
   ]
  },
  {
   "cell_type": "code",
   "execution_count": 18,
   "metadata": {},
   "outputs": [],
   "source": [
    "metrics_time_independent = pd.concat([metrics_time_independent_sum,metrics_time_independent_ave], axis=1)"
   ]
  },
  {
   "cell_type": "code",
   "execution_count": 19,
   "metadata": {},
   "outputs": [
    {
     "data": {
      "text/html": [
       "<div>\n",
       "<style scoped>\n",
       "    .dataframe tbody tr th:only-of-type {\n",
       "        vertical-align: middle;\n",
       "    }\n",
       "\n",
       "    .dataframe tbody tr th {\n",
       "        vertical-align: top;\n",
       "    }\n",
       "\n",
       "    .dataframe thead th {\n",
       "        text-align: right;\n",
       "    }\n",
       "</style>\n",
       "<table border=\"1\" class=\"dataframe\">\n",
       "  <thead>\n",
       "    <tr style=\"text-align: right;\">\n",
       "      <th></th>\n",
       "      <th>bounce_rate</th>\n",
       "      <th>avg_time_on_page</th>\n",
       "    </tr>\n",
       "  </thead>\n",
       "  <tbody>\n",
       "    <tr>\n",
       "      <th>count</th>\n",
       "      <td>446850.000000</td>\n",
       "      <td>446850.000000</td>\n",
       "    </tr>\n",
       "    <tr>\n",
       "      <th>mean</th>\n",
       "      <td>6.056993</td>\n",
       "      <td>21.892345</td>\n",
       "    </tr>\n",
       "    <tr>\n",
       "      <th>std</th>\n",
       "      <td>13.216775</td>\n",
       "      <td>48.498664</td>\n",
       "    </tr>\n",
       "    <tr>\n",
       "      <th>min</th>\n",
       "      <td>0.000000</td>\n",
       "      <td>0.000000</td>\n",
       "    </tr>\n",
       "    <tr>\n",
       "      <th>25%</th>\n",
       "      <td>0.000000</td>\n",
       "      <td>0.000000</td>\n",
       "    </tr>\n",
       "    <tr>\n",
       "      <th>50%</th>\n",
       "      <td>0.000000</td>\n",
       "      <td>0.837209</td>\n",
       "    </tr>\n",
       "    <tr>\n",
       "      <th>75%</th>\n",
       "      <td>4.651163</td>\n",
       "      <td>18.325581</td>\n",
       "    </tr>\n",
       "    <tr>\n",
       "      <th>max</th>\n",
       "      <td>100.000000</td>\n",
       "      <td>745.372093</td>\n",
       "    </tr>\n",
       "  </tbody>\n",
       "</table>\n",
       "</div>"
      ],
      "text/plain": [
       "         bounce_rate  avg_time_on_page\n",
       "count  446850.000000     446850.000000\n",
       "mean        6.056993         21.892345\n",
       "std        13.216775         48.498664\n",
       "min         0.000000          0.000000\n",
       "25%         0.000000          0.000000\n",
       "50%         0.000000          0.837209\n",
       "75%         4.651163         18.325581\n",
       "max       100.000000        745.372093"
      ]
     },
     "execution_count": 19,
     "metadata": {},
     "output_type": "execute_result"
    }
   ],
   "source": [
    "metrics_time_independent_ave.describe()"
   ]
  },
  {
   "cell_type": "code",
   "execution_count": 20,
   "metadata": {},
   "outputs": [
    {
     "name": "stdout",
     "output_type": "stream",
     "text": [
      "2018-05-30 12:19:32,626 - prepare_data_for_eda - INFO - joining metrics_time_independent to items\n",
      "2018-05-30 12:19:36,186 - prepare_data_for_eda - INFO - _merge\n",
      "left_only          0\n",
      "right_only      4269\n",
      "both          446850\n",
      "dtype: int64 items(right) matches in metrics_time_independent(left)\n",
      "2018-05-30 12:19:36,474 - prepare_data_for_eda - INFO - content_performance.content_id.nunique()=428739\n",
      "2018-05-30 12:19:36,511 - prepare_data_for_eda - INFO - content_performance.id.nunique()=451119\n",
      "2018-05-30 12:19:36,512 - prepare_data_for_eda - INFO - content_performance.shape=(451119, 42)\n"
     ]
    }
   ],
   "source": [
    "logger.info(\"joining metrics_time_independent to items\")\n",
    "\n",
    "content_performance = pd.merge(\n",
    "    left=metrics_time_independent,\n",
    "    right=items,\n",
    "    left_index=True, # dimensions_items_id\n",
    "    right_on='id', # database specific key\n",
    "    how='outer', # keep everything for checking merge\n",
    "    indicator=True # so we can filter by match type\n",
    ")\n",
    "\n",
    "logger.info(\"{} items(right) matches in metrics_time_independent(left)\".format(\n",
    "    content_performance.groupby('_merge').size()\n",
    "    )\n",
    ")\n",
    "logger.info(\"content_performance.content_id.nunique()={}\".format(content_performance.content_id.nunique()))\n",
    "logger.info(\"content_performance.id.nunique()={}\".format(content_performance.id.nunique()))\n",
    "logger.info(\"content_performance.shape={}\".format(content_performance.shape))"
   ]
  },
  {
   "cell_type": "markdown",
   "metadata": {},
   "source": [
    "For each content item, there may be multiple ids because each time an item is edited it receives a new ID"
   ]
  },
  {
   "cell_type": "code",
   "execution_count": 21,
   "metadata": {},
   "outputs": [
    {
     "name": "stdout",
     "output_type": "stream",
     "text": [
      "2018-05-30 12:19:36,519 - prepare_data_for_eda - INFO - create count_survey_responses\n",
      "2018-05-30 12:19:36,525 - prepare_data_for_eda - INFO - create response_per_pageview\n",
      "2018-05-30 12:19:36,530 - prepare_data_for_eda - INFO - create response_per_unique_pageview\n",
      "2018-05-30 12:19:36,536 - prepare_data_for_eda - INFO - create useful_per_responses\n",
      "2018-05-30 12:19:36,542 - prepare_data_for_eda - INFO - create mean_views_per_session\n",
      "2018-05-30 12:19:36,548 - prepare_data_for_eda - INFO - create feedex_per_unique\n",
      "2018-05-30 12:19:36,554 - prepare_data_for_eda - INFO - create searches_per_pageview\n",
      "2018-05-30 12:19:36,560 - prepare_data_for_eda - INFO - Loop through and min-max scale component vars\n",
      "2018-05-30 12:19:36,706 - prepare_data_for_eda - INFO - Sum component vars for each composite var\n",
      "2018-05-30 12:19:36,737 - prepare_data_for_eda - INFO - spelling_grammar: count    451119.000000\n",
      "mean          0.001872\n",
      "std           0.009989\n",
      "min           0.000000\n",
      "25%           0.000101\n",
      "50%           0.000704\n",
      "75%           0.001872\n",
      "max           1.500000\n",
      "Name: spelling_grammar, dtype: float64\n",
      "2018-05-30 12:19:36,788 - prepare_data_for_eda - INFO - style: count    451119.000000\n",
      "mean          0.022300\n",
      "std           0.029230\n",
      "min           0.000000\n",
      "25%           0.011374\n",
      "50%           0.017670\n",
      "75%           0.022300\n",
      "max           1.408788\n",
      "Name: style, dtype: float64\n",
      "2018-05-30 12:19:36,815 - prepare_data_for_eda - INFO - errors: count    451119.000000\n",
      "mean          0.004877\n",
      "std           0.012107\n",
      "min           0.000000\n",
      "25%           0.000302\n",
      "50%           0.002414\n",
      "75%           0.004877\n",
      "max           1.018403\n",
      "Name: errors, dtype: float64\n"
     ]
    }
   ],
   "source": [
    "content_performance = functions_to_derive_vars.derive_variables(content_performance, spelling_grammar_vars, style_vars, error_vars, logger)"
   ]
  },
  {
   "cell_type": "code",
   "execution_count": null,
   "metadata": {},
   "outputs": [],
   "source": [
    "del items, facts_metrics, metrics_time_independent_ave, metrics_time_independent_sum"
   ]
  },
  {
   "cell_type": "markdown",
   "metadata": {},
   "source": [
    "# MISSING DATA FROM MISMATCHES"
   ]
  },
  {
   "cell_type": "markdown",
   "metadata": {},
   "source": [
    "### Remove editions with no data"
   ]
  },
  {
   "cell_type": "code",
   "execution_count": 22,
   "metadata": {},
   "outputs": [],
   "source": [
    "content_performance = content_performance[content_performance['_merge']=='both'].copy()"
   ]
  },
  {
   "cell_type": "code",
   "execution_count": 23,
   "metadata": {},
   "outputs": [
    {
     "data": {
      "text/plain": [
       "{'pageviews': 'float64',\n",
       " 'unique_pageviews': 'float64',\n",
       " 'feedex_comments': 'float64',\n",
       " 'is_this_useful_yes': 'float64',\n",
       " 'is_this_useful_no': 'float64',\n",
       " 'number_of_internal_searches': 'float64',\n",
       " 'exits': 'float64',\n",
       " 'entrances': 'float64',\n",
       " 'bounce_rate': 'float64',\n",
       " 'avg_time_on_page': 'float64',\n",
       " 'id': 'int64',\n",
       " 'content_id': 'object',\n",
       " 'title': 'object',\n",
       " 'base_path': 'object',\n",
       " 'description': 'object',\n",
       " 'number_of_pdfs': 'float64',\n",
       " 'document_type': 'object',\n",
       " 'content_purpose_document_supertype': 'object',\n",
       " 'first_published_at': 'datetime64[ns]',\n",
       " 'public_updated_at': 'datetime64[ns]',\n",
       " 'number_of_word_files': 'float64',\n",
       " 'status': 'object',\n",
       " 'readability_score': 'float64',\n",
       " 'contractions_count': 'float64',\n",
       " 'equality_count': 'float64',\n",
       " 'indefinite_article_count': 'float64',\n",
       " 'passive_count': 'float64',\n",
       " 'profanities_count': 'float64',\n",
       " 'redundant_acronyms_count': 'float64',\n",
       " 'repeated_words_count': 'float64',\n",
       " 'simplify_count': 'float64',\n",
       " 'spell_count': 'float64',\n",
       " 'string_length': 'float64',\n",
       " 'sentence_count': 'float64',\n",
       " 'word_count': 'float64',\n",
       " 'primary_organisation_title': 'object',\n",
       " 'primary_organisation_content_id': 'object',\n",
       " 'primary_organisation_withdrawn': 'object',\n",
       " 'content_hash': 'object',\n",
       " 'locale': 'object',\n",
       " 'publishing_api_payload_version': 'int64',\n",
       " '_merge': 'category',\n",
       " 'count_survey_responses': 'float64',\n",
       " 'response_per_pageview': 'float64',\n",
       " 'response_per_unique_pageview': 'float64',\n",
       " 'useful_per_responses': 'float64',\n",
       " 'total_to_unique_pageviews': 'float64',\n",
       " 'create_total_to_unique_pageviews': 'float64',\n",
       " 'feedex_per_unique_1000': 'float64',\n",
       " 'searches_per_pageview_1000': 'float64',\n",
       " 'contractions_count_scaled': 'float64',\n",
       " 'indefinite_article_count_scaled': 'float64',\n",
       " 'redundant_acronyms_count_scaled': 'float64',\n",
       " 'repeated_words_count_scaled': 'float64',\n",
       " 'spell_count_scaled': 'float64',\n",
       " 'readability_score_scaled': 'float64',\n",
       " 'equality_count_scaled': 'float64',\n",
       " 'passive_count_scaled': 'float64',\n",
       " 'simplify_count_scaled': 'float64',\n",
       " 'profanities_count_scaled': 'float64',\n",
       " 'spelling_grammar': 'float64',\n",
       " 'style': 'float64',\n",
       " 'errors': 'float64'}"
      ]
     },
     "execution_count": 23,
     "metadata": {},
     "output_type": "execute_result"
    }
   ],
   "source": [
    "dict(zip(list(content_performance),[content_performance[x].dtype.name for x in content_performance]))"
   ]
  },
  {
   "cell_type": "code",
   "execution_count": null,
   "metadata": {},
   "outputs": [],
   "source": [
    "content_performance.columns"
   ]
  },
  {
   "cell_type": "code",
   "execution_count": null,
   "metadata": {},
   "outputs": [],
   "source": [
    "content_performance_bytime.columns"
   ]
  },
  {
   "cell_type": "code",
   "execution_count": null,
   "metadata": {},
   "outputs": [],
   "source": [
    "content_performance_bytime.dimensions_date_id.min()"
   ]
  },
  {
   "cell_type": "code",
   "execution_count": 11,
   "metadata": {},
   "outputs": [],
   "source": [
    "content_performance_bytime = content_performance_bytime[content_performance_bytime['_merge']=='both'].copy()"
   ]
  },
  {
   "cell_type": "code",
   "execution_count": 13,
   "metadata": {},
   "outputs": [],
   "source": [
    "dtypes_bytime = dict(zip(list(content_performance_bytime),[content_performance_bytime[x].dtype.name for x in content_performance_bytime]))"
   ]
  },
  {
   "cell_type": "code",
   "execution_count": 14,
   "metadata": {},
   "outputs": [
    {
     "data": {
      "text/plain": [
       "{'dimensions_date_id': 'object',\n",
       " 'dimensions_item_id': 'float64',\n",
       " 'pageviews': 'float64',\n",
       " 'unique_pageviews': 'float64',\n",
       " 'feedex_comments': 'float64',\n",
       " 'is_this_useful_yes': 'float64',\n",
       " 'is_this_useful_no': 'float64',\n",
       " 'number_of_internal_searches': 'float64',\n",
       " 'exits': 'float64',\n",
       " 'entrances': 'float64',\n",
       " 'bounce_rate': 'float64',\n",
       " 'avg_time_on_page': 'float64',\n",
       " 'id': 'int64',\n",
       " 'content_id': 'object',\n",
       " 'title': 'object',\n",
       " 'base_path': 'object',\n",
       " 'description': 'object',\n",
       " 'number_of_pdfs': 'float64',\n",
       " 'document_type': 'object',\n",
       " 'content_purpose_document_supertype': 'object',\n",
       " 'first_published_at': 'datetime64[ns]',\n",
       " 'public_updated_at': 'datetime64[ns]',\n",
       " 'number_of_word_files': 'float64',\n",
       " 'status': 'object',\n",
       " 'readability_score': 'float64',\n",
       " 'contractions_count': 'float64',\n",
       " 'equality_count': 'float64',\n",
       " 'indefinite_article_count': 'float64',\n",
       " 'passive_count': 'float64',\n",
       " 'profanities_count': 'float64',\n",
       " 'redundant_acronyms_count': 'float64',\n",
       " 'repeated_words_count': 'float64',\n",
       " 'simplify_count': 'float64',\n",
       " 'spell_count': 'float64',\n",
       " 'string_length': 'float64',\n",
       " 'sentence_count': 'float64',\n",
       " 'word_count': 'float64',\n",
       " 'primary_organisation_title': 'object',\n",
       " 'primary_organisation_content_id': 'object',\n",
       " 'primary_organisation_withdrawn': 'object',\n",
       " 'content_hash': 'object',\n",
       " 'locale': 'object',\n",
       " 'publishing_api_payload_version': 'int64',\n",
       " '_merge': 'category',\n",
       " 'date': 'datetime64[ns]',\n",
       " 'count_survey_responses': 'float64',\n",
       " 'response_per_pageview': 'float64',\n",
       " 'response_per_unique_pageview': 'float64',\n",
       " 'useful_per_responses': 'float64',\n",
       " 'total_to_unique_pageviews': 'float64',\n",
       " 'create_total_to_unique_pageviews': 'float64',\n",
       " 'feedex_per_unique_1000': 'float64',\n",
       " 'searches_per_pageview_1000': 'float64',\n",
       " 'contractions_count_scaled': 'float64',\n",
       " 'indefinite_article_count_scaled': 'float64',\n",
       " 'redundant_acronyms_count_scaled': 'float64',\n",
       " 'repeated_words_count_scaled': 'float64',\n",
       " 'spell_count_scaled': 'float64',\n",
       " 'readability_score_scaled': 'float64',\n",
       " 'equality_count_scaled': 'float64',\n",
       " 'passive_count_scaled': 'float64',\n",
       " 'simplify_count_scaled': 'float64',\n",
       " 'profanities_count_scaled': 'float64',\n",
       " 'spelling_grammar': 'float64',\n",
       " 'style': 'float64',\n",
       " 'errors': 'float64'}"
      ]
     },
     "execution_count": 14,
     "metadata": {},
     "output_type": "execute_result"
    }
   ],
   "source": [
    "dtypes_bytime"
   ]
  },
  {
   "cell_type": "code",
   "execution_count": null,
   "metadata": {},
   "outputs": [],
   "source": [
    "timeit.timeit(content_performance.to_csv(os.path.join(DATADIR, 'content_performance.csv.gz'),  compression='gzip'))"
   ]
  },
  {
   "cell_type": "code",
   "execution_count": null,
   "metadata": {},
   "outputs": [],
   "source": [
    "%timeit content_performance[:10].to_csv(os.path.join('..', DATADIR, 'content_performance.csv.gz'),  compression='gzip')"
   ]
  },
  {
   "cell_type": "code",
   "execution_count": null,
   "metadata": {},
   "outputs": [],
   "source": [
    "%timeit content_performance_bytime[:10].to_csv(os.path.join('..', DATADIR, 'content_performance.csv.gz'),  compression='gzip')"
   ]
  },
  {
   "cell_type": "code",
   "execution_count": null,
   "metadata": {},
   "outputs": [],
   "source": [
    "%timeit content_performance[:10].to_pickle(os.path.join('..', DATADIR, 'content_performance.pkl.compress'),  compression='xz')"
   ]
  },
  {
   "cell_type": "code",
   "execution_count": null,
   "metadata": {},
   "outputs": [],
   "source": [
    "%timeit content_performance_bytime[:10].to_pickle(os.path.join('..', DATADIR, 'content_performance.pkl.compress'),  compression='xz')"
   ]
  },
  {
   "cell_type": "code",
   "execution_count": null,
   "metadata": {},
   "outputs": [],
   "source": [
    "import tables\n",
    "%timeit content_performance.to_hdf(os.path.join('..', DATADIR, 'content_performance.hdf'), 'test', mode='w')"
   ]
  },
  {
   "cell_type": "code",
   "execution_count": 1,
   "metadata": {},
   "outputs": [
    {
     "ename": "NameError",
     "evalue": "name 'dtypes_bytime' is not defined",
     "output_type": "error",
     "traceback": [
      "\u001b[0;31m---------------------------------------------------------------------------\u001b[0m",
      "\u001b[0;31mNameError\u001b[0m                                 Traceback (most recent call last)",
      "\u001b[0;32m<ipython-input-1-93b4fe9f86eb>\u001b[0m in \u001b[0;36m<module>\u001b[0;34m()\u001b[0m\n\u001b[0;32m----> 1\u001b[0;31m \u001b[0mdtypes_bytime\u001b[0m\u001b[0;34m\u001b[0m\u001b[0m\n\u001b[0m",
      "\u001b[0;31mNameError\u001b[0m: name 'dtypes_bytime' is not defined"
     ]
    }
   ],
   "source": [
    "dtypes_bytime"
   ]
  },
  {
   "cell_type": "markdown",
   "metadata": {},
   "source": [
    "### duplicates?"
   ]
  },
  {
   "cell_type": "code",
   "execution_count": null,
   "metadata": {},
   "outputs": [],
   "source": [
    "content_performance.duplicated().sum()"
   ]
  },
  {
   "cell_type": "code",
   "execution_count": null,
   "metadata": {},
   "outputs": [],
   "source": [
    "content_performance_bytime.duplicated().sum()"
   ]
  },
  {
   "cell_type": "code",
   "execution_count": null,
   "metadata": {},
   "outputs": [],
   "source": [
    "# content_performance_bytime = content_performance_bytime.drop_duplicates().copy()"
   ]
  },
  {
   "cell_type": "code",
   "execution_count": null,
   "metadata": {},
   "outputs": [],
   "source": [
    "logger.info(\"content_performance.content_id.nunique()={}\".format(content_performance.content_id.nunique()))\n",
    "logger.info(\"content_performance.id.nunique()={}\".format(content_performance.id.nunique()))\n",
    "logger.info(\"content_performance.shape={}\".format(content_performance.shape))"
   ]
  },
  {
   "cell_type": "code",
   "execution_count": null,
   "metadata": {},
   "outputs": [],
   "source": [
    "logger.info(\"content_performance_bytime.content_id.nunique()={}\".format(content_performance_bytime.content_id.nunique()))\n",
    "logger.info(\"content_performance_bytime.id.nunique()={}\".format(content_performance_bytime.id.nunique()))\n",
    "logger.info(\"content_performance_bytime.shape={}\".format(content_performance_bytime.shape))"
   ]
  },
  {
   "cell_type": "markdown",
   "metadata": {},
   "source": [
    "### Explore missing"
   ]
  },
  {
   "cell_type": "code",
   "execution_count": null,
   "metadata": {},
   "outputs": [],
   "source": [
    "msno.matrix(content_performance[['pageviews',\n",
    "       'unique_pageviews', 'feedex_comments', 'is_this_useful_yes',\n",
    "       'is_this_useful_no', 'number_of_internal_searches', 'exits',\n",
    "       'entrances', 'bounce_rate', 'avg_time_on_page', 'id', 'content_id',\n",
    "       'title', 'base_path', 'description', 'number_of_pdfs', 'document_type',\n",
    "       'content_purpose_document_supertype', 'first_published_at',\n",
    "       'public_updated_at', 'number_of_word_files', 'status',\n",
    "       'readability_score', 'contractions_count', 'equality_count',\n",
    "       'indefinite_article_count', 'passive_count', 'profanities_count',\n",
    "       'redundant_acronyms_count', 'repeated_words_count', 'simplify_count',\n",
    "       'spell_count', 'string_length', 'sentence_count', 'word_count',\n",
    "       'primary_organisation_title', 'primary_organisation_content_id',\n",
    "       'primary_organisation_withdrawn', 'content_hash', 'locale',\n",
    "       'publishing_api_payload_version', \n",
    "       'count_survey_responses', 'response_per_pageview',\n",
    "       'response_per_unique_pageview', 'useful_per_responses',\n",
    "       'total_to_unique_pageviews', 'feedex_per_unique_1000',\n",
    "       'searches_per_pageview_1000']].sample(3000))"
   ]
  },
  {
   "cell_type": "code",
   "execution_count": null,
   "metadata": {},
   "outputs": [],
   "source": [
    "msno.heatmap(content_performance)"
   ]
  },
  {
   "cell_type": "code",
   "execution_count": null,
   "metadata": {},
   "outputs": [],
   "source": [
    "content_performance['description'].head()\n"
   ]
  },
  {
   "cell_type": "code",
   "execution_count": null,
   "metadata": {},
   "outputs": [],
   "source": [
    "content_performance['useful_per_responses'].head()\n"
   ]
  },
  {
   "cell_type": "code",
   "execution_count": null,
   "metadata": {},
   "outputs": [],
   "source": [
    "content_performance['is_this_useful_yes'].head()\n"
   ]
  },
  {
   "cell_type": "code",
   "execution_count": null,
   "metadata": {},
   "outputs": [],
   "source": [
    "content_performance['count_survey_responses'].head()\n"
   ]
  },
  {
   "cell_type": "code",
   "execution_count": null,
   "metadata": {},
   "outputs": [],
   "source": [
    "#msno.dendrogram(content_performance)"
   ]
  },
  {
   "cell_type": "code",
   "execution_count": null,
   "metadata": {},
   "outputs": [],
   "source": [
    "# msno.matrix(content_performance_bytime.sample(1000), freq='D')"
   ]
  },
  {
   "cell_type": "markdown",
   "metadata": {},
   "source": [
    "# Exploratory data analyses\n",
    "1. Date of metric by fact, by document type/primary org (e.g., page views over date-dimension stratified by document type)\n",
    "2. content-specific performance metric (e.g. reading age) by user-related performance metric (e.g., page views) over a defined time-period (min-max in date dimension)"
   ]
  },
  {
   "cell_type": "markdown",
   "metadata": {},
   "source": [
    "### Dates to index for plots"
   ]
  },
  {
   "cell_type": "code",
   "execution_count": null,
   "metadata": {},
   "outputs": [],
   "source": [
    "content_performance_bytime.index"
   ]
  },
  {
   "cell_type": "markdown",
   "metadata": {},
   "source": [
    "# Intrinsic content performance metrics\n",
    "Explore those metrics generated by characteristics of the content itself and their correlation with metrics relating to user interaction with content."
   ]
  },
  {
   "cell_type": "markdown",
   "metadata": {},
   "source": [
    "## Individual distributions"
   ]
  },
  {
   "cell_type": "code",
   "execution_count": null,
   "metadata": {},
   "outputs": [],
   "source": [
    "content_performance.columns"
   ]
  },
  {
   "cell_type": "markdown",
   "metadata": {},
   "source": [
    "#### Content versions (could be multiple versions of a page) with survey responses"
   ]
  },
  {
   "cell_type": "code",
   "execution_count": null,
   "metadata": {},
   "outputs": [],
   "source": [
    "content_performance.content_id.nunique()"
   ]
  },
  {
   "cell_type": "code",
   "execution_count": null,
   "metadata": {},
   "outputs": [],
   "source": [
    "content_performance.id.nunique()"
   ]
  },
  {
   "cell_type": "markdown",
   "metadata": {},
   "source": [
    "### Histograms"
   ]
  },
  {
   "cell_type": "code",
   "execution_count": null,
   "metadata": {},
   "outputs": [],
   "source": [
    "ga_vars = content_performance[['pageviews', \n",
    "                  'unique_pageviews', \n",
    "                  'feedex_comments', \n",
    "                  'is_this_useful_yes',\n",
    "                               'is_this_useful_no',\n",
    "                  'number_of_internal_searches','exits', 'entrances', 'bounce_rate', \n",
    "                  'count_survey_responses',\n",
    "                  'response_per_pageview', \n",
    "                  'response_per_unique_pageview',\n",
    "                  'useful_per_responses', \n",
    "                  'total_to_unique_pageviews',\n",
    "                               'feedex_per_unique_1000'\n",
    "                 ]].replace([np.inf, -np.inf], np.nan)\n",
    "spell_grammar_vars = content_performance[[\n",
    "                  'readability_score', \n",
    "                  'contractions_count', \n",
    "                  'equality_count',\n",
    "                  'indefinite_article_count', \n",
    "                  'passive_count', \n",
    "                  'profanities_count',\n",
    "                  'redundant_acronyms_count', \n",
    "                  'repeated_words_count', \n",
    "                  'simplify_count',\n",
    "                  'spell_count',  \n",
    "                 ]].replace([np.inf, -np.inf], np.nan)\n",
    "content_vars = content_performance[[ \n",
    "                  'number_of_pdfs', \n",
    "                  'number_of_word_files',\n",
    "                  'string_length', \n",
    "                  'sentence_count', \n",
    "                  'word_count'\n",
    "                 ]].replace([np.inf, -np.inf], np.nan)\n",
    "\n",
    "all_content_vars = content_performance[[ 'pageviews', \n",
    "                                        'unique_pageviews', \n",
    "                                        'feedex_comments',\n",
    "                                        'is_this_useful_yes', \n",
    "                                        'is_this_useful_no',\n",
    "                                        'number_of_internal_searches', 'exits', 'entrances', 'bounce_rate', \n",
    "                                        'number_of_pdfs', \n",
    "                                        'document_type', \n",
    "                                        'content_purpose_document_supertype',\n",
    "                                        'first_published_at', \n",
    "                                        'public_updated_at', \n",
    "                                        'number_of_word_files',\n",
    "                                        'status',                                          \n",
    "                                        'string_length', \n",
    "                                        'sentence_count', \n",
    "                                        'word_count',\n",
    "                                        'primary_organisation_content_id',\n",
    "                                        'locale',\n",
    "                                        'publishing_api_payload_version', \n",
    "                                        'count_survey_responses',\n",
    "                                        'response_per_pageview', \n",
    "                                        'response_per_unique_pageview',\n",
    "                                        'useful_per_responses', \n",
    "                                        'total_to_unique_pageviews',\n",
    "                                        'feedex_per_unique_1000', \n",
    "                                        'searches_per_pageview_1000',\n",
    "                                        'contractions_count_scaled', \n",
    "                                        'indefinite_article_count_scaled',\n",
    "                                        'redundant_acronyms_count_scaled', \n",
    "                                        'repeated_words_count_scaled',\n",
    "                                        'spell_count_scaled', \n",
    "                                        'readability_score_scaled',\n",
    "                                        'equality_count_scaled', \n",
    "                                        'passive_count_scaled',\n",
    "                                        'simplify_count_scaled', \n",
    "                                        'profanities_count_scaled', \n",
    "                                        'spelling_grammar',\n",
    "                                        'style', \n",
    "                                        'errors'\n",
    "                                       ]].replace([np.inf, -np.inf], np.nan)\n",
    "\n",
    "composite_vars = content_performance[['spelling_grammar',\n",
    "                                        'style', \n",
    "                                        'errors'\n",
    "                                       ]].replace([np.inf, -np.inf], np.nan)"
   ]
  },
  {
   "cell_type": "code",
   "execution_count": null,
   "metadata": {},
   "outputs": [],
   "source": [
    "# calculate the correlation matrix\n",
    "corr_all = all_content_vars.corr()\n",
    "\n",
    "# # plot the heatmap\n",
    "# sns.heatmap(corr, \n",
    "#         xticklabels=corr.columns,\n",
    "#         yticklabels=corr.columns)\n",
    "fig, ax = plt.subplots(figsize=(15, 15))\n",
    "mask = np.zeros_like(corr_all)\n",
    "mask[np.triu_indices_from(mask)] = True\n",
    "with sns.axes_style(\"white\"):\n",
    "    ax = sns.heatmap(corr_all, mask=mask, square=True, cmap=\"YlGnBu\")"
   ]
  },
  {
   "cell_type": "code",
   "execution_count": null,
   "metadata": {},
   "outputs": [],
   "source": [
    "# calculate the correlation matrix\n",
    "corr_all['bounce_rate'].sort_values(ascending=False)"
   ]
  },
  {
   "cell_type": "code",
   "execution_count": null,
   "metadata": {},
   "outputs": [],
   "source": [
    "sns.pairplot(all_content_vars, vars=['pageviews', \n",
    "                                        'unique_pageviews',\n",
    "                                         'bounce_rate', \n",
    "                                        'number_of_pdfs', \n",
    "                                        'number_of_word_files',                                     \n",
    "                                        'string_length', \n",
    "                                        'sentence_count', \n",
    "                                        'word_count',\n",
    "                                        'count_survey_responses',\n",
    "                                        'response_per_pageview', \n",
    "                                        'response_per_unique_pageview',\n",
    "                                        'useful_per_responses', \n",
    "                                        'total_to_unique_pageviews',\n",
    "                                        'feedex_per_unique_1000', \n",
    "                                        'searches_per_pageview_1000',\n",
    "                                        'contractions_count_scaled', \n",
    "                                        'indefinite_article_count_scaled',\n",
    "                                        'redundant_acronyms_count_scaled', \n",
    "                                        'repeated_words_count_scaled',\n",
    "                                        'spell_count_scaled', \n",
    "                                        'readability_score_scaled',\n",
    "                                        'equality_count_scaled', \n",
    "                                        'passive_count_scaled',\n",
    "                                        'simplify_count_scaled', \n",
    "                                        'profanities_count_scaled', \n",
    "                                        'spelling_grammar',\n",
    "                                        'style', \n",
    "                                        'errors'], hue='content_purpose_document_supertype')"
   ]
  },
  {
   "cell_type": "code",
   "execution_count": null,
   "metadata": {},
   "outputs": [],
   "source": [
    "# calculate the correlation matrix\n",
    "corr = ga_vars.corr()\n",
    "\n",
    "# # plot the heatmap\n",
    "# sns.heatmap(corr, \n",
    "#         xticklabels=corr.columns,\n",
    "#         yticklabels=corr.columns)\n",
    "\n",
    "mask = np.zeros_like(corr)\n",
    "mask[np.triu_indices_from(mask)] = True\n",
    "with sns.axes_style(\"white\"):\n",
    "    ax = sns.heatmap(corr, mask=mask, square=True, cmap=\"YlGnBu\")"
   ]
  },
  {
   "cell_type": "code",
   "execution_count": null,
   "metadata": {},
   "outputs": [],
   "source": [
    "# calculate the correlation matrix\n",
    "corr_sg = spell_grammar_vars.corr()\n",
    "\n",
    "# # plot the heatmap\n",
    "# sns.heatmap(corr_sg, \n",
    "#         xticklabels=corr_sg.columns,\n",
    "#         yticklabels=corr_sg.columns)\n",
    "\n",
    "mask = np.zeros_like(corr_sg)\n",
    "mask[np.triu_indices_from(mask)] = True\n",
    "with sns.axes_style(\"white\"):\n",
    "    ax = sns.heatmap(corr_sg, mask=mask, square=True, cmap=\"YlGnBu\")"
   ]
  },
  {
   "cell_type": "code",
   "execution_count": null,
   "metadata": {},
   "outputs": [],
   "source": [
    "# calculate the correlation matrix\n",
    "corr_content = content_vars.corr()\n",
    "\n",
    "# # plot the heatmap\n",
    "# sns.heatmap(corr_content, \n",
    "#         xticklabels=corr_content.columns,\n",
    "#         yticklabels=corr_content.columns)\n",
    "\n",
    "mask = np.zeros_like(corr_content)\n",
    "mask[np.triu_indices_from(mask)] = True\n",
    "with sns.axes_style(\"white\"):\n",
    "    ax = sns.heatmap(corr_content, mask=mask, square=True, cmap=\"YlGnBu\")"
   ]
  },
  {
   "cell_type": "markdown",
   "metadata": {},
   "source": [
    "### proportion zero"
   ]
  },
  {
   "cell_type": "code",
   "execution_count": null,
   "metadata": {},
   "outputs": [],
   "source": [
    "unscaled_content_vars = content_performance[[ 'pageviews', \n",
    "                                        'unique_pageviews', \n",
    "                                        'feedex_comments',\n",
    "                                        'is_this_useful_yes', \n",
    "                                        'is_this_useful_no',\n",
    "                                        'number_of_internal_searches','exits', 'entrances', 'bounce_rate', \n",
    "                                        'number_of_pdfs',                                 \n",
    "                                        'number_of_word_files',                                        \n",
    "                                        'string_length', \n",
    "                                        'sentence_count', \n",
    "                                        'word_count',\n",
    "                                        'count_survey_responses',\n",
    "                                        'response_per_pageview', \n",
    "                                        'response_per_unique_pageview',\n",
    "                                        'useful_per_responses', \n",
    "                                        'total_to_unique_pageviews',\n",
    "                                        'feedex_per_unique_1000', \n",
    "                                        'searches_per_pageview_1000',\n",
    "                                        'contractions_count', \n",
    "                                        'indefinite_article_count',\n",
    "                                        'redundant_acronyms_count', \n",
    "                                        'repeated_words_count',\n",
    "                                        'spell_count', \n",
    "                                        'readability_score',\n",
    "                                        'equality_count', \n",
    "                                        'passive_count',\n",
    "                                        'simplify_count', \n",
    "                                        'profanities_count', \n",
    "                                        'spelling_grammar',\n",
    "                                        'style', \n",
    "                                        'errors'\n",
    "                                       ]].replace([np.inf, -np.inf], np.nan)"
   ]
  },
  {
   "cell_type": "code",
   "execution_count": null,
   "metadata": {},
   "outputs": [],
   "source": [
    "percent_zero = unscaled_content_vars[unscaled_content_vars == 0].count(axis=0)/len(unscaled_content_vars.index)*100"
   ]
  },
  {
   "cell_type": "code",
   "execution_count": null,
   "metadata": {},
   "outputs": [],
   "source": [
    "percent_zero.sort_values(ascending=False).plot(kind = 'barh', figsize=(12, 12), color='#2B8CC4', title='Percent of content editions where count/score is zero')"
   ]
  },
  {
   "cell_type": "code",
   "execution_count": null,
   "metadata": {},
   "outputs": [],
   "source": [
    "ga_vars.describe()"
   ]
  },
  {
   "cell_type": "code",
   "execution_count": null,
   "metadata": {},
   "outputs": [],
   "source": [
    "ga_vars.pageviews.describe()"
   ]
  },
  {
   "cell_type": "code",
   "execution_count": null,
   "metadata": {},
   "outputs": [],
   "source": [
    "np.log(18)"
   ]
  },
  {
   "cell_type": "code",
   "execution_count": null,
   "metadata": {},
   "outputs": [],
   "source": [
    "np.exp(15)"
   ]
  },
  {
   "cell_type": "code",
   "execution_count": null,
   "metadata": {},
   "outputs": [],
   "source": [
    "ga_vars.boxplot(rot=90)"
   ]
  },
  {
   "cell_type": "code",
   "execution_count": null,
   "metadata": {},
   "outputs": [],
   "source": [
    "sns.boxplot(data=ga_vars)"
   ]
  },
  {
   "cell_type": "code",
   "execution_count": null,
   "metadata": {},
   "outputs": [],
   "source": [
    "ga_vars.hist(bins=100, figsize=(30, 25))"
   ]
  },
  {
   "cell_type": "code",
   "execution_count": null,
   "metadata": {},
   "outputs": [],
   "source": [
    "ga_vars['bounce_rate'].hist(bins=20, figsize=(12, 10))"
   ]
  },
  {
   "cell_type": "code",
   "execution_count": null,
   "metadata": {},
   "outputs": [],
   "source": [
    "np.log(ga_vars['bounce_rate']+1).hist(bins=20, figsize=(5, 5), grid=False)"
   ]
  },
  {
   "cell_type": "code",
   "execution_count": null,
   "metadata": {},
   "outputs": [],
   "source": [
    "composite_vars.hist(bins=100, figsize=(10, 10))"
   ]
  },
  {
   "cell_type": "code",
   "execution_count": null,
   "metadata": {},
   "outputs": [],
   "source": [
    "content_vars.hist(bins=100, figsize=(30, 30))"
   ]
  },
  {
   "cell_type": "code",
   "execution_count": null,
   "metadata": {},
   "outputs": [],
   "source": [
    "spell_grammar_vars.hist(bins=100, figsize=(30, 30))"
   ]
  },
  {
   "cell_type": "code",
   "execution_count": null,
   "metadata": {},
   "outputs": [],
   "source": [
    "ga_vars['pageviews'].hist(bins=50)\n",
    "plt.xticks(rotation=90)"
   ]
  },
  {
   "cell_type": "code",
   "execution_count": null,
   "metadata": {},
   "outputs": [],
   "source": [
    "ga_vars.boxplot(column='pageviews', by=None, ax=None, fontsize=None, rot=0, grid=True, figsize=None, layout=None, return_type=None)"
   ]
  },
  {
   "cell_type": "code",
   "execution_count": null,
   "metadata": {},
   "outputs": [],
   "source": [
    "ga_vars['pageviews'].hist(bins=50, range=(0, 100), grid=False, figsize=(5, 5))\n",
    "plt.xticks(rotation=90)"
   ]
  },
  {
   "cell_type": "code",
   "execution_count": null,
   "metadata": {},
   "outputs": [],
   "source": [
    "ga_vars['pageviews'].hist(bins=50, range=(0, 1))\n",
    "plt.xticks(rotation=90)"
   ]
  },
  {
   "cell_type": "code",
   "execution_count": null,
   "metadata": {},
   "outputs": [],
   "source": [
    "log_transformed = (ga_vars['pageviews']+1).apply(np.log)\n",
    "\n",
    "log_transformed.hist(bins=100)"
   ]
  },
  {
   "cell_type": "code",
   "execution_count": null,
   "metadata": {},
   "outputs": [],
   "source": [
    "np.log(1)"
   ]
  },
  {
   "cell_type": "code",
   "execution_count": null,
   "metadata": {},
   "outputs": [],
   "source": [
    "\n",
    "sqrt_transformed = ga_vars['pageviews'].apply(np.sqrt) # Get the square root of data points*\n",
    "\n",
    "sqrt_transformed.hist(     # Plot histogram\n",
    "                 bins=100)"
   ]
  },
  {
   "cell_type": "code",
   "execution_count": null,
   "metadata": {},
   "outputs": [],
   "source": [
    "#    'status',  'document_type', 'content_purpose_document_supertype',\n",
    "#        'first_published_at', 'public_updated_at', 'primary_organisation_title', \n",
    "#                   'locale',"
   ]
  },
  {
   "cell_type": "code",
   "execution_count": null,
   "metadata": {},
   "outputs": [],
   "source": [
    "content_performance[content_performance['count_survey_responses']>0].shape"
   ]
  },
  {
   "cell_type": "code",
   "execution_count": null,
   "metadata": {},
   "outputs": [],
   "source": [
    "content_performance[content_performance['count_survey_responses']==0].shape"
   ]
  },
  {
   "cell_type": "code",
   "execution_count": null,
   "metadata": {},
   "outputs": [],
   "source": [
    "content_performance[content_performance['count_survey_responses']>0].shape[0] + content_performance[content_performance['count_survey_responses']==0].shape[0]"
   ]
  },
  {
   "cell_type": "code",
   "execution_count": null,
   "metadata": {},
   "outputs": [],
   "source": [
    "content_performance[content_performance['count_survey_responses'].isnull()].shape[0] + \\\n",
    "content_performance[content_performance['count_survey_responses']>0].shape[0] + \\\n",
    "content_performance[content_performance['count_survey_responses']==0].shape[0]"
   ]
  },
  {
   "cell_type": "code",
   "execution_count": null,
   "metadata": {},
   "outputs": [],
   "source": [
    "print(\"{} out of {} ({}%) versions of pages have at least 1 survey response\".format(\n",
    "    content_performance[content_performance['count_survey_responses']>0].shape[0], \n",
    "    content_performance.id.nunique(), \n",
    "    content_performance[content_performance['count_survey_responses']>0].shape[0]/ \n",
    "    content_performance.id.nunique()*100\n",
    "                                                                                   ))"
   ]
  },
  {
   "cell_type": "markdown",
   "metadata": {},
   "source": [
    "#### Useful_per_response"
   ]
  },
  {
   "cell_type": "code",
   "execution_count": null,
   "metadata": {},
   "outputs": [],
   "source": [
    "content_performance.useful_per_responses.describe()"
   ]
  },
  {
   "cell_type": "code",
   "execution_count": null,
   "metadata": {},
   "outputs": [],
   "source": [
    "(content_performance['useful_per_responses']*100).hist(bins=100, range=(0, 100))\n",
    "plt.title('Percent of respondents who found edition useful')"
   ]
  },
  {
   "cell_type": "code",
   "execution_count": null,
   "metadata": {},
   "outputs": [],
   "source": [
    "content_performance[content_performance['count_survey_responses']>1000].shape"
   ]
  },
  {
   "cell_type": "code",
   "execution_count": null,
   "metadata": {},
   "outputs": [],
   "source": [
    "def estimate_sample_size(p_hat, z, accuracy):\n",
    "    n = (p_hat*(1-p_hat)*z**2)/accuracy**2\n",
    "    print (\"Estimating the required sample size to estimate a proportion within {}% \\n given our uninformative estimate of {}%, making this a conservative n\".format(accuracy*100, p_hat*100, ))\n",
    "    return n"
   ]
  },
  {
   "cell_type": "code",
   "execution_count": null,
   "metadata": {},
   "outputs": [],
   "source": [
    "estimate_sample_size(0.5, 1.96, 0.1)"
   ]
  },
  {
   "cell_type": "code",
   "execution_count": null,
   "metadata": {},
   "outputs": [],
   "source": [
    "accurate_proportions = content_performance[content_performance['count_survey_responses']>100]"
   ]
  },
  {
   "cell_type": "code",
   "execution_count": null,
   "metadata": {},
   "outputs": [],
   "source": [
    "accurate_proportions.shape"
   ]
  },
  {
   "cell_type": "code",
   "execution_count": null,
   "metadata": {},
   "outputs": [],
   "source": [
    "accurate_proportions.shape[0]/content_performance.id.nunique()*100"
   ]
  },
  {
   "cell_type": "code",
   "execution_count": null,
   "metadata": {},
   "outputs": [],
   "source": [
    "content_performance.id.nunique()"
   ]
  },
  {
   "cell_type": "code",
   "execution_count": null,
   "metadata": {},
   "outputs": [],
   "source": [
    "accurate_proportions.id.nunique()"
   ]
  },
  {
   "cell_type": "code",
   "execution_count": null,
   "metadata": {},
   "outputs": [],
   "source": [
    "accurate_proportions.shape[0]/sum(content_performance['count_survey_responses']>0)*100"
   ]
  },
  {
   "cell_type": "code",
   "execution_count": null,
   "metadata": {},
   "outputs": [],
   "source": [
    "sum(content_performance['count_survey_responses']>0)"
   ]
  },
  {
   "cell_type": "code",
   "execution_count": null,
   "metadata": {},
   "outputs": [],
   "source": [
    "(accurate_proportions['useful_per_responses']*100).hist(bins=100, range=(0, 100), grid=False)\n",
    "plt.title('Percent of respondents who found edition useful')"
   ]
  },
  {
   "cell_type": "code",
   "execution_count": null,
   "metadata": {},
   "outputs": [],
   "source": [
    "#accurate_proportions.to_csv(os.path.join(DATADIR, 'accurate_proportions.csv.gz'), compression='gzip')\n",
    "accurate_proportions.to_csv('../DATA/accurate_proportions.csv')"
   ]
  },
  {
   "cell_type": "markdown",
   "metadata": {},
   "source": [
    "#### responses_per_pageview"
   ]
  },
  {
   "cell_type": "code",
   "execution_count": null,
   "metadata": {},
   "outputs": [],
   "source": [
    "content_performance = content_performance.replace([np.inf, -np.inf], np.nan).copy()"
   ]
  },
  {
   "cell_type": "code",
   "execution_count": null,
   "metadata": {},
   "outputs": [],
   "source": [
    "content_performance.response_per_pageview.describe()"
   ]
  },
  {
   "cell_type": "code",
   "execution_count": null,
   "metadata": {},
   "outputs": [],
   "source": [
    "content_performance[content_performance['response_per_unique_pageview']>1]"
   ]
  },
  {
   "cell_type": "markdown",
   "metadata": {},
   "source": [
    "Can't yet explain why these items were only viewed once but have 5 survey responses. \n",
    "Concerning regarding the denominator!"
   ]
  },
  {
   "cell_type": "code",
   "execution_count": null,
   "metadata": {},
   "outputs": [],
   "source": [
    "plt.scatter(content_performance.pageviews,  content_performance.count_survey_responses, alpha=0.2)\n",
    "plt.title(\"proportion of responses by pageviews\")\n",
    "plt.xlabel('pageviews')\n",
    "plt.ylabel('responses')"
   ]
  },
  {
   "cell_type": "code",
   "execution_count": null,
   "metadata": {},
   "outputs": [],
   "source": [
    "from scipy import stats\n",
    "slope, intercept, r_value, p_value, std_err = stats.linregress(content_performance.pageviews, content_performance.count_survey_responses)"
   ]
  },
  {
   "cell_type": "code",
   "execution_count": null,
   "metadata": {},
   "outputs": [],
   "source": [
    "plt.plot(content_performance.pageviews, content_performance.count_survey_responses, 'o', label='original data', alpha=0.2)\n",
    "plt.title(\"proportion of responses by pageviews\")\n",
    "plt.xlabel('pageviews')\n",
    "plt.ylabel('responses')\n",
    "plt.plot(content_performance.pageviews, intercept + slope*content_performance.pageviews, 'r', label='fitted line')\n",
    "plt.legend()\n",
    "plt.show()"
   ]
  },
  {
   "cell_type": "code",
   "execution_count": null,
   "metadata": {},
   "outputs": [],
   "source": [
    "plt.plot(content_performance.string_length, content_performance.response_per_pageview, 'o', label='original data', alpha=0.2)\n",
    "plt.title(\"response rate by string length\")\n",
    "plt.xlabel('string_length')\n",
    "plt.ylabel('response rate (per pageview)')"
   ]
  },
  {
   "cell_type": "code",
   "execution_count": null,
   "metadata": {},
   "outputs": [],
   "source": [
    "import statsmodels.api as sm\n",
    "glm_poisson = sm.GLM(content_performance.count_survey_responses,content_performance.pageviews, family=sm.families.Poisson())\n",
    "res = glm_poisson.fit()\n",
    "print(res.summary())"
   ]
  },
  {
   "cell_type": "code",
   "execution_count": null,
   "metadata": {},
   "outputs": [],
   "source": [
    "# nobs = res.nobs\n",
    "# # y = data.endog[:,0]/data.endog.sum(1)\n",
    "# yhat = res.mu"
   ]
  },
  {
   "cell_type": "code",
   "execution_count": null,
   "metadata": {},
   "outputs": [],
   "source": [
    "# from statsmodels.graphics.api import abline_plot"
   ]
  },
  {
   "cell_type": "code",
   "execution_count": null,
   "metadata": {},
   "outputs": [],
   "source": [
    "# fig, ax = plt.subplots()\n",
    "# ax.scatter(yhat, content_performance.count_survey_responses)\n",
    "# line_fit = sm.OLS(content_performance.count_survey_responses, sm.add_constant(yhat, prepend=True)).fit()\n",
    "# abline_plot(model_results=line_fit, ax=ax)\n",
    "\n",
    "\n",
    "# ax.set_title('Model Fit Plot')\n",
    "# ax.set_ylabel('Observed values')\n",
    "# ax.set_xlabel('Fitted values')"
   ]
  },
  {
   "cell_type": "code",
   "execution_count": null,
   "metadata": {},
   "outputs": [],
   "source": [
    "plt.scatter(content_performance.pageviews,  content_performance.useful_per_responses, alpha=0.2)\n",
    "plt.title(\"proportion of responses by pageviews\")\n",
    "plt.xlabel('pageviews')\n",
    "plt.ylabel('p(responses)')"
   ]
  },
  {
   "cell_type": "code",
   "execution_count": null,
   "metadata": {},
   "outputs": [],
   "source": [
    "plt.scatter(content_performance.count_survey_responses,  content_performance.useful_per_responses, alpha=0.2)\n",
    "plt.title(\"proportion of repsondents who found page useful by responses\")"
   ]
  },
  {
   "cell_type": "code",
   "execution_count": null,
   "metadata": {},
   "outputs": [],
   "source": [
    "plt.scatter(content_performance.pageviews,  content_performance.useful_per_responses, alpha=0.2)\n",
    "plt.title(\"proportion of repsondents who found page useful by pageviews\")"
   ]
  },
  {
   "cell_type": "code",
   "execution_count": null,
   "metadata": {},
   "outputs": [],
   "source": [
    "# normal values\n",
    "plt.figure(figsize=(7, 5))\n",
    "# plt.text(0, 0, \"taxons with no content in dev set\", color='red', horizontalalignment='center', \n",
    "#          verticalalignment='bottom')\n",
    "plt.xlabel('responses')\n",
    "plt.ylabel('proportion useful')\n",
    "plt.scatter(content_performance.count_survey_responses[content_performance['useful_per_responses']>=0.5],  \n",
    "                                                       content_performance.useful_per_responses[content_performance['useful_per_responses']>=0.5], \n",
    "                                                                                                c = 'b',\n",
    "                                                                                                alpha=0.2, \n",
    "                                                                                                )\n",
    "# less than 0.8\n",
    "plt.scatter(content_performance.count_survey_responses[content_performance['useful_per_responses']<0.5 ],  \n",
    "                                                       content_performance.useful_per_responses[content_performance['useful_per_responses']<0.5], \n",
    "                                                                                                c = 'red',\n",
    "                                                                                                alpha=0.2, \n",
    "                                                                                                )\n",
    "\n",
    "\n",
    "plt.title(\"proportion of repsondents who found page useful by responses\")\n",
    "\n",
    "# for label, x, y in zip(dev_metrics['taxon2label'], dev_metrics['support'], dev_metrics['f1']):\n",
    "#     if ((x>300 and y<0.8) or (x>1000)):\n",
    "#         plt.annotate(\n",
    "#             label,\n",
    "#             xy=(x, y), xytext=(-1, 1),\n",
    "#             textcoords='offset points', ha='right', va='bottom')\n",
    "#     if (y==1):\n",
    "#         label = \"\"\n",
    "#         plt.annotate(\n",
    "#             label,\n",
    "#             xy=(x, y), xytext=(-1, 1),\n",
    "#             textcoords='offset points', ha='right', va='bottom')"
   ]
  },
  {
   "cell_type": "code",
   "execution_count": null,
   "metadata": {},
   "outputs": [],
   "source": [
    "# normal values\n",
    "plt.figure(figsize=(7, 5))\n",
    "# plt.text(0, 0, \"taxons with no content in dev set\", color='red', horizontalalignment='center', \n",
    "#          verticalalignment='bottom')\n",
    "plt.xlabel('pageviews')\n",
    "plt.ylabel('proportion useful')\n",
    "plt.scatter(content_performance.pageviews[(content_performance['useful_per_responses']>=0.5) & (content_performance['pageviews']>1)],  \n",
    "                                                       content_performance.useful_per_responses[(content_performance['useful_per_responses']>=0.5)  & (content_performance['pageviews']>1)], \n",
    "                                                                                                c = 'b',\n",
    "                                                                                                alpha=0.2, \n",
    "                                                                                                )\n",
    "# less than 0.8\n",
    "plt.scatter(content_performance.pageviews[(content_performance['useful_per_responses']<0.5 ) & (content_performance['pageviews']>1)],  \n",
    "                                                       content_performance.useful_per_responses[(content_performance['useful_per_responses']<0.5) & (content_performance['pageviews']>1)], \n",
    "                                                                                                c = 'red',\n",
    "                                                                                                alpha=0.2, \n",
    "                                                                                                )\n",
    "\n",
    "\n",
    "\n",
    "\n",
    "plt.title(\"proportion of repsondents who found page useful by pageviews \\n(for pages with at least one view)\")\n",
    "\n",
    "plt.xticks(rotation=90)\n",
    "\n",
    "# for label, x, y in zip(dev_metrics['taxon2label'], dev_metrics['support'], dev_metrics['f1']):\n",
    "#     if ((x>300 and y<0.8) or (x>1000)):\n",
    "#         plt.annotate(\n",
    "#             label,\n",
    "#             xy=(x, y), xytext=(-1, 1),\n",
    "#             textcoords='offset points', ha='right', va='bottom')\n",
    "#     if (y==1):\n",
    "#         label = \"\"\n",
    "#         plt.annotate(\n",
    "#             label,\n",
    "#             xy=(x, y), xytext=(-1, 1),\n",
    "#             textcoords='offset points', ha='right', va='bottom')"
   ]
  },
  {
   "cell_type": "code",
   "execution_count": null,
   "metadata": {},
   "outputs": [],
   "source": [
    "# normal values\n",
    "plt.figure(figsize=(7, 5))\n",
    "# plt.text(0, 0, \"taxons with no content in dev set\", color='red', horizontalalignment='center', \n",
    "#          verticalalignment='bottom')\n",
    "plt.xlabel('pageviews')\n",
    "plt.ylabel('proportion useful')\n",
    "plt.scatter(accurate_proportions.pageviews[(accurate_proportions['useful_per_responses']>=0.5) & (accurate_proportions['pageviews']>1)],  \n",
    "                                                       accurate_proportions.useful_per_responses[(accurate_proportions['useful_per_responses']>=0.5)  & (accurate_proportions['pageviews']>1)], \n",
    "                                                                                                c = 'b',\n",
    "                                                                                                alpha=0.2, \n",
    "                                                                                                )\n",
    "# less than 0.8\n",
    "plt.scatter(accurate_proportions.pageviews[(accurate_proportions['useful_per_responses']<0.5 ) & (accurate_proportions['pageviews']>1)],  \n",
    "                                                       accurate_proportions.useful_per_responses[(accurate_proportions['useful_per_responses']<0.5) & (accurate_proportions['pageviews']>1)], \n",
    "                                                                                                c = 'red',\n",
    "                                                                                                alpha=0.2, \n",
    "                                                                                                )\n",
    "\n",
    "\n",
    "\n",
    "\n",
    "plt.title(\"proportion of repsondents who found page useful by pageviews \\n(for pages with at least one view)\")\n",
    "\n",
    "plt.xticks(rotation=90)\n",
    "\n",
    "# for label, x, y in zip(dev_metrics['taxon2label'], dev_metrics['support'], dev_metrics['f1']):\n",
    "#     if ((x>300 and y<0.8) or (x>1000)):\n",
    "#         plt.annotate(\n",
    "#             label,\n",
    "#             xy=(x, y), xytext=(-1, 1),\n",
    "#             textcoords='offset points', ha='right', va='bottom')\n",
    "#     if (y==1):\n",
    "#         label = \"\"\n",
    "#         plt.annotate(\n",
    "#             label,\n",
    "#             xy=(x, y), xytext=(-1, 1),\n",
    "#             textcoords='offset points', ha='right', va='bottom')"
   ]
  },
  {
   "cell_type": "code",
   "execution_count": null,
   "metadata": {},
   "outputs": [],
   "source": [
    "# normal values\n",
    "fig, ax = plt.subplots(figsize=(7, 5))\n",
    "\n",
    "# plt.text(0, 0, \"taxons with no content in dev set\", color='red', horizontalalignment='center', \n",
    "#          verticalalignment='bottom')\n",
    "plt.xlabel('pageviews')\n",
    "plt.ylabel('proportion useful')\n",
    "ax.scatter(accurate_proportions.pageviews[(accurate_proportions['useful_per_responses']>=0.5) & (accurate_proportions['pageviews']>1)],  \n",
    "                                                       accurate_proportions.useful_per_responses[(accurate_proportions['useful_per_responses']>=0.5)  & (accurate_proportions['pageviews']>1)], \n",
    "                                                                                                c = 'b',\n",
    "                                                                                                alpha=0.2, \n",
    "                                                                                                )\n",
    "# less than 0.8\n",
    "ax.scatter(accurate_proportions.pageviews[(accurate_proportions['useful_per_responses']<0.5 ) & (accurate_proportions['pageviews']>1)],  \n",
    "                                                       accurate_proportions.useful_per_responses[(accurate_proportions['useful_per_responses']<0.5) & (accurate_proportions['pageviews']>1)], \n",
    "                                                                                                c = 'red',\n",
    "                                                                                                alpha=0.2, \n",
    "                                                                                                )\n",
    "\n",
    "\n",
    "\n",
    "\n",
    "plt.title(\"proportion of repsondents who found page useful by pageviews \\n(for pages with at least one view)\")\n",
    "\n",
    "plt.xticks(rotation=90)\n",
    "\n",
    "# for i, txt in enumerate(accurate_proportions['base_path']):\n",
    "    \n",
    "#     ax.annotate(txt, (accurate_proportions['pageviews'][i],accurate_proportions['useful_per_responses'][i]))\n",
    "\n",
    "for label, x, y in zip(accurate_proportions['title'], accurate_proportions['pageviews'], accurate_proportions['useful_per_responses']):\n",
    "    if (x>2000000 and y<0.5):\n",
    "        ax.annotate(\n",
    "            label,\n",
    "            xy=(x, y), xytext=(1, 1), size=8,\n",
    "            textcoords='offset points', ha='left', va='bottom')\n",
    "#     if (y==1):\n",
    "#         label = \"\"\n",
    "#         plt.annotate(\n",
    "#             label,\n",
    "#             xy=(x, y), xytext=(-1, 1),\n",
    "#             textcoords='offset points', ha='right', va='bottom')"
   ]
  },
  {
   "cell_type": "markdown",
   "metadata": {},
   "source": [
    "### like CAB backlogger\n",
    "https://wearecitizensadvice.org.uk/how-to-prioritise-3-000-pages-start-with-data-db107ac53e74\n"
   ]
  },
  {
   "cell_type": "markdown",
   "metadata": {},
   "source": [
    "#### Need to improve"
   ]
  },
  {
   "cell_type": "code",
   "execution_count": null,
   "metadata": {},
   "outputs": [],
   "source": [
    "# normal values\n",
    "fig, ax = plt.subplots(figsize=(7, 5))\n",
    "\n",
    "# plt.text(0, 0, \"taxons with no content in dev set\", color='red', horizontalalignment='center', \n",
    "#          verticalalignment='bottom')\n",
    "plt.xlabel('pageviews')\n",
    "plt.ylabel('proportion useful')\n",
    "ax.scatter(accurate_proportions.pageviews[(accurate_proportions['useful_per_responses']<0.5) & (accurate_proportions['pageviews']>accurate_proportions['pageviews'].mean())],  \n",
    "        accurate_proportions.useful_per_responses[(accurate_proportions['useful_per_responses']<0.5)  & (accurate_proportions['pageviews']>accurate_proportions['pageviews'].mean())], \n",
    "                                                                                                c = '#e34a33' \n",
    "                                                                                                )\n",
    "\n",
    "\n",
    "\n",
    "fig.patch.set_facecolor('#fee8c8')\n",
    "ax.set_facecolor('#fee8c8')\n",
    "plt.title(\"Need to improve\")\n",
    "plt.axis('off')\n",
    "plt.xticks(rotation=90)\n",
    "\n",
    "\n",
    "# for i, txt in enumerate(accurate_proportions['base_path']):\n",
    "    \n",
    "#     ax.annotate(txt, (accurate_proportions['pageviews'][i],accurate_proportions['useful_per_responses'][i]))\n",
    "\n",
    "for label, x, y in zip(accurate_proportions['title'], accurate_proportions['pageviews'], accurate_proportions['useful_per_responses']):\n",
    "    if (x>2000000):\n",
    "        ax.annotate(\n",
    "            label,\n",
    "            xy=(x, y), xytext=(1, 1), size=8,\n",
    "            textcoords='offset points', ha='left', va='bottom')\n"
   ]
  },
  {
   "cell_type": "code",
   "execution_count": null,
   "metadata": {},
   "outputs": [],
   "source": [
    "# normal values\n",
    "fig, ax = plt.subplots(figsize=(7, 5))\n",
    "\n",
    "# plt.text(0, 0, \"taxons with no content in dev set\", color='red', horizontalalignment='center', \n",
    "#          verticalalignment='bottom')\n",
    "plt.xlabel('pageviews')\n",
    "plt.ylabel('proportion useful')\n",
    "ax.scatter(content_performance.pageviews[(content_performance['useful_per_responses']<0.5) & (content_performance['pageviews']>content_performance['pageviews'].mean())],  \n",
    "        content_performance.useful_per_responses[(content_performance['useful_per_responses']<0.5)  & (content_performance['pageviews']>content_performance['pageviews'].mean())], \n",
    "                                                                                                c = '#e34a33' \n",
    "                                                                                                )\n",
    "\n",
    "\n",
    "\n",
    "fig.patch.set_facecolor('#fee8c8')\n",
    "ax.set_facecolor('#fee8c8')\n",
    "plt.title(\"Need to improve\")\n",
    "\n",
    "plt.xticks(rotation=90)\n",
    "\n",
    "\n",
    "# for i, txt in enumerate(accurate_proportions['base_path']):\n",
    "    \n",
    "# #     ax.annotate(txt, (accurate_proportions['pageviews'][i],accurate_proportions['useful_per_responses'][i]))\n",
    "\n",
    "for label, x, y in zip(content_performance['title'], content_performance['pageviews'], content_performance['useful_per_responses']):\n",
    "    if (x>2000000):\n",
    "        ax.annotate(\n",
    "            label,\n",
    "            xy=(x, y), xytext=(1, 1), size=8,\n",
    "            textcoords='offset points', ha='left', va='bottom')\n"
   ]
  },
  {
   "cell_type": "code",
   "execution_count": null,
   "metadata": {},
   "outputs": [],
   "source": [
    "from adjustText import adjust_text\n",
    "\n",
    "# normal values\n",
    "fig, ax = plt.subplots(figsize=(9, 5))\n",
    "\n",
    "# plt.text(0, 0, \"taxons with no content in dev set\", color='red', horizontalalignment='center', \n",
    "#          verticalalignment='bottom')\n",
    "plt.xlabel('pageviews')\n",
    "plt.ylabel('proportion useful')\n",
    "ax.scatter(accurate_proportions.pageviews[(accurate_proportions['useful_per_responses']<0.5) & (accurate_proportions['pageviews']<=accurate_proportions['pageviews'].mean())],  \n",
    "        accurate_proportions.useful_per_responses[(accurate_proportions['useful_per_responses']<0.5)  & (accurate_proportions['pageviews']<=accurate_proportions['pageviews'].mean())], \n",
    "                                                                                                c = '#d95f0e' \n",
    "                                                                                                )\n",
    "\n",
    "\n",
    "\n",
    "fig.patch.set_facecolor('#fff7bc')\n",
    "ax.set_facecolor('#fff7bc')\n",
    "plt.title(\"Need to rethink\")\n",
    "\n",
    "plt.xticks(rotation=90)\n",
    "\n",
    "# for i, txt in enumerate(accurate_proportions['base_path']):\n",
    "    \n",
    "#     ax.annotate(txt, (accurate_proportions['pageviews'][i],accurate_proportions['useful_per_responses'][i]))\n",
    "\n",
    "for label, x, y in zip(accurate_proportions['title'], accurate_proportions['pageviews'], accurate_proportions['useful_per_responses']):\n",
    "    if (x<50000 and y<0.2):\n",
    "        ax.annotate(\n",
    "            label,\n",
    "            xy=(x, y), xytext=(1, 1), size=6, rotation=0,\n",
    "            textcoords='offset points', ha='left', va='top')\n",
    "\n",
    "plt.axis('off')\n"
   ]
  },
  {
   "cell_type": "code",
   "execution_count": null,
   "metadata": {},
   "outputs": [],
   "source": [
    "from adjustText import adjust_text\n",
    "\n",
    "# normal values\n",
    "fig, ax = plt.subplots(figsize=(7, 5))\n",
    "\n",
    "# plt.text(0, 0, \"taxons with no content in dev set\", color='red', horizontalalignment='center', \n",
    "#          verticalalignment='bottom')\n",
    "plt.xlabel('pageviews')\n",
    "plt.ylabel('proportion useful')\n",
    "ax.scatter(accurate_proportions.pageviews[(accurate_proportions['useful_per_responses']>=0.5) & (accurate_proportions['pageviews']>accurate_proportions['pageviews'].mean())],  \n",
    "        accurate_proportions.useful_per_responses[(accurate_proportions['useful_per_responses']>=0.5)  & (accurate_proportions['pageviews']>accurate_proportions['pageviews'].mean())], \n",
    "                                                                                                c = '#2ca25f' \n",
    "                                                                                                )\n",
    "\n",
    "\n",
    "\n",
    "fig.patch.set_facecolor('#e5f5f9')\n",
    "ax.set_facecolor('#e5f5f9')\n",
    "plt.title(\"Best\")\n",
    "\n",
    "plt.xticks(rotation=90)\n",
    "\n",
    "# for i, txt in enumerate(accurate_proportions['base_path']):\n",
    "    \n",
    "#     ax.annotate(txt, (accurate_proportions['pageviews'][i],accurate_proportions['useful_per_responses'][i]))\n",
    "\n",
    "for label, x, y in zip(accurate_proportions['title'], accurate_proportions['pageviews'], accurate_proportions['useful_per_responses']):\n",
    "    if (x>1000000 and y>0.75) or (x>3000000):\n",
    "        ax.annotate(\n",
    "            label,\n",
    "            xy=(x, y), xytext=(1, 1), size=8, rotation=0,\n",
    "            textcoords='offset points', ha='left', va='top')\n",
    "\n",
    "plt.axis('off')\n"
   ]
  },
  {
   "cell_type": "code",
   "execution_count": null,
   "metadata": {},
   "outputs": [],
   "source": [
    "from adjustText import adjust_text\n",
    "\n",
    "# normal values\n",
    "fig, ax = plt.subplots(figsize=(7, 5))\n",
    "\n",
    "# plt.text(0, 0, \"taxons with no content in dev set\", color='red', horizontalalignment='center', \n",
    "#          verticalalignment='bottom')\n",
    "plt.xlabel('pageviews')\n",
    "plt.ylabel('proportion useful')\n",
    "ax.scatter(accurate_proportions.pageviews[(accurate_proportions['useful_per_responses']>=0.5) & (accurate_proportions['pageviews']<=accurate_proportions['pageviews'].mean())],  \n",
    "        accurate_proportions.useful_per_responses[(accurate_proportions['useful_per_responses']>=0.5)  & (accurate_proportions['pageviews']<=accurate_proportions['pageviews'].mean())], \n",
    "                                                                                                c = '#43a2ca' \n",
    "                                                                                                )\n",
    "\n",
    "\n",
    "\n",
    "fig.patch.set_facecolor('#e0f3db')\n",
    "fig.patch.set_alpha(0.5)\n",
    "ax.set_facecolor('#e0f3db')\n",
    "ax.patch.set_alpha(0.3)\n",
    "plt.title(\"Keep going\")\n",
    "\n",
    "plt.xticks(rotation=90)\n",
    "\n",
    "# for i, txt in enumerate(accurate_proportions['base_path']):\n",
    "    \n",
    "#     ax.annotate(txt, (accurate_proportions['pageviews'][i],accurate_proportions['useful_per_responses'][i]))\n",
    "\n",
    "for label, x, y in zip(accurate_proportions['title'], accurate_proportions['pageviews'], accurate_proportions['useful_per_responses']):\n",
    "    if (x>290000 and y>0.75):\n",
    "        ax.annotate(\n",
    "            label,\n",
    "            xy=(x, y), xytext=(1, 1), size=8, rotation=0,\n",
    "            textcoords='offset points', ha='left', va='bottom')\n",
    "\n",
    "\n",
    "plt.axis('off')\n"
   ]
  },
  {
   "cell_type": "code",
   "execution_count": null,
   "metadata": {},
   "outputs": [],
   "source": [
    "from pandas.api.types import CategoricalDtype\n",
    "cat_type = CategoricalDtype(categories=['doing_great', 'keep_going', 'need_to_rethink', 'need_to_improve'], ordered=True)\n",
    "accurate_proportions['backlogger_status'] = [np.nan for i in range(len(accurate_proportions.index))]\n",
    "accurate_proportions.loc[(accurate_proportions['useful_per_responses']>0.5) & (accurate_proportions['pageviews']<=accurate_proportions['pageviews'].mean()), 'backlogger_status'] = 'keep_going'\n",
    "accurate_proportions.loc[(accurate_proportions['useful_per_responses']>0.5) & (accurate_proportions['pageviews']>accurate_proportions['pageviews'].mean()), 'backlogger_status'] = 'doing_great'\n",
    "accurate_proportions.loc[(accurate_proportions['useful_per_responses']<=0.5) & (accurate_proportions['pageviews']<=accurate_proportions['pageviews'].mean()), 'backlogger_status'] = 'need_to_rethink'\n",
    "accurate_proportions.loc[(accurate_proportions['useful_per_responses']<=0.5) & (accurate_proportions['pageviews']>accurate_proportions['pageviews'].mean()), 'backlogger_status'] = 'need_to_improve'\n",
    "accurate_proportions['backlogger_status'] = accurate_proportions['backlogger_status'].astype(cat_type)"
   ]
  },
  {
   "cell_type": "code",
   "execution_count": null,
   "metadata": {},
   "outputs": [],
   "source": [
    "means['spelling_grammar']"
   ]
  },
  {
   "cell_type": "code",
   "execution_count": null,
   "metadata": {},
   "outputs": [],
   "source": [
    "errors['spelling_grammar']"
   ]
  },
  {
   "cell_type": "code",
   "execution_count": null,
   "metadata": {},
   "outputs": [],
   "source": [
    "colors=['#e5f5f9','#e0f3db',  '#fff7bc', '#fee8c8' ]\n",
    "colors2=['#2ca25f','#43a2ca',  '#d95f0e', '#e34a33' ]"
   ]
  },
  {
   "cell_type": "code",
   "execution_count": null,
   "metadata": {},
   "outputs": [],
   "source": [
    "by_backlogger2 = accurate_proportions.groupby('backlogger_status')\n",
    "counts = by_backlogger2.count()\n",
    "means = by_backlogger2.mean()\n",
    "errors = 1.96*by_backlogger2.sem()\n",
    "fig, ax = plt.subplots()\n",
    "\n",
    "counts['spelling_grammar'].plot.bar( ax=ax, color=colors2)"
   ]
  },
  {
   "cell_type": "code",
   "execution_count": null,
   "metadata": {},
   "outputs": [],
   "source": [
    "fig, ax = plt.subplots()\n",
    "means['spelling_grammar'].plot.bar(yerr=errors['spelling_grammar'], ax=ax, color=colors2)"
   ]
  },
  {
   "cell_type": "code",
   "execution_count": null,
   "metadata": {},
   "outputs": [],
   "source": [
    "fig, ax = plt.subplots()\n",
    "means['style'].plot.bar(yerr=errors['style'], ax=ax, color=colors2)"
   ]
  },
  {
   "cell_type": "code",
   "execution_count": null,
   "metadata": {},
   "outputs": [],
   "source": [
    "fig, ax = plt.subplots()\n",
    "means['readability_score'].plot.bar(yerr=errors['readability_score'], ax=ax, color=colors2)"
   ]
  },
  {
   "cell_type": "code",
   "execution_count": null,
   "metadata": {},
   "outputs": [],
   "source": [
    "fig, ax = plt.subplots()\n",
    "means['spell_count'].plot.bar(yerr=errors['spell_count'], ax=ax, color=colors2)"
   ]
  },
  {
   "cell_type": "code",
   "execution_count": null,
   "metadata": {},
   "outputs": [],
   "source": [
    "fig, ax = plt.subplots()\n",
    "means['profanities_count'].plot.bar(yerr=errors['profanities_count'], ax=ax, color=colors2)"
   ]
  },
  {
   "cell_type": "code",
   "execution_count": null,
   "metadata": {},
   "outputs": [],
   "source": [
    "fig, ax = plt.subplots()\n",
    "means['errors'].plot.bar(yerr=errors['errors'], ax=ax, color=colors2)"
   ]
  },
  {
   "cell_type": "code",
   "execution_count": null,
   "metadata": {},
   "outputs": [],
   "source": [
    "fig, ax = plt.subplots()\n",
    "means['avg_time_on_page'].plot.bar(yerr=errors['avg_time_on_page'], ax=ax, color=colors2)"
   ]
  },
  {
   "cell_type": "code",
   "execution_count": null,
   "metadata": {},
   "outputs": [],
   "source": [
    "fig, ax = plt.subplots()\n",
    "means['string_length'].plot.bar(yerr=errors['string_length'], ax=ax, color=colors2)"
   ]
  },
  {
   "cell_type": "code",
   "execution_count": null,
   "metadata": {},
   "outputs": [],
   "source": [
    "means.columns"
   ]
  },
  {
   "cell_type": "code",
   "execution_count": null,
   "metadata": {},
   "outputs": [],
   "source": [
    "fig, ax = plt.subplots()\n",
    "means['bounce_rate'].plot.bar(yerr=errors['bounce_rate'], ax=ax, color=colors2)"
   ]
  },
  {
   "cell_type": "code",
   "execution_count": null,
   "metadata": {},
   "outputs": [],
   "source": [
    "fig, ax = plt.subplots()\n",
    "means['searches_per_pageview_1000'].plot.bar(yerr=errors['searches_per_pageview_1000'], ax=ax, color=colors2)"
   ]
  },
  {
   "cell_type": "code",
   "execution_count": null,
   "metadata": {},
   "outputs": [],
   "source": [
    "means"
   ]
  },
  {
   "cell_type": "code",
   "execution_count": null,
   "metadata": {},
   "outputs": [],
   "source": []
  },
  {
   "cell_type": "code",
   "execution_count": null,
   "metadata": {},
   "outputs": [],
   "source": [
    "by_backlogger = accurate_proportions.groupby('backlogger_status').agg(['mean', 'sem'])"
   ]
  },
  {
   "cell_type": "code",
   "execution_count": null,
   "metadata": {},
   "outputs": [],
   "source": [
    "by_backlogger"
   ]
  },
  {
   "cell_type": "code",
   "execution_count": null,
   "metadata": {},
   "outputs": [],
   "source": [
    "by_backlogger['spelling_grammar'].plot(kind='bar')"
   ]
  },
  {
   "cell_type": "code",
   "execution_count": null,
   "metadata": {},
   "outputs": [],
   "source": [
    "# plt.errorbar(by_backlogger.index, by_backlogger['spelling_grammar']['mean'], xerr=0.5, yerr=1.96*by_backlogger['spelling_grammar']['sem'], linestyle='')"
   ]
  },
  {
   "cell_type": "code",
   "execution_count": null,
   "metadata": {},
   "outputs": [],
   "source": [
    "by_backlogger['style'].plot(kind='bar')"
   ]
  },
  {
   "cell_type": "code",
   "execution_count": null,
   "metadata": {},
   "outputs": [],
   "source": [
    "by_backlogger['word_count'].plot(kind='bar')"
   ]
  },
  {
   "cell_type": "code",
   "execution_count": null,
   "metadata": {},
   "outputs": [],
   "source": [
    "by_backlogger['sentence_count'].plot(kind='bar')"
   ]
  },
  {
   "cell_type": "code",
   "execution_count": null,
   "metadata": {},
   "outputs": [],
   "source": [
    "by_backlogger['string_length'].plot(kind='bar')"
   ]
  },
  {
   "cell_type": "code",
   "execution_count": null,
   "metadata": {},
   "outputs": [],
   "source": [
    "plt.scatter(content_performance.useful_per_responses, content_performance.count_survey_responses, alpha=0.2)\n",
    "plt.ylim(0, 100)"
   ]
  },
  {
   "cell_type": "code",
   "execution_count": null,
   "metadata": {},
   "outputs": [],
   "source": [
    "content_performance.response_per_pageview.hist(bins=100)"
   ]
  },
  {
   "cell_type": "markdown",
   "metadata": {},
   "source": [
    "#### responses_unique_per_pageview"
   ]
  },
  {
   "cell_type": "code",
   "execution_count": null,
   "metadata": {},
   "outputs": [],
   "source": [
    "content_performance.response_per_unique_pageview.describe()"
   ]
  },
  {
   "cell_type": "code",
   "execution_count": null,
   "metadata": {},
   "outputs": [],
   "source": [
    "content_performance.response_per_unique_pageview.hist(bins=100, range=(0.1, 5))"
   ]
  },
  {
   "cell_type": "markdown",
   "metadata": {},
   "source": [
    "#### string_length"
   ]
  },
  {
   "cell_type": "code",
   "execution_count": null,
   "metadata": {},
   "outputs": [],
   "source": [
    "content_performance.string_length.describe()"
   ]
  },
  {
   "cell_type": "markdown",
   "metadata": {},
   "source": [
    "#### string length"
   ]
  },
  {
   "cell_type": "code",
   "execution_count": null,
   "metadata": {},
   "outputs": [],
   "source": [
    "content_performance.string_length.describe()"
   ]
  },
  {
   "cell_type": "code",
   "execution_count": null,
   "metadata": {},
   "outputs": [],
   "source": [
    "print('{} out of {} content items ({}%) have a recorded string_length of 0'.format(\n",
    "    content_performance[content_performance['string_length']==0].shape[0], \n",
    "    content_performance.content_id.nunique(),\n",
    "    round(content_performance[content_performance['string_length']==0].shape[0]/content_performance.content_id.nunique()*100, 2)))"
   ]
  },
  {
   "cell_type": "code",
   "execution_count": null,
   "metadata": {},
   "outputs": [],
   "source": [
    "content_performance.string_length.hist(bins='auto', range=(0, 7000))"
   ]
  },
  {
   "cell_type": "markdown",
   "metadata": {},
   "source": [
    "#### readability score\n",
    "\"Check readability\"?!"
   ]
  },
  {
   "cell_type": "code",
   "execution_count": null,
   "metadata": {},
   "outputs": [],
   "source": [
    "content_performance.readability_score.describe()"
   ]
  },
  {
   "cell_type": "code",
   "execution_count": null,
   "metadata": {},
   "outputs": [],
   "source": [
    "content_performance.readability_score.hist(bins='auto', range=(-750, 124))"
   ]
  },
  {
   "cell_type": "markdown",
   "metadata": {},
   "source": [
    "#### Number of pdfs"
   ]
  },
  {
   "cell_type": "code",
   "execution_count": null,
   "metadata": {},
   "outputs": [],
   "source": [
    "content_performance.number_of_pdfs.describe()"
   ]
  },
  {
   "cell_type": "code",
   "execution_count": null,
   "metadata": {},
   "outputs": [],
   "source": [
    "content_performance.number_of_pdfs.hist(bins=100, range=(0, 50))"
   ]
  },
  {
   "cell_type": "markdown",
   "metadata": {},
   "source": [
    "#### Number of word files"
   ]
  },
  {
   "cell_type": "code",
   "execution_count": null,
   "metadata": {},
   "outputs": [],
   "source": [
    "content_performance.number_of_word_files.describe()"
   ]
  },
  {
   "cell_type": "code",
   "execution_count": null,
   "metadata": {},
   "outputs": [],
   "source": [
    "content_performance.number_of_word_files.hist(bins=100, range=(0, 50))"
   ]
  },
  {
   "cell_type": "markdown",
   "metadata": {},
   "source": [
    "#### Composte vars"
   ]
  },
  {
   "cell_type": "code",
   "execution_count": null,
   "metadata": {},
   "outputs": [],
   "source": [
    "content_performance.spelling_grammar.describe()"
   ]
  },
  {
   "cell_type": "code",
   "execution_count": null,
   "metadata": {},
   "outputs": [],
   "source": [
    "content_performance.spelling_grammar.hist(bins=100, range=(0.1, 1))"
   ]
  },
  {
   "cell_type": "code",
   "execution_count": null,
   "metadata": {},
   "outputs": [],
   "source": [
    "content_performance[['style']].describe()"
   ]
  },
  {
   "cell_type": "code",
   "execution_count": null,
   "metadata": {},
   "outputs": [],
   "source": [
    "content_performance[['style']].hist(bins=100, range=(0, 1))"
   ]
  },
  {
   "cell_type": "code",
   "execution_count": null,
   "metadata": {},
   "outputs": [],
   "source": [
    "content_performance.errors.describe()"
   ]
  },
  {
   "cell_type": "code",
   "execution_count": null,
   "metadata": {},
   "outputs": [],
   "source": [
    "content_performance.errors.hist(bins=100, range=(0, 1))"
   ]
  },
  {
   "cell_type": "markdown",
   "metadata": {},
   "source": [
    "## Metric over time, by doc type"
   ]
  },
  {
   "cell_type": "code",
   "execution_count": null,
   "metadata": {},
   "outputs": [],
   "source": [
    "content_performance_bytime.columns"
   ]
  },
  {
   "cell_type": "code",
   "execution_count": null,
   "metadata": {},
   "outputs": [],
   "source": [
    "content_performance_bytime['date'] = pd.to_datetime(content_performance_bytime['dimensions_date_id'])\n",
    "content_performance_bytime.index = content_performance_bytime['date']"
   ]
  },
  {
   "cell_type": "code",
   "execution_count": null,
   "metadata": {},
   "outputs": [],
   "source": [
    "content_performance_bytime.groupby(pd.Grouper(key='date', freq='D', sort=True))['pageviews'].sum()"
   ]
  },
  {
   "cell_type": "code",
   "execution_count": null,
   "metadata": {},
   "outputs": [],
   "source": [
    "content_performance_bytime.groupby(pd.Grouper(key='date', sort=True))['pageviews'].sum()"
   ]
  },
  {
   "cell_type": "code",
   "execution_count": 1,
   "metadata": {},
   "outputs": [
    {
     "ename": "NameError",
     "evalue": "name 'content_performance_bytime' is not defined",
     "output_type": "error",
     "traceback": [
      "\u001b[0;31m---------------------------------------------------------------------------\u001b[0m",
      "\u001b[0;31mNameError\u001b[0m                                 Traceback (most recent call last)",
      "\u001b[0;32m<ipython-input-1-ce18237f2ec3>\u001b[0m in \u001b[0;36m<module>\u001b[0;34m()\u001b[0m\n\u001b[0;32m----> 1\u001b[0;31m \u001b[0mdict\u001b[0m\u001b[0;34m(\u001b[0m\u001b[0mzip\u001b[0m\u001b[0;34m(\u001b[0m\u001b[0mlist\u001b[0m\u001b[0;34m(\u001b[0m\u001b[0mcontent_performance_bytime\u001b[0m\u001b[0;34m)\u001b[0m\u001b[0;34m,\u001b[0m\u001b[0;34m[\u001b[0m\u001b[0mcontent_performance_bytime\u001b[0m\u001b[0;34m[\u001b[0m\u001b[0mx\u001b[0m\u001b[0;34m]\u001b[0m\u001b[0;34m.\u001b[0m\u001b[0mdtype\u001b[0m\u001b[0;34m.\u001b[0m\u001b[0mname\u001b[0m \u001b[0;32mfor\u001b[0m \u001b[0mx\u001b[0m \u001b[0;32min\u001b[0m \u001b[0mcontent_performance_bytime\u001b[0m\u001b[0;34m]\u001b[0m\u001b[0;34m)\u001b[0m\u001b[0;34m)\u001b[0m\u001b[0;34m\u001b[0m\u001b[0m\n\u001b[0m",
      "\u001b[0;31mNameError\u001b[0m: name 'content_performance_bytime' is not defined"
     ]
    }
   ],
   "source": [
    "dict(zip(list(content_performance_bytime),[content_performance_bytime[x].dtype.name for x in content_performance_bytime]))"
   ]
  },
  {
   "cell_type": "code",
   "execution_count": 129,
   "metadata": {},
   "outputs": [],
   "source": [
    "content_performance_bytime['consolidated_format'] = content_performance_bytime['document_type'].astype('category')"
   ]
  },
  {
   "cell_type": "code",
   "execution_count": 130,
   "metadata": {},
   "outputs": [
    {
     "data": {
      "text/plain": [
       "Index(['aaib_report', 'about', 'about_our_services', 'access_and_opening',\n",
       "       'answer', 'asylum_support_decision', 'authored_article',\n",
       "       'business_finance_support_scheme', 'calendar', 'case_study',\n",
       "       ...\n",
       "       'travel_advice_index', 'unpublishing', 'utaac_decision',\n",
       "       'welsh_language_scheme', 'working_group', 'world_location',\n",
       "       'world_location_news_article', 'world_news_story',\n",
       "       'worldwide_organisation', 'written_statement'],\n",
       "      dtype='object', length=140)"
      ]
     },
     "execution_count": 130,
     "metadata": {},
     "output_type": "execute_result"
    }
   ],
   "source": [
    "content_performance_bytime['consolidated_format'].cat.categories"
   ]
  },
  {
   "cell_type": "code",
   "execution_count": null,
   "metadata": {},
   "outputs": [],
   "source": [
    "content_performance_bytime['consolidated_format'].cat.rename_categories({'Specialist alerts': 'comms', \n",
    "                                                                         'news_story': 'comms', \n",
    "                                                                         'press_release': 'comms', \n",
    "                                                                         'press_release': 'comms',\n",
    "News story\n",
    "Press release\n",
    "Government response\n",
    "World news story\n",
    "Foreign lang news\n",
    "Fatality notice\n",
    "Speech\n",
    "Statements\n",
    "Case studies\n",
    ", 2: 'y', 3: 'z'})"
   ]
  },
  {
   "cell_type": "code",
   "execution_count": null,
   "metadata": {},
   "outputs": [],
   "source": [
    "def plot_time_metric(df, metric, aggregation='sum'):\n",
    "    if aggregation=='mean':\n",
    "        grouped = df.groupby([df.index, pd.Grouper(freq='D')])[metric].mean() #resample operation for each day in datime index, sum the metric\n",
    "        grouped.index = grouped.index.droplevel()\n",
    "        ax = grouped.plot(figsize=(10, 10))\n",
    "        ax.set_ylabel(metric)\n",
    "        ax.set_xlabel('Date')\n",
    "    else:\n",
    "        grouped = df.groupby([df.index, pd.Grouper(freq='D')])[metric].sum() #resample operation for each day in datime index, sum the metric\n",
    "        grouped.index = grouped.index.droplevel()\n",
    "        ax = grouped.plot(figsize=(10, 10))\n",
    "        ax.set_ylabel(metric)\n",
    "        ax.set_xlabel('Date')\n",
    "    \n",
    "\n",
    "    return ax\n",
    "    "
   ]
  },
  {
   "cell_type": "code",
   "execution_count": null,
   "metadata": {},
   "outputs": [],
   "source": []
  },
  {
   "cell_type": "code",
   "execution_count": 415,
   "metadata": {},
   "outputs": [],
   "source": [
    "grouped = content_performance_bytime.groupby([content_performance_bytime.index, pd.Grouper(freq='D')])['pageviews'].sum() #resample operation for each day in datime index, sum the metric\n",
    "grouped.index = grouped.index.droplevel()"
   ]
  },
  {
   "cell_type": "code",
   "execution_count": null,
   "metadata": {},
   "outputs": [],
   "source": [
    "grouped"
   ]
  },
  {
   "cell_type": "code",
   "execution_count": null,
   "metadata": {},
   "outputs": [],
   "source": [
    "mdates.date2num(grouped.index)"
   ]
  },
  {
   "cell_type": "markdown",
   "metadata": {},
   "source": [
    "# WEEKDAY STILL WRONG!\n",
    "1st Apr=sunday\n"
   ]
  },
  {
   "cell_type": "code",
   "execution_count": null,
   "metadata": {},
   "outputs": [],
   "source": [
    "import matplotlib.dates as mdates\n",
    "fig, ax = plt.subplots()\n",
    "#days = mdates.DayLocator()\n",
    "# months = mdates.MonthLocator()  # every month\n",
    "\n",
    "dfmt = mdates.DateFormatter('%a-%d')\n",
    "\n",
    "    \n",
    "ax = grouped.plot(figsize=(20, 10))\n",
    "ax.set_ylabel('pageviews')\n",
    "ax.set_xlabel('Date')\n",
    "#ax.xaxis.set_major_locator(days)\n",
    "ax.xaxis.set_minor_formatter(dfmt)\n",
    "fig.autofmt_xdate(rotation=90, ha='center', which='minor')"
   ]
  },
  {
   "cell_type": "code",
   "execution_count": null,
   "metadata": {},
   "outputs": [],
   "source": [
    "mean_useful = content_performance_bytime.groupby([content_performance_bytime.index, pd.Grouper(freq='D')])['useful_per_responses'].mean() #resample operation for each day in datime index, meanof the metric\n",
    "mean_useful.index = mean_useful.index.droplevel()"
   ]
  },
  {
   "cell_type": "code",
   "execution_count": null,
   "metadata": {},
   "outputs": [],
   "source": [
    "days"
   ]
  },
  {
   "cell_type": "code",
   "execution_count": null,
   "metadata": {},
   "outputs": [],
   "source": [
    "import matplotlib.dates as mdates\n",
    "from matplotlib.dates import MO, TU, WE, TH, FR, SA, SU\n",
    "\n",
    "fig, ax = plt.subplots()\n",
    "days = mdates.DayLocator()\n",
    "dfmt = mdates.DateFormatter('%a-%d-%m')\n",
    "# months = mdates.MonthLocator()  # every month\n",
    "# weekdays = mdates.WeekdayLocator(byweekday=MO, Sa)\n",
    "weekday_fmt = mdates.DateFormatter('%a')\n",
    "\n",
    "    \n",
    "ax = mean_useful.plot(figsize=(10, 10))\n",
    "ax.set_ylabel('For each day, the mean proportion of respondents who found pages useful')\n",
    "ax.set_xlabel('Date')\n",
    "ax.xaxis.set_major_locator(days)\n",
    "ax.xaxis.set_major_formatter(dfmt)\n",
    "ax.xaxis.set_minor_locator(weekdays)\n",
    "#ax.xaxis.set_minor_formatter(weekday_fmt)\n",
    "fig.autofmt_xdate(rotation=90, ha='center')\n"
   ]
  },
  {
   "cell_type": "code",
   "execution_count": null,
   "metadata": {},
   "outputs": [],
   "source": [
    "plot_time_metric(content_performance_bytime, 'pageviews')"
   ]
  },
  {
   "cell_type": "code",
   "execution_count": null,
   "metadata": {},
   "outputs": [],
   "source": [
    "plot_time_metric(content_performance_bytime, 'useful_per_responses', aggregation='mean')"
   ]
  },
  {
   "cell_type": "code",
   "execution_count": 414,
   "metadata": {},
   "outputs": [],
   "source": [
    "grouped_unique_pageviews = content_performance_bytime.groupby([content_performance_bytime.index, pd.Grouper(freq='D')])['unique_pageviews'].sum() #resample operation for each day in datime index, sum the metric\n",
    "grouped_unique_pageviews.index = grouped_unique_pageviews.index.droplevel()"
   ]
  },
  {
   "cell_type": "code",
   "execution_count": 416,
   "metadata": {},
   "outputs": [
    {
     "data": {
      "image/png": "[encoded data removed]",
      "text/plain": [
       "<Figure size 504x504 with 2 Axes>"
      ]
     },
     "metadata": {},
     "output_type": "display_data"
    }
   ],
   "source": [
    "plt.figure(figsize=(7,7))\n",
    "plt.xlabel('Date')\n",
    "\n",
    "ax1 = grouped.plot(color='blue', label='pageviews')\n",
    "ax2 = grouped_unique_pageviews.plot(color='green', grid=True, secondary_y=True, label='unique_pageviews')\n",
    "\n",
    "h1, l1 = ax1.get_legend_handles_labels()\n",
    "h2, l2 = ax2.get_legend_handles_labels()\n",
    "\n",
    "\n",
    "plt.legend(h1+h2, l1+l2, loc=2)\n",
    "plt.show()"
   ]
  },
  {
   "cell_type": "code",
   "execution_count": null,
   "metadata": {},
   "outputs": [],
   "source": [
    "plot_time_metric(content_performance_bytime, 'unique_pageviews')"
   ]
  },
  {
   "cell_type": "code",
   "execution_count": null,
   "metadata": {},
   "outputs": [],
   "source": [
    "plot_time_metric(content_performance_bytime, 'feedex_comments')"
   ]
  },
  {
   "cell_type": "code",
   "execution_count": null,
   "metadata": {},
   "outputs": [],
   "source": [
    "plot_time_metric(content_performance_bytime, 'useful_per_responses')"
   ]
  },
  {
   "cell_type": "code",
   "execution_count": null,
   "metadata": {},
   "outputs": [],
   "source": [
    "content_performance_bytime.columns"
   ]
  },
  {
   "cell_type": "code",
   "execution_count": null,
   "metadata": {},
   "outputs": [],
   "source": [
    "plot_time_metric(content_performance_bytime, 'count_survey_response')"
   ]
  },
  {
   "cell_type": "markdown",
   "metadata": {},
   "source": [
    "### trying to get weekday onto plot. \n",
    "Aborted for now. think ax.table might work"
   ]
  },
  {
   "cell_type": "code",
   "execution_count": null,
   "metadata": {},
   "outputs": [],
   "source": [
    "grouped = content_performance_bytime.groupby([content_performance_bytime.index, pd.Grouper(freq='D')])['pageviews'].sum()\n",
    "grouped.index = grouped.index.droplevel()\n"
   ]
  },
  {
   "cell_type": "code",
   "execution_count": null,
   "metadata": {},
   "outputs": [],
   "source": [
    "grouped = grouped.to_frame()"
   ]
  },
  {
   "cell_type": "code",
   "execution_count": null,
   "metadata": {},
   "outputs": [],
   "source": [
    "grouped['day'] = grouped.index.weekday_name"
   ]
  },
  {
   "cell_type": "code",
   "execution_count": null,
   "metadata": {},
   "outputs": [],
   "source": [
    "grouped"
   ]
  },
  {
   "cell_type": "code",
   "execution_count": null,
   "metadata": {},
   "outputs": [],
   "source": [
    "ax = grouped.plot()\n",
    "ax.set_ylabel('Pageviews (100M)')\n",
    "ax.set_xlabel('Date')\n",
    "plt.show()"
   ]
  },
  {
   "cell_type": "code",
   "execution_count": null,
   "metadata": {},
   "outputs": [],
   "source": [
    "list(zip(grouped.index, grouped.index.weekday_name))"
   ]
  },
  {
   "cell_type": "markdown",
   "metadata": {},
   "source": [
    "That's a bit odd. Assumed 12/13th would be weekend but they're Thurs/Friday. "
   ]
  },
  {
   "cell_type": "code",
   "execution_count": null,
   "metadata": {},
   "outputs": [],
   "source": [
    "grouped.index.weekday_name"
   ]
  },
  {
   "cell_type": "markdown",
   "metadata": {},
   "source": [
    "### Stratify by categorical variables"
   ]
  },
  {
   "cell_type": "code",
   "execution_count": null,
   "metadata": {},
   "outputs": [],
   "source": [
    "def plot_time_metric_byvar(df, metric, byvar):\n",
    "    grouped = df.groupby([byvar, pd.Grouper(freq='D')])[metric].sum()\n",
    "    by_day = grouped.unstack(byvar, fill_value=0)\n",
    "    top = by_day.iloc[:, by_day.columns.isin(by_day.min().sort_values(ascending=False)[:10].index)]\n",
    "    bottom = by_day.iloc[:, by_day.columns.isin(by_day.min().sort_values()[:10].index)]\n",
    "    \n",
    "    ax = top.plot()\n",
    "    ax.legend(loc='center left', bbox_to_anchor=(1, 0.5))\n",
    "    ax.set_ylabel(metric)\n",
    "    ax.set_xlabel('Date')\n",
    "    ax.set_title('Top 10 {}s for {}'.format(byvar, metric))\n",
    "    \n",
    "    ay = bottom.plot()\n",
    "    ay.legend(loc='center left', bbox_to_anchor=(1, 0.5))\n",
    "    ay.set_ylabel(metric)\n",
    "    ay.set_xlabel('Date')\n",
    "    ay.set_title('Bottom 10 {}s for {}'.format(byvar, metric))\n",
    "\n",
    "    return ax, ay\n",
    "    "
   ]
  },
  {
   "cell_type": "code",
   "execution_count": null,
   "metadata": {},
   "outputs": [],
   "source": [
    "plot_time_metric_byvar(df=content_performance_bytime, metric='pageviews', byvar='document_type')"
   ]
  },
  {
   "cell_type": "code",
   "execution_count": null,
   "metadata": {},
   "outputs": [],
   "source": [
    "plot_time_metric_byvar(df=content_performance_bytime, metric='unique_pageviews', byvar='document_type')"
   ]
  },
  {
   "cell_type": "code",
   "execution_count": null,
   "metadata": {},
   "outputs": [],
   "source": [
    "plot_time_metric_byvar(df=content_performance_bytime, metric='feedex_comments', byvar='document_type')"
   ]
  },
  {
   "cell_type": "markdown",
   "metadata": {},
   "source": [
    "Document types with no page views in date range"
   ]
  },
  {
   "cell_type": "code",
   "execution_count": null,
   "metadata": {},
   "outputs": [],
   "source": [
    "#over the whole month (includes entire data range) total number of page views \n",
    "\n",
    "x = content_performance_bytime.groupby(['document_type', pd.Grouper(freq='M')])['pageviews'].sum()"
   ]
  },
  {
   "cell_type": "code",
   "execution_count": null,
   "metadata": {},
   "outputs": [],
   "source": [
    "#which documen types had no page views\n",
    "x[x==0]"
   ]
  },
  {
   "cell_type": "code",
   "execution_count": null,
   "metadata": {},
   "outputs": [],
   "source": [
    "plot_time_metric_byvar(df=content_performance_bytime, metric='pageviews', byvar='primary_organisation_title')"
   ]
  },
  {
   "cell_type": "code",
   "execution_count": null,
   "metadata": {},
   "outputs": [],
   "source": [
    "plot_time_metric_byvar(df=content_performance_bytime, metric='unique_pageviews', byvar='primary_organisation_title')"
   ]
  },
  {
   "cell_type": "code",
   "execution_count": null,
   "metadata": {},
   "outputs": [],
   "source": [
    "plot_time_metric_byvar(df=content_performance_bytime, metric='feedex_comments', byvar='primary_organisation_title')"
   ]
  },
  {
   "cell_type": "code",
   "execution_count": null,
   "metadata": {},
   "outputs": [],
   "source": [
    "plot_time_metric_byvar(df=content_performance_bytime, metric='pageviews', byvar='content_purpose_document_supertype')"
   ]
  },
  {
   "cell_type": "code",
   "execution_count": null,
   "metadata": {},
   "outputs": [],
   "source": [
    "plot_time_metric_byvar(df=content_performance_bytime, metric='unique_pageviews', byvar='content_purpose_document_supertype')"
   ]
  },
  {
   "cell_type": "code",
   "execution_count": null,
   "metadata": {},
   "outputs": [],
   "source": [
    "plot_time_metric_byvar(df=content_performance_bytime, metric='feedex_comments', byvar='content_purpose_document_supertype')"
   ]
  },
  {
   "cell_type": "markdown",
   "metadata": {},
   "source": [
    "### correlation"
   ]
  },
  {
   "cell_type": "code",
   "execution_count": null,
   "metadata": {},
   "outputs": [],
   "source": [
    "plt.matshow(content_performance_bytime.corr())"
   ]
  },
  {
   "cell_type": "markdown",
   "metadata": {},
   "source": [
    "# Intrinsic content performance metrics\n",
    "Explore those metrics generated by characteristics of the content itself and their correlation with metrics relating to user interaction with content."
   ]
  },
  {
   "cell_type": "markdown",
   "metadata": {},
   "source": [
    "<span style=\"color:red\">There are multiple ids per content_id reflecting a change to the content e.g., re-written.</span>\n",
    "\n",
    "**Need to think about left/right censoring for these items when considering date ranges**"
   ]
  },
  {
   "cell_type": "code",
   "execution_count": null,
   "metadata": {},
   "outputs": [],
   "source": [
    "content_performance.columns"
   ]
  },
  {
   "cell_type": "code",
   "execution_count": null,
   "metadata": {},
   "outputs": [],
   "source": [
    "def scatter_byvar(df, x, y, byvar, log=True):\n",
    "    groups = df.groupby(byvar)\n",
    "\n",
    "    # Plot\n",
    "    cmap = plt.get_cmap('jet')\n",
    "    colors = cmap(np.linspace(0, 1.0, len(groups)))\n",
    "\n",
    "    fig, ax = plt.subplots()\n",
    "    ax.set_prop_cycle(cycler('color', colors))\n",
    "    ax.margins(0.05) # Optional, just adds 5% padding to the autoscaling\n",
    "    \n",
    "    ax.set_xlabel(x)\n",
    "    ax.set_title('{} and {} by {}'.format(x, y, byvar))\n",
    "    \n",
    "    if log:\n",
    "        for name, group in groups:\n",
    "            ax.plot(group[x], np.log(group[y]), marker='o', linestyle='',  label=name, alpha=0.5)\n",
    "            ax.set_ylabel('log({})'.format(y))\n",
    "    else:\n",
    "        for name, group in groups:\n",
    "            ax.plot(group[x], group[y], marker='o', linestyle='',  label=name, alpha=0.5 )\n",
    "            ax.set_ylabel(y)\n",
    "            \n",
    "    ax.legend(loc='center left', bbox_to_anchor=(1, 0.5))\n",
    "    return ax"
   ]
  },
  {
   "cell_type": "markdown",
   "metadata": {},
   "source": [
    "#### string length"
   ]
  },
  {
   "cell_type": "code",
   "execution_count": null,
   "metadata": {},
   "outputs": [],
   "source": [
    "content_performance.string_length.describe()"
   ]
  },
  {
   "cell_type": "code",
   "execution_count": null,
   "metadata": {},
   "outputs": [],
   "source": [
    "content_performance[content_performance['string_length']==0].shape"
   ]
  },
  {
   "cell_type": "code",
   "execution_count": null,
   "metadata": {},
   "outputs": [],
   "source": [
    "print('{} out of {} content items ({}%) have a recorded string_length of 0'.format(\n",
    "    content_performance[content_performance['string_length']==0].shape[0], \n",
    "    content_performance.content_id.nunique(),\n",
    "    round(content_performance[content_performance['string_length']==0].shape[0]/content_performance.content_id.nunique()*100, 2)))"
   ]
  },
  {
   "cell_type": "code",
   "execution_count": null,
   "metadata": {},
   "outputs": [],
   "source": [
    "content_performance.string_length.hist(bins='auto', range=(0, 7000))"
   ]
  },
  {
   "cell_type": "code",
   "execution_count": null,
   "metadata": {},
   "outputs": [],
   "source": [
    "scatter_byvar(df=content_performance, x='string_length', y='unique_pageviews', byvar='content_purpose_document_supertype')"
   ]
  },
  {
   "cell_type": "markdown",
   "metadata": {},
   "source": [
    "#### readability score\n",
    "\"Check readability\"?!"
   ]
  },
  {
   "cell_type": "code",
   "execution_count": null,
   "metadata": {},
   "outputs": [],
   "source": [
    "content_performance.readability_score.hist(bins='auto', range=(-750, 124))"
   ]
  },
  {
   "cell_type": "code",
   "execution_count": null,
   "metadata": {},
   "outputs": [],
   "source": [
    "content_performance.readability_score.describe()"
   ]
  },
  {
   "cell_type": "code",
   "execution_count": null,
   "metadata": {},
   "outputs": [],
   "source": [
    "scatter_byvar(df=content_performance, x='readability_score', y='unique_pageviews', byvar='content_purpose_document_supertype')"
   ]
  },
  {
   "cell_type": "markdown",
   "metadata": {},
   "source": [
    "#### Number of pdfs"
   ]
  },
  {
   "cell_type": "code",
   "execution_count": null,
   "metadata": {},
   "outputs": [],
   "source": [
    "content_performance.number_of_pdfs.describe()"
   ]
  },
  {
   "cell_type": "code",
   "execution_count": null,
   "metadata": {},
   "outputs": [],
   "source": [
    "content_performance.number_of_pdfs.hist(bins=100, range=(0, 50))"
   ]
  },
  {
   "cell_type": "code",
   "execution_count": null,
   "metadata": {},
   "outputs": [],
   "source": [
    "scatter_byvar(df=content_performance, x='number_of_pdfs', y='unique_pageviews', byvar='content_purpose_document_supertype')"
   ]
  },
  {
   "cell_type": "markdown",
   "metadata": {},
   "source": [
    "#### Number of word files"
   ]
  },
  {
   "cell_type": "code",
   "execution_count": null,
   "metadata": {},
   "outputs": [],
   "source": [
    "content_performance.number_of_word_files.describe()"
   ]
  },
  {
   "cell_type": "code",
   "execution_count": null,
   "metadata": {},
   "outputs": [],
   "source": [
    "content_performance.number_of_word_files.hist(bins=100, range=(0, 50))"
   ]
  },
  {
   "cell_type": "code",
   "execution_count": null,
   "metadata": {},
   "outputs": [],
   "source": []
  },
  {
   "cell_type": "code",
   "execution_count": null,
   "metadata": {},
   "outputs": [],
   "source": [
    "scatter_byvar(df=content_performance, x='number_of_word_files', y='unique_pageviews', byvar='content_purpose_document_supertype')"
   ]
  },
  {
   "cell_type": "markdown",
   "metadata": {},
   "source": [
    "#### retractions\n",
    "Check apostrophe use in contractions. \n",
    "This should feed into a general ‘spelling/grammar errors’ metric."
   ]
  },
  {
   "cell_type": "code",
   "execution_count": null,
   "metadata": {},
   "outputs": [],
   "source": [
    "scatter_byvar(df=content_performance, x='contractions_count', y='unique_pageviews', byvar='content_purpose_document_supertype')"
   ]
  },
  {
   "cell_type": "markdown",
   "metadata": {},
   "source": [
    "#### retext-equality \n",
    "- Warn about possible insensitive, inconsiderate language. This has some interesting changes (‘commit suicide’ to ‘die by suicide’, for example). Not sure how publishers would respond to this if they had lots of changes, but inclusive language should be important for us."
   ]
  },
  {
   "cell_type": "code",
   "execution_count": null,
   "metadata": {},
   "outputs": [],
   "source": [
    "scatter_byvar(df=content_performance, x='equality_count', y='unique_pageviews', byvar='content_purpose_document_supertype')"
   ]
  },
  {
   "cell_type": "markdown",
   "metadata": {},
   "source": [
    "#### retext-indefinite-article\n",
    "Check if indefinite articles (a, an) are used correctly. This should feed into a general ‘spelling/grammar errors’ metric.\n"
   ]
  },
  {
   "cell_type": "code",
   "execution_count": null,
   "metadata": {},
   "outputs": [],
   "source": [
    "scatter_byvar(df=content_performance, x='indefinite_article_count', y='unique_pageviews', byvar='content_purpose_document_supertype')"
   ]
  },
  {
   "cell_type": "code",
   "execution_count": null,
   "metadata": {},
   "outputs": [],
   "source": [
    "#scatter_byvar(df=content_performance, x='readability_score', y='unique_pageviews', byvar='document_type')"
   ]
  },
  {
   "cell_type": "code",
   "execution_count": null,
   "metadata": {},
   "outputs": [],
   "source": [
    "scatter_byvar(df=content_performance, x='readability_score', y='unique_pageviews', byvar='content_purpose_document_supertype')"
   ]
  },
  {
   "cell_type": "markdown",
   "metadata": {},
   "source": [
    "## metric by content age"
   ]
  },
  {
   "cell_type": "code",
   "execution_count": null,
   "metadata": {},
   "outputs": [],
   "source": [
    "content_performance.columns"
   ]
  },
  {
   "cell_type": "code",
   "execution_count": null,
   "metadata": {},
   "outputs": [],
   "source": [
    "first_published = content_performance[['first_published_at', 'pageviews', 'unique_pageviews', 'document_type', 'content_purpose_document_supertype']].copy()"
   ]
  },
  {
   "cell_type": "code",
   "execution_count": null,
   "metadata": {},
   "outputs": [],
   "source": [
    "first_published['first_published_at'] = pd.to_datetime(first_published['first_published_at']).copy()\n",
    "first_published.index = first_published['first_published_at']"
   ]
  },
  {
   "cell_type": "code",
   "execution_count": null,
   "metadata": {},
   "outputs": [],
   "source": [
    "first_published.plot(x='first_published_at', y='pageviews', figsize=(12, 10))"
   ]
  },
  {
   "cell_type": "markdown",
   "metadata": {},
   "source": [
    "Old items are generally not being viewed"
   ]
  },
  {
   "cell_type": "code",
   "execution_count": null,
   "metadata": {},
   "outputs": [],
   "source": [
    "ax = first_published.plot(x='first_published_at', y='pageviews', figsize=(5, 3))\n",
    "ax.set_xlim(pd.Timestamp('2009-12-31'), pd.Timestamp('2018-12-31'))\n",
    "ax.legend_.remove()"
   ]
  },
  {
   "cell_type": "code",
   "execution_count": null,
   "metadata": {},
   "outputs": [],
   "source": [
    "ay = first_published.plot(x='first_published_at', y='pageviews')\n",
    "ay.set_xlim(pd.Timestamp('1945-12-31'), pd.Timestamp('2009-12-31'))\n",
    "ay.set_ylim(0, 1000)"
   ]
  },
  {
   "cell_type": "code",
   "execution_count": null,
   "metadata": {},
   "outputs": [],
   "source": [
    "fig, ax = plt.subplots(figsize=(5, 3))\n",
    "\n",
    "first_published[first_published['document_type']=='guide'].plot(x='first_published_at', y='pageviews', color='DarkBlue', label='guide', style=\".\", ax=ax, alpha=0.5)\n",
    "first_published[first_published['document_type']=='transaction'].plot(x='first_published_at', y='pageviews', color='Orange', label='transaction', style=\".\", ax=ax, alpha=0.8)\n",
    "\n",
    "first_published[first_published['document_type']=='guidance'].plot(x='first_published_at', y='pageviews', color='LightBlue', label='guidance', style=\".\", ax=ax)\n",
    "first_published[first_published['document_type']=='news_story'].plot(x='first_published_at', y='pageviews', color='Red', label='news_story', style=\".\", ax=ax)\n",
    "first_published[first_published['document_type']=='world_news_story'].plot(x='first_published_at', y='pageviews', color='DarkGreen', label='world_news_story', style=\".\", ax=ax)\n",
    "ax.set_xlim(pd.Timestamp('2009-12-31'), pd.Timestamp('2018-12-31'))\n",
    "ax.legend_.remove()"
   ]
  },
  {
   "cell_type": "code",
   "execution_count": null,
   "metadata": {},
   "outputs": [],
   "source": [
    "fig, ax = plt.subplots(figsize=(12, 10))\n",
    "\n",
    "first_published[first_published['document_type']=='guide'].plot(x='first_published_at', y='pageviews', color='DarkBlue', label='guide', style=\".\", ax=ax, alpha=0.5)\n",
    "first_published[first_published['document_type']=='transaction'].plot(x='first_published_at', y='pageviews', color='Orange', label='transaction', style=\".\", ax=ax, alpha=0.8)\n",
    "\n",
    "first_published[first_published['document_type']=='guidance'].plot(x='first_published_at', y='pageviews', color='LightBlue', label='guidance', style=\".\", ax=ax)\n",
    "first_published[first_published['document_type']=='news_story'].plot(x='first_published_at', y='pageviews', color='Red', label='news_story', style=\".\", ax=ax)\n",
    "first_published[first_published['document_type']=='world_news_story'].plot(x='first_published_at', y='pageviews', color='DarkGreen', label='world_news_story', style=\".\", ax=ax)\n",
    "\n",
    "plt.legend()"
   ]
  },
  {
   "cell_type": "code",
   "execution_count": null,
   "metadata": {},
   "outputs": [],
   "source": [
    "groups = first_published.groupby('content_purpose_document_supertype')"
   ]
  },
  {
   "cell_type": "code",
   "execution_count": null,
   "metadata": {},
   "outputs": [],
   "source": [
    "first_published.groupby('content_purpose_document_supertype').describe()"
   ]
  },
  {
   "cell_type": "code",
   "execution_count": null,
   "metadata": {},
   "outputs": [],
   "source": [
    "first_published.groupby('content_purpose_document_supertype').groups['other'].min()"
   ]
  },
  {
   "cell_type": "code",
   "execution_count": null,
   "metadata": {},
   "outputs": [],
   "source": [
    "for group in groups:\n",
    "    print(min(group[1].first_published_at))"
   ]
  },
  {
   "cell_type": "code",
   "execution_count": null,
   "metadata": {},
   "outputs": [],
   "source": [
    "first_published.index.min()"
   ]
  },
  {
   "cell_type": "code",
   "execution_count": null,
   "metadata": {},
   "outputs": [],
   "source": [
    "# Plot\n",
    "cmap = plt.get_cmap('nipy_spectral')\n",
    "colors = cmap(np.linspace(0, 1.0, len(groups)))\n",
    "\n",
    "fig, ax = plt.subplots()\n",
    "ax.set_prop_cycle(cycler('color', colors))\n",
    "\n",
    "ax.margins(0.05) # Optional, just adds 5% padding to the autoscaling\n",
    "for name, group in groups:\n",
    "    \n",
    "    ax.plot(group['first_published_at'], group['pageviews'], marker='o', linestyle='', ms=5, label=name)\n",
    "ax.legend(loc='center left', bbox_to_anchor=(1, 0.5))\n",
    "\n",
    "\n",
    "plt.show()"
   ]
  },
  {
   "cell_type": "markdown",
   "metadata": {},
   "source": [
    "ALERT! Cannot understand why this 1686 data is coming from. It is not showing up when I print the timestamps. how is it getting into plot ?\n",
    "\n"
   ]
  },
  {
   "cell_type": "code",
   "execution_count": null,
   "metadata": {},
   "outputs": [],
   "source": [
    "# Plot\n",
    "cmap = plt.get_cmap('nipy_spectral')\n",
    "colors = cmap(np.linspace(0, 1.0, len(groups)))\n",
    "\n",
    "fig, ax = plt.subplots()\n",
    "ax.set_prop_cycle(cycler('color', colors))\n",
    "\n",
    "ax.margins(0.05) # Optional, just adds 5% padding to the autoscaling\n",
    "for name, group in groups:\n",
    "    \n",
    "    ax.plot(group['first_published_at'], group['pageviews'], marker='o', linestyle='', ms=5, label=name)\n",
    "ax.legend(loc='center left', bbox_to_anchor=(1, 0.5))\n",
    "ax.set_xlim(pd.Timestamp('1940-12-31'), pd.Timestamp('2018-12-31'))\n",
    "\n",
    "plt.show()"
   ]
  },
  {
   "cell_type": "code",
   "execution_count": null,
   "metadata": {},
   "outputs": [],
   "source": [
    "# Plot\n",
    "cmap = plt.get_cmap('nipy_spectral')\n",
    "colors = cmap(np.linspace(0, 1.0, len(groups)))\n",
    "\n",
    "fig, ax = plt.subplots()\n",
    "ax.set_prop_cycle(cycler('color', colors))\n",
    "ax.margins(0.05) # Optional, just adds 5% padding to the autoscaling\n",
    "for name, group in groups:\n",
    "    \n",
    "    ax.plot(group['first_published_at'], group['pageviews'], marker='o', linestyle='', ms=5, label=name)\n",
    "ax.legend(loc='center left', bbox_to_anchor=(1, 0.5))\n",
    "ax.set_xlim(pd.Timestamp('2009-12-31'), pd.Timestamp('2018-12-31'))\n",
    "\n",
    "plt.show()"
   ]
  },
  {
   "cell_type": "code",
   "execution_count": null,
   "metadata": {},
   "outputs": [],
   "source": [
    "# Plot\n",
    "cmap = plt.get_cmap('nipy_spectral')\n",
    "colors = cmap(np.linspace(0, 1.0, len(groups)))\n",
    "\n",
    "fig, ax = plt.subplots()\n",
    "ax.set_prop_cycle(cycler('color', colors))\n",
    "ax.margins(0.05) # Optional, just adds 5% padding to the autoscaling\n",
    "for name, group in groups:\n",
    "    \n",
    "    ax.plot(group['first_published_at'], group['pageviews'], marker='o', linestyle='', ms=5, label=name, alpha=0.8)\n",
    "ax.legend(loc='center left', bbox_to_anchor=(1, 0.5))\n",
    "ax.set_xlim(pd.Timestamp('1945-12-31'), pd.Timestamp('2009-12-31'))\n",
    "ax.set_ylim(0, 1000)\n",
    "plt.show()"
   ]
  },
  {
   "cell_type": "code",
   "execution_count": null,
   "metadata": {},
   "outputs": [],
   "source": [
    "fig, ax = plt.subplots(figsize=(12, 10))\n",
    "\n",
    "first_published[first_published['content_purpose_document_supertype']=='guidance'].plot(x='first_published_at', y='pageviews', color='DarkBlue', label='Guidance', style=\".\", ax=ax)\n",
    "first_published[first_published['content_purpose_document_supertype']=='navigation'].plot(x='first_published_at', y='pageviews', color='Red', label='navigation', style=\".\", ax=ax)\n",
    "first_published[first_published['content_purpose_document_supertype']=='transactions'].plot(x='first_published_at', y='pageviews', color='LightGreen', label='transactions', style=\".\", alpha=0.5, ax=ax)\n",
    "\n",
    "plt.legend()"
   ]
  },
  {
   "cell_type": "markdown",
   "metadata": {},
   "source": [
    "### pageviews by reading age"
   ]
  },
  {
   "cell_type": "code",
   "execution_count": 131,
   "metadata": {},
   "outputs": [
    {
     "data": {
      "text/plain": [
       "<matplotlib.legend.Legend at 0x1ffdc5be0>"
      ]
     },
     "execution_count": 131,
     "metadata": {},
     "output_type": "execute_result"
    },
    {
     "data": {
      "image/png": "[encoded data removed]",
      "text/plain": [
       "<Figure size 864x720 with 1 Axes>"
      ]
     },
     "metadata": {},
     "output_type": "display_data"
    }
   ],
   "source": [
    "fig, ax = plt.subplots(figsize=(12, 10))\n",
    "\n",
    "scatter1 = content_performance[content_performance['content_purpose_document_supertype']=='guidance'].plot(x='readability_score', y='pageviews', color='DarkBlue', label='Guidance', style=\".\", ax=ax)\n",
    "scatter2 = content_performance[content_performance['content_purpose_document_supertype']=='navigation'].plot(x='readability_score', y='pageviews', color='Red', label='navigation', style=\".\", ax=ax)\n",
    "scatter3 = content_performance[content_performance['content_purpose_document_supertype']=='transactions'].plot(x='readability_score', y='pageviews', color='LightGreen', label='transactions', style=\".\", alpha=0.5, ax=ax)\n",
    "\n",
    "plt.legend()"
   ]
  },
  {
   "cell_type": "code",
   "execution_count": 132,
   "metadata": {},
   "outputs": [
    {
     "data": {
      "text/plain": [
       "<matplotlib.axes._subplots.AxesSubplot at 0x138cb0748>"
      ]
     },
     "execution_count": 132,
     "metadata": {},
     "output_type": "execute_result"
    },
    {
     "data": {
      "image/png": "[encoded data removed]",
      "text/plain": [
       "<Figure size 864x720 with 1 Axes>"
      ]
     },
     "metadata": {},
     "output_type": "display_data"
    }
   ],
   "source": [
    "content_performance.plot(x='readability_score', y='pageviews', color='DarkBlue', style=\".\", figsize=(12, 10))\n",
    "\n"
   ]
  },
  {
   "cell_type": "code",
   "execution_count": 133,
   "metadata": {},
   "outputs": [
    {
     "data": {
      "text/plain": [
       "count    366564.000000\n",
       "mean         14.481152\n",
       "std         119.518684\n",
       "min      -11595.000000\n",
       "25%           7.000000\n",
       "50%          26.000000\n",
       "75%          43.000000\n",
       "max         147.000000\n",
       "Name: readability_score, dtype: float64"
      ]
     },
     "execution_count": 133,
     "metadata": {},
     "output_type": "execute_result"
    }
   ],
   "source": [
    "content_performance.readability_score.describe()"
   ]
  },
  {
   "cell_type": "code",
   "execution_count": 134,
   "metadata": {},
   "outputs": [
    {
     "data": {
      "text/plain": [
       "<matplotlib.axes._subplots.AxesSubplot at 0x13833c9b0>"
      ]
     },
     "execution_count": 134,
     "metadata": {},
     "output_type": "execute_result"
    },
    {
     "data": {
      "image/png": "[encoded data removed]",
      "text/plain": [
       "<Figure size 432x288 with 1 Axes>"
      ]
     },
     "metadata": {},
     "output_type": "display_data"
    }
   ],
   "source": [
    "content_performance.readability_score_scaled.hist(bins=100)"
   ]
  },
  {
   "cell_type": "code",
   "execution_count": 135,
   "metadata": {},
   "outputs": [
    {
     "data": {
      "text/plain": [
       "<matplotlib.axes._subplots.AxesSubplot at 0x13725bf28>"
      ]
     },
     "execution_count": 135,
     "metadata": {},
     "output_type": "execute_result"
    },
    {
     "data": {
      "image/png": "[encoded data removed]",
      "text/plain": [
       "<Figure size 864x720 with 1 Axes>"
      ]
     },
     "metadata": {},
     "output_type": "display_data"
    }
   ],
   "source": [
    "content_performance.plot(x='readability_score_scaled', y='pageviews', color='DarkBlue', style=\".\", figsize=(12, 10))\n",
    "\n"
   ]
  },
  {
   "cell_type": "markdown",
   "metadata": {},
   "source": [
    "### pageviews by spelling/grammar"
   ]
  },
  {
   "cell_type": "code",
   "execution_count": null,
   "metadata": {},
   "outputs": [],
   "source": []
  },
  {
   "cell_type": "code",
   "execution_count": 146,
   "metadata": {},
   "outputs": [
    {
     "data": {
      "text/plain": [
       "(array([-0.2,  0. ,  0.2,  0.4,  0.6,  0.8,  1. ,  1.2]),\n",
       " <a list of 8 Text xticklabel objects>)"
      ]
     },
     "execution_count": 146,
     "metadata": {},
     "output_type": "execute_result"
    },
    {
     "data": {
      "image/png": "[encoded data removed]",
      "text/plain": [
       "<Figure size 504x360 with 1 Axes>"
      ]
     },
     "metadata": {},
     "output_type": "display_data"
    }
   ],
   "source": [
    "# content_performance.plot(x='spelling_grammar', y='pageviews', color='DarkBlue', style=\".\", figsize=(12, 10))\n",
    "\n",
    "# normal values\n",
    "plt.figure(figsize=(7, 5))\n",
    "# plt.text(0, 0, \"taxons with no content in dev set\", color='red', horizontalalignment='center', \n",
    "#          verticalalignment='bottom')\n",
    "plt.xlabel('spelling_grammar (higher is worse)')\n",
    "plt.ylabel('pageviews')\n",
    "plt.scatter(content_performance.spelling_grammar[content_performance['pageviews']==0],  \n",
    "            content_performance.pageviews[content_performance['pageviews']==0], \n",
    "            c = 'b',\n",
    "            alpha=0.2, \n",
    "            label='no page views'\n",
    "            )\n",
    "plt.scatter(content_performance.spelling_grammar[(content_performance['spelling_grammar']==0) ],  \n",
    "            content_performance.pageviews[(content_performance['spelling_grammar']==0)], \n",
    "            c = 'LightGreen',\n",
    "            alpha=0.2, \n",
    "            label='no spelling/grammar problems'\n",
    "            )\n",
    "plt.scatter(content_performance.spelling_grammar[(content_performance['spelling_grammar']>0.05) & (content_performance['pageviews']>content_performance['pageviews'].mean())],  \n",
    "            content_performance.pageviews[(content_performance['spelling_grammar']>0.05)  & (content_performance['pageviews']>content_performance['pageviews'].mean())], \n",
    "            c = 'red',\n",
    "            alpha=0.2, \n",
    "            label='spelling/grammar problems and > average views'\n",
    "            )\n",
    "\n",
    "plt.legend()\n",
    "\n",
    "plt.title(\"pageviews by spelling/grammar problems\")\n",
    "\n",
    "plt.xticks(rotation=90)"
   ]
  },
  {
   "cell_type": "markdown",
   "metadata": {},
   "source": [
    "### pageviews by usefulness rating"
   ]
  },
  {
   "cell_type": "code",
   "execution_count": null,
   "metadata": {},
   "outputs": [],
   "source": []
  },
  {
   "cell_type": "code",
   "execution_count": null,
   "metadata": {},
   "outputs": [],
   "source": [
    "content_performance.plot(x='useful_per_responses', y='pageviews', color='DarkBlue', style=\".\", figsize=(12, 10))\n",
    "\n"
   ]
  },
  {
   "cell_type": "code",
   "execution_count": null,
   "metadata": {},
   "outputs": [],
   "source": [
    "content_performance.plot(x='useful_per_responses', y='spelling_grammar', color='DarkBlue', style=\".\", figsize=(12, 10))\n",
    "\n"
   ]
  },
  {
   "cell_type": "code",
   "execution_count": null,
   "metadata": {},
   "outputs": [],
   "source": [
    "content_performance.plot(x='useful_per_responses', y='errors', color='DarkBlue', style=\".\", figsize=(12, 10))\n",
    "\n"
   ]
  },
  {
   "cell_type": "code",
   "execution_count": null,
   "metadata": {},
   "outputs": [],
   "source": [
    "content_performance.plot(x='useful_per_responses', y='readability_score', color='DarkBlue', style=\".\", figsize=(12, 10))\n",
    "\n"
   ]
  },
  {
   "cell_type": "markdown",
   "metadata": {},
   "source": [
    "### regression- GLM binomial response data"
   ]
  },
  {
   "cell_type": "code",
   "execution_count": 388,
   "metadata": {},
   "outputs": [],
   "source": [
    "import statsmodels.api as sm"
   ]
  },
  {
   "cell_type": "code",
   "execution_count": 397,
   "metadata": {},
   "outputs": [],
   "source": [
    "y_usefulness = accurate_proportions[['is_this_useful_yes','is_this_useful_no']].values\n"
   ]
  },
  {
   "cell_type": "code",
   "execution_count": 398,
   "metadata": {},
   "outputs": [
    {
     "data": {
      "text/plain": [
       "(575, 2)"
      ]
     },
     "execution_count": 398,
     "metadata": {},
     "output_type": "execute_result"
    }
   ],
   "source": [
    "y_usefulness.shape"
   ]
  },
  {
   "cell_type": "code",
   "execution_count": 399,
   "metadata": {},
   "outputs": [],
   "source": [
    "x_vars = accurate_proportions[['spelling_grammar', 'errors', 'style', 'string_length', 'word_count', 'sentence_count']]"
   ]
  },
  {
   "cell_type": "code",
   "execution_count": 400,
   "metadata": {},
   "outputs": [
    {
     "name": "stdout",
     "output_type": "stream",
     "text": [
      "                 Generalized Linear Model Regression Results                  \n",
      "==============================================================================\n",
      "Dep. Variable:           ['y1', 'y2']   No. Observations:                  575\n",
      "Model:                            GLM   Df Residuals:                      569\n",
      "Model Family:                Binomial   Df Model:                            5\n",
      "Link Function:                  logit   Scale:                             1.0\n",
      "Method:                          IRLS   Log-Likelihood:                -34804.\n",
      "Date:                Mon, 21 May 2018   Deviance:                       66218.\n",
      "Time:                        10:56:01   Pearson chi2:                 1.05e+03\n",
      "No. Iterations:                     5                                         \n",
      "====================================================================================\n",
      "                       coef    std err          z      P>|z|      [0.025      0.975]\n",
      "------------------------------------------------------------------------------------\n",
      "spelling_grammar    -5.9683      0.410    -14.575      0.000      -6.771      -5.166\n",
      "errors              15.7882      0.720     21.941      0.000      14.378      17.199\n",
      "style               -4.6444      0.257    -18.064      0.000      -5.148      -4.140\n",
      "string_length        0.0001   1.29e-05      8.337      0.000    8.22e-05       0.000\n",
      "word_count          -0.0012   7.46e-05    -16.733      0.000      -0.001      -0.001\n",
      "sentence_count       0.0709      0.001     53.310      0.000       0.068       0.074\n",
      "====================================================================================\n"
     ]
    }
   ],
   "source": [
    "glm_binom = sm.GLM(y_usefulness, x_vars, family=sm.families.Binomial())\n",
    "res = glm_binom.fit()\n",
    "print(res.summary())"
   ]
  },
  {
   "cell_type": "code",
   "execution_count": 401,
   "metadata": {},
   "outputs": [
    {
     "name": "stdout",
     "output_type": "stream",
     "text": [
      "over_f = 116.37609841827768\n"
     ]
    }
   ],
   "source": [
    "print(\"over_f = {}\".format(66218/569))"
   ]
  },
  {
   "cell_type": "markdown",
   "metadata": {},
   "source": [
    "It is assumed that the residual deviance is the same as the residual degrees of freedom. If the residual deviance is larger than the residual degrees of freedom, this is called overdispersion. It means that there is extra unexplained vairation, over and above the binomial variance assumed by the model specification. \n",
    "\n",
    "This model is not sound, the overdisperison factor is over_f. The simplest way to take this into account is to use an 'empirical scale parameter' to reflect the fact that the errors are not binomial as well assumed but are lager than this (overdispersed) by a facotr of over_f. We refit the model using quasibinomial to account for overdispersion. \n",
    "\n",
    "This can't be done, obviously in statsmodels library"
   ]
  },
  {
   "cell_type": "code",
   "execution_count": null,
   "metadata": {},
   "outputs": [],
   "source": []
  }
 ],
 "metadata": {
  "kernelspec": {
   "display_name": "give_data",
   "language": "python",
   "name": "give_data"
  },
  "language_info": {
   "codemirror_mode": {
    "name": "ipython",
    "version": 3
   },
   "file_extension": ".py",
   "mimetype": "text/x-python",
   "name": "python",
   "nbconvert_exporter": "python",
   "pygments_lexer": "ipython3",
   "version": "3.6.5"
  }
 },
 "nbformat": 4,
 "nbformat_minor": 2
}
