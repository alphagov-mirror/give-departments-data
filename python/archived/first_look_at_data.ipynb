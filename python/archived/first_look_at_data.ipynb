{
 "cells": [
  {
   "cell_type": "code",
   "execution_count": 1,
   "metadata": {},
   "outputs": [],
   "source": [
    "import pandas as pd"
   ]
  },
  {
   "cell_type": "code",
   "execution_count": 2,
   "metadata": {},
   "outputs": [],
   "source": [
    "from sqlalchemy import create_engine"
   ]
  },
  {
   "cell_type": "code",
   "execution_count": 3,
   "metadata": {},
   "outputs": [],
   "source": [
    "engine = create_engine('postgresql://ellieking@localhost:5432/givedata_180502')"
   ]
  },
  {
   "cell_type": "code",
   "execution_count": 4,
   "metadata": {},
   "outputs": [],
   "source": [
    "int_meta = pd.read_sql_query('select * from \"ar_internal_metadata\"',con=engine)"
   ]
  },
  {
   "cell_type": "code",
   "execution_count": 5,
   "metadata": {},
   "outputs": [
    {
     "data": {
      "text/html": [
       "<div>\n",
       "<style scoped>\n",
       "    .dataframe tbody tr th:only-of-type {\n",
       "        vertical-align: middle;\n",
       "    }\n",
       "\n",
       "    .dataframe tbody tr th {\n",
       "        vertical-align: top;\n",
       "    }\n",
       "\n",
       "    .dataframe thead th {\n",
       "        text-align: right;\n",
       "    }\n",
       "</style>\n",
       "<table border=\"1\" class=\"dataframe\">\n",
       "  <thead>\n",
       "    <tr style=\"text-align: right;\">\n",
       "      <th></th>\n",
       "      <th>key</th>\n",
       "      <th>value</th>\n",
       "      <th>created_at</th>\n",
       "      <th>updated_at</th>\n",
       "    </tr>\n",
       "  </thead>\n",
       "  <tbody>\n",
       "    <tr>\n",
       "      <th>0</th>\n",
       "      <td>environment</td>\n",
       "      <td>production</td>\n",
       "      <td>2017-02-13 16:16:49.504195</td>\n",
       "      <td>2017-02-13 16:16:49.504195</td>\n",
       "    </tr>\n",
       "  </tbody>\n",
       "</table>\n",
       "</div>"
      ],
      "text/plain": [
       "           key       value                 created_at  \\\n",
       "0  environment  production 2017-02-13 16:16:49.504195   \n",
       "\n",
       "                  updated_at  \n",
       "0 2017-02-13 16:16:49.504195  "
      ]
     },
     "execution_count": 5,
     "metadata": {},
     "output_type": "execute_result"
    }
   ],
   "source": [
    "int_meta.head()"
   ]
  },
  {
   "cell_type": "code",
   "execution_count": 6,
   "metadata": {},
   "outputs": [
    {
     "data": {
      "text/plain": [
       "(1, 4)"
      ]
     },
     "execution_count": 6,
     "metadata": {},
     "output_type": "execute_result"
    }
   ],
   "source": [
    "int_meta.shape"
   ]
  },
  {
   "cell_type": "code",
   "execution_count": 7,
   "metadata": {},
   "outputs": [],
   "source": [
    "dates = pd.read_sql_query('select * from \"dimensions_dates\"',con=engine)"
   ]
  },
  {
   "cell_type": "code",
   "execution_count": 8,
   "metadata": {},
   "outputs": [
    {
     "data": {
      "text/plain": [
       "(21, 18)"
      ]
     },
     "execution_count": 8,
     "metadata": {},
     "output_type": "execute_result"
    }
   ],
   "source": [
    "dates.shape"
   ]
  },
  {
   "cell_type": "code",
   "execution_count": 9,
   "metadata": {},
   "outputs": [
    {
     "data": {
      "text/plain": [
       "0"
      ]
     },
     "execution_count": 9,
     "metadata": {},
     "output_type": "execute_result"
    }
   ],
   "source": [
    "sum(dates.duplicated())"
   ]
  },
  {
   "cell_type": "code",
   "execution_count": 10,
   "metadata": {},
   "outputs": [
    {
     "data": {
      "text/html": [
       "<div>\n",
       "<style scoped>\n",
       "    .dataframe tbody tr th:only-of-type {\n",
       "        vertical-align: middle;\n",
       "    }\n",
       "\n",
       "    .dataframe tbody tr th {\n",
       "        vertical-align: top;\n",
       "    }\n",
       "\n",
       "    .dataframe thead th {\n",
       "        text-align: right;\n",
       "    }\n",
       "</style>\n",
       "<table border=\"1\" class=\"dataframe\">\n",
       "  <thead>\n",
       "    <tr style=\"text-align: right;\">\n",
       "      <th></th>\n",
       "      <th>date</th>\n",
       "      <th>date_name</th>\n",
       "      <th>date_name_abbreviated</th>\n",
       "      <th>year</th>\n",
       "      <th>quarter</th>\n",
       "      <th>month</th>\n",
       "      <th>month_name</th>\n",
       "      <th>month_name_abbreviated</th>\n",
       "      <th>week</th>\n",
       "      <th>day_of_year</th>\n",
       "      <th>day_of_quarter</th>\n",
       "      <th>day_of_month</th>\n",
       "      <th>day_of_week</th>\n",
       "      <th>day_name</th>\n",
       "      <th>day_name_abbreviated</th>\n",
       "      <th>weekday_weekend</th>\n",
       "      <th>created_at</th>\n",
       "      <th>updated_at</th>\n",
       "    </tr>\n",
       "  </thead>\n",
       "  <tbody>\n",
       "  </tbody>\n",
       "</table>\n",
       "</div>"
      ],
      "text/plain": [
       "Empty DataFrame\n",
       "Columns: [date, date_name, date_name_abbreviated, year, quarter, month, month_name, month_name_abbreviated, week, day_of_year, day_of_quarter, day_of_month, day_of_week, day_name, day_name_abbreviated, weekday_weekend, created_at, updated_at]\n",
       "Index: []"
      ]
     },
     "execution_count": 10,
     "metadata": {},
     "output_type": "execute_result"
    }
   ],
   "source": [
    "dates[dates.duplicated(keep=False)].sort_values(by='date')"
   ]
  },
  {
   "cell_type": "code",
   "execution_count": 12,
   "metadata": {},
   "outputs": [],
   "source": [
    "dates['date'] = pd.to_datetime(dates['date'])"
   ]
  },
  {
   "cell_type": "code",
   "execution_count": 13,
   "metadata": {},
   "outputs": [
    {
     "data": {
      "text/plain": [
       "Timestamp('2018-04-01 00:00:00')"
      ]
     },
     "execution_count": 13,
     "metadata": {},
     "output_type": "execute_result"
    }
   ],
   "source": [
    "min(dates['date'])"
   ]
  },
  {
   "cell_type": "code",
   "execution_count": 14,
   "metadata": {},
   "outputs": [
    {
     "data": {
      "text/plain": [
       "Timestamp('2018-05-02 00:00:00')"
      ]
     },
     "execution_count": 14,
     "metadata": {},
     "output_type": "execute_result"
    }
   ],
   "source": [
    "max(dates['date'])"
   ]
  },
  {
   "cell_type": "code",
   "execution_count": null,
   "metadata": {},
   "outputs": [],
   "source": [
    "items = pd.read_sql_query('select * from \"dimensions_items\"',con=engine)"
   ]
  },
  {
   "cell_type": "code",
   "execution_count": null,
   "metadata": {},
   "outputs": [],
   "source": [
    "items.columns"
   ]
  },
  {
   "cell_type": "code",
   "execution_count": 35,
   "metadata": {},
   "outputs": [
    {
     "data": {
      "text/html": [
       "<div>\n",
       "<style scoped>\n",
       "    .dataframe tbody tr th:only-of-type {\n",
       "        vertical-align: middle;\n",
       "    }\n",
       "\n",
       "    .dataframe tbody tr th {\n",
       "        vertical-align: top;\n",
       "    }\n",
       "\n",
       "    .dataframe thead th {\n",
       "        text-align: right;\n",
       "    }\n",
       "</style>\n",
       "<table border=\"1\" class=\"dataframe\">\n",
       "  <thead>\n",
       "    <tr style=\"text-align: right;\">\n",
       "      <th></th>\n",
       "      <th>id</th>\n",
       "      <th>content_id</th>\n",
       "      <th>title</th>\n",
       "      <th>base_path</th>\n",
       "      <th>description</th>\n",
       "      <th>created_at</th>\n",
       "      <th>updated_at</th>\n",
       "      <th>latest</th>\n",
       "      <th>raw_json</th>\n",
       "      <th>number_of_pdfs</th>\n",
       "      <th>...</th>\n",
       "      <th>spell_count</th>\n",
       "      <th>string_length</th>\n",
       "      <th>sentence_count</th>\n",
       "      <th>word_count</th>\n",
       "      <th>primary_organisation_title</th>\n",
       "      <th>primary_organisation_content_id</th>\n",
       "      <th>primary_organisation_withdrawn</th>\n",
       "      <th>content_hash</th>\n",
       "      <th>outdated_at</th>\n",
       "      <th>locale</th>\n",
       "    </tr>\n",
       "  </thead>\n",
       "  <tbody>\n",
       "    <tr>\n",
       "      <th>0</th>\n",
       "      <td>3427447</td>\n",
       "      <td>4f52576b-fc19-49e9-a08c-4b50b8a6e574</td>\n",
       "      <td>Personal tax credits: provisional statistics</td>\n",
       "      <td>/government/statistics/announcements/personal-...</td>\n",
       "      <td>None</td>\n",
       "      <td>2018-04-10 12:08:41.120071</td>\n",
       "      <td>2018-04-13 22:48:35.848940</td>\n",
       "      <td>True</td>\n",
       "      <td>{'analytics_identifier': None, 'base_path': '/...</td>\n",
       "      <td>0.0</td>\n",
       "      <td>...</td>\n",
       "      <td>1.0</td>\n",
       "      <td>237.0</td>\n",
       "      <td>2.0</td>\n",
       "      <td>45.0</td>\n",
       "      <td>None</td>\n",
       "      <td>None</td>\n",
       "      <td>None</td>\n",
       "      <td>68a9da8d6a14248bad202a8396ac5c4e06e30edc</td>\n",
       "      <td>NaT</td>\n",
       "      <td>en</td>\n",
       "    </tr>\n",
       "    <tr>\n",
       "      <th>1</th>\n",
       "      <td>3427453</td>\n",
       "      <td>64b0b78f-1450-44bc-a32f-41937a3ee120</td>\n",
       "      <td>Mrs Sarah Bedwell</td>\n",
       "      <td>/government/people/sarah-bedwell</td>\n",
       "      <td>None</td>\n",
       "      <td>2018-04-10 12:08:41.120071</td>\n",
       "      <td>2018-04-10 13:40:17.300626</td>\n",
       "      <td>True</td>\n",
       "      <td>{'analytics_identifier': None, 'base_path': '/...</td>\n",
       "      <td>0.0</td>\n",
       "      <td>...</td>\n",
       "      <td>NaN</td>\n",
       "      <td>0.0</td>\n",
       "      <td>0.0</td>\n",
       "      <td>0.0</td>\n",
       "      <td>None</td>\n",
       "      <td>None</td>\n",
       "      <td>None</td>\n",
       "      <td>None</td>\n",
       "      <td>NaT</td>\n",
       "      <td>en</td>\n",
       "    </tr>\n",
       "    <tr>\n",
       "      <th>2</th>\n",
       "      <td>3427471</td>\n",
       "      <td>5e16850d-7631-11e4-a3cb-005056011aef</td>\n",
       "      <td>Rhoi gwybod am eich cyflwr meddygol (AUD1W)</td>\n",
       "      <td>/government/publications/aud1-online-confident...</td>\n",
       "      <td>None</td>\n",
       "      <td>2018-04-10 12:08:41.120071</td>\n",
       "      <td>2018-04-10 13:40:17.753162</td>\n",
       "      <td>True</td>\n",
       "      <td>{'analytics_identifier': None, 'base_path': '/...</td>\n",
       "      <td>1.0</td>\n",
       "      <td>...</td>\n",
       "      <td>NaN</td>\n",
       "      <td>0.0</td>\n",
       "      <td>0.0</td>\n",
       "      <td>0.0</td>\n",
       "      <td>Driver and Vehicle Licensing Agency</td>\n",
       "      <td>70580624-93b5-4aed-823b-76042486c769</td>\n",
       "      <td>False</td>\n",
       "      <td>66e13e1116f989901e636475a8b9ccfccac92704</td>\n",
       "      <td>NaT</td>\n",
       "      <td>cy</td>\n",
       "    </tr>\n",
       "    <tr>\n",
       "      <th>3</th>\n",
       "      <td>3427444</td>\n",
       "      <td>bc34fc90-df5a-4338-b9f3-c7428f946b7a</td>\n",
       "      <td>Mrs A Moseka v Sheffield Teaching Hospitals NH...</td>\n",
       "      <td>/employment-appeal-tribunal-decisions/mrs-a-mo...</td>\n",
       "      <td>None</td>\n",
       "      <td>2018-04-10 12:08:41.120071</td>\n",
       "      <td>2018-04-13 22:48:35.480869</td>\n",
       "      <td>True</td>\n",
       "      <td>{'analytics_identifier': None, 'base_path': '/...</td>\n",
       "      <td>0.0</td>\n",
       "      <td>...</td>\n",
       "      <td>5.0</td>\n",
       "      <td>110.0</td>\n",
       "      <td>1.0</td>\n",
       "      <td>23.0</td>\n",
       "      <td>None</td>\n",
       "      <td>None</td>\n",
       "      <td>None</td>\n",
       "      <td>edac9f58965dade1f71b353056a7948a693c50a8</td>\n",
       "      <td>NaT</td>\n",
       "      <td>en</td>\n",
       "    </tr>\n",
       "    <tr>\n",
       "      <th>4</th>\n",
       "      <td>3427657</td>\n",
       "      <td>f3bbdec2-0e62-4520-a7fd-6ffd5d36e03a</td>\n",
       "      <td>GOV.UK homepage</td>\n",
       "      <td>/</td>\n",
       "      <td>None</td>\n",
       "      <td>2018-04-10 12:08:41.120071</td>\n",
       "      <td>2018-04-10 13:40:26.535355</td>\n",
       "      <td>True</td>\n",
       "      <td>{'analytics_identifier': None, 'base_path': '/...</td>\n",
       "      <td>0.0</td>\n",
       "      <td>...</td>\n",
       "      <td>NaN</td>\n",
       "      <td>0.0</td>\n",
       "      <td>0.0</td>\n",
       "      <td>0.0</td>\n",
       "      <td>None</td>\n",
       "      <td>None</td>\n",
       "      <td>None</td>\n",
       "      <td>None</td>\n",
       "      <td>NaT</td>\n",
       "      <td>en</td>\n",
       "    </tr>\n",
       "  </tbody>\n",
       "</table>\n",
       "<p>5 rows × 36 columns</p>\n",
       "</div>"
      ],
      "text/plain": [
       "        id                            content_id  \\\n",
       "0  3427447  4f52576b-fc19-49e9-a08c-4b50b8a6e574   \n",
       "1  3427453  64b0b78f-1450-44bc-a32f-41937a3ee120   \n",
       "2  3427471  5e16850d-7631-11e4-a3cb-005056011aef   \n",
       "3  3427444  bc34fc90-df5a-4338-b9f3-c7428f946b7a   \n",
       "4  3427657  f3bbdec2-0e62-4520-a7fd-6ffd5d36e03a   \n",
       "\n",
       "                                               title  \\\n",
       "0       Personal tax credits: provisional statistics   \n",
       "1                                  Mrs Sarah Bedwell   \n",
       "2        Rhoi gwybod am eich cyflwr meddygol (AUD1W)   \n",
       "3  Mrs A Moseka v Sheffield Teaching Hospitals NH...   \n",
       "4                                    GOV.UK homepage   \n",
       "\n",
       "                                           base_path description  \\\n",
       "0  /government/statistics/announcements/personal-...        None   \n",
       "1                   /government/people/sarah-bedwell        None   \n",
       "2  /government/publications/aud1-online-confident...        None   \n",
       "3  /employment-appeal-tribunal-decisions/mrs-a-mo...        None   \n",
       "4                                                  /        None   \n",
       "\n",
       "                  created_at                 updated_at  latest  \\\n",
       "0 2018-04-10 12:08:41.120071 2018-04-13 22:48:35.848940    True   \n",
       "1 2018-04-10 12:08:41.120071 2018-04-10 13:40:17.300626    True   \n",
       "2 2018-04-10 12:08:41.120071 2018-04-10 13:40:17.753162    True   \n",
       "3 2018-04-10 12:08:41.120071 2018-04-13 22:48:35.480869    True   \n",
       "4 2018-04-10 12:08:41.120071 2018-04-10 13:40:26.535355    True   \n",
       "\n",
       "                                            raw_json  number_of_pdfs   ...    \\\n",
       "0  {'analytics_identifier': None, 'base_path': '/...             0.0   ...     \n",
       "1  {'analytics_identifier': None, 'base_path': '/...             0.0   ...     \n",
       "2  {'analytics_identifier': None, 'base_path': '/...             1.0   ...     \n",
       "3  {'analytics_identifier': None, 'base_path': '/...             0.0   ...     \n",
       "4  {'analytics_identifier': None, 'base_path': '/...             0.0   ...     \n",
       "\n",
       "  spell_count string_length sentence_count word_count  \\\n",
       "0         1.0         237.0            2.0       45.0   \n",
       "1         NaN           0.0            0.0        0.0   \n",
       "2         NaN           0.0            0.0        0.0   \n",
       "3         5.0         110.0            1.0       23.0   \n",
       "4         NaN           0.0            0.0        0.0   \n",
       "\n",
       "            primary_organisation_title       primary_organisation_content_id  \\\n",
       "0                                 None                                  None   \n",
       "1                                 None                                  None   \n",
       "2  Driver and Vehicle Licensing Agency  70580624-93b5-4aed-823b-76042486c769   \n",
       "3                                 None                                  None   \n",
       "4                                 None                                  None   \n",
       "\n",
       "  primary_organisation_withdrawn                              content_hash  \\\n",
       "0                           None  68a9da8d6a14248bad202a8396ac5c4e06e30edc   \n",
       "1                           None                                      None   \n",
       "2                          False  66e13e1116f989901e636475a8b9ccfccac92704   \n",
       "3                           None  edac9f58965dade1f71b353056a7948a693c50a8   \n",
       "4                           None                                      None   \n",
       "\n",
       "   outdated_at  locale  \n",
       "0          NaT      en  \n",
       "1          NaT      en  \n",
       "2          NaT      cy  \n",
       "3          NaT      en  \n",
       "4          NaT      en  \n",
       "\n",
       "[5 rows x 36 columns]"
      ]
     },
     "execution_count": 35,
     "metadata": {},
     "output_type": "execute_result"
    }
   ],
   "source": [
    "items.head()"
   ]
  },
  {
   "cell_type": "code",
   "execution_count": 36,
   "metadata": {},
   "outputs": [
    {
     "data": {
      "text/plain": [
       "(487994, 36)"
      ]
     },
     "execution_count": 36,
     "metadata": {},
     "output_type": "execute_result"
    }
   ],
   "source": [
    "items.shape"
   ]
  },
  {
   "cell_type": "code",
   "execution_count": null,
   "metadata": {},
   "outputs": [],
   "source": [
    "content_performance_bytime = pd.merge(\n",
    "    left=facts_metrics,\n",
    "    right=items,\n",
    "    left_on='dimensions_item_id', #\n",
    "    right_on='id', # \n",
    "    how='outer', # keep everything for checking merge\n",
    "    indicator=True # so we can filter by match type\n",
    ")\n"
   ]
  },
  {
   "cell_type": "code",
   "execution_count": null,
   "metadata": {},
   "outputs": [],
   "source": [
    "content_performance_bytime.columns"
   ]
  },
  {
   "cell_type": "code",
   "execution_count": null,
   "metadata": {},
   "outputs": [],
   "source": [
    "content_performance_bytime.dtypes"
   ]
  },
  {
   "cell_type": "code",
   "execution_count": 7,
   "metadata": {},
   "outputs": [],
   "source": [
    "feedex = pd.read_sql_query('select * from \"events_feedexes\"',con=engine)"
   ]
  },
  {
   "cell_type": "code",
   "execution_count": 15,
   "metadata": {},
   "outputs": [
    {
     "data": {
      "text/html": [
       "<div>\n",
       "<style scoped>\n",
       "    .dataframe tbody tr th:only-of-type {\n",
       "        vertical-align: middle;\n",
       "    }\n",
       "\n",
       "    .dataframe tbody tr th {\n",
       "        vertical-align: top;\n",
       "    }\n",
       "\n",
       "    .dataframe thead th {\n",
       "        text-align: right;\n",
       "    }\n",
       "</style>\n",
       "<table border=\"1\" class=\"dataframe\">\n",
       "  <thead>\n",
       "    <tr style=\"text-align: right;\">\n",
       "      <th></th>\n",
       "      <th>id</th>\n",
       "      <th>date</th>\n",
       "      <th>page_path</th>\n",
       "      <th>feedex_comments</th>\n",
       "    </tr>\n",
       "  </thead>\n",
       "  <tbody>\n",
       "    <tr>\n",
       "      <th>0</th>\n",
       "      <td>2</td>\n",
       "      <td>2018-02-28</td>\n",
       "      <td>/annual-test-for-lorries-buses-and-trailers/bo...</td>\n",
       "      <td>1</td>\n",
       "    </tr>\n",
       "    <tr>\n",
       "      <th>1</th>\n",
       "      <td>365</td>\n",
       "      <td>2018-02-27</td>\n",
       "      <td>/1619-bursary-fund/further-information</td>\n",
       "      <td>1</td>\n",
       "    </tr>\n",
       "    <tr>\n",
       "      <th>2</th>\n",
       "      <td>1120</td>\n",
       "      <td>2018-02-25</td>\n",
       "      <td>/agency-workers-your-rights/pay</td>\n",
       "      <td>1</td>\n",
       "    </tr>\n",
       "    <tr>\n",
       "      <th>3</th>\n",
       "      <td>2256</td>\n",
       "      <td>2018-02-28</td>\n",
       "      <td>/annual-test-for-lorries-buses-and-trailers/bo...</td>\n",
       "      <td>1</td>\n",
       "    </tr>\n",
       "    <tr>\n",
       "      <th>4</th>\n",
       "      <td>368</td>\n",
       "      <td>2018-02-27</td>\n",
       "      <td>/after-a-death/organisations-you-need-to-conta...</td>\n",
       "      <td>1</td>\n",
       "    </tr>\n",
       "  </tbody>\n",
       "</table>\n",
       "</div>"
      ],
      "text/plain": [
       "     id        date                                          page_path  \\\n",
       "0     2  2018-02-28  /annual-test-for-lorries-buses-and-trailers/bo...   \n",
       "1   365  2018-02-27             /1619-bursary-fund/further-information   \n",
       "2  1120  2018-02-25                    /agency-workers-your-rights/pay   \n",
       "3  2256  2018-02-28  /annual-test-for-lorries-buses-and-trailers/bo...   \n",
       "4   368  2018-02-27  /after-a-death/organisations-you-need-to-conta...   \n",
       "\n",
       "   feedex_comments  \n",
       "0                1  \n",
       "1                1  \n",
       "2                1  \n",
       "3                1  \n",
       "4                1  "
      ]
     },
     "execution_count": 15,
     "metadata": {},
     "output_type": "execute_result"
    }
   ],
   "source": [
    "feedex.head()"
   ]
  },
  {
   "cell_type": "code",
   "execution_count": 16,
   "metadata": {},
   "outputs": [
    {
     "data": {
      "text/plain": [
       "(4612, 4)"
      ]
     },
     "execution_count": 16,
     "metadata": {},
     "output_type": "execute_result"
    }
   ],
   "source": [
    "feedex.shape"
   ]
  },
  {
   "cell_type": "code",
   "execution_count": 8,
   "metadata": {},
   "outputs": [],
   "source": [
    "ga = pd.read_sql_query('select * from \"events_gas\"',con=engine)"
   ]
  },
  {
   "cell_type": "code",
   "execution_count": 17,
   "metadata": {},
   "outputs": [
    {
     "data": {
      "text/html": [
       "<div>\n",
       "<style scoped>\n",
       "    .dataframe tbody tr th:only-of-type {\n",
       "        vertical-align: middle;\n",
       "    }\n",
       "\n",
       "    .dataframe tbody tr th {\n",
       "        vertical-align: top;\n",
       "    }\n",
       "\n",
       "    .dataframe thead th {\n",
       "        text-align: right;\n",
       "    }\n",
       "</style>\n",
       "<table border=\"1\" class=\"dataframe\">\n",
       "  <thead>\n",
       "    <tr style=\"text-align: right;\">\n",
       "      <th></th>\n",
       "      <th>id</th>\n",
       "      <th>date</th>\n",
       "      <th>page_path</th>\n",
       "      <th>pageviews</th>\n",
       "      <th>unique_pageviews</th>\n",
       "      <th>created_at</th>\n",
       "      <th>updated_at</th>\n",
       "    </tr>\n",
       "  </thead>\n",
       "  <tbody>\n",
       "    <tr>\n",
       "      <th>0</th>\n",
       "      <td>7961022</td>\n",
       "      <td>2018-04-09</td>\n",
       "      <td>/?</td>\n",
       "      <td>1</td>\n",
       "      <td>1</td>\n",
       "      <td>2018-04-10 12:42:46.146280</td>\n",
       "      <td>2018-04-10 12:42:46.146280</td>\n",
       "    </tr>\n",
       "    <tr>\n",
       "      <th>1</th>\n",
       "      <td>7961023</td>\n",
       "      <td>2018-04-09</td>\n",
       "      <td>/?backtopage=https://passportapplication.servi...</td>\n",
       "      <td>1</td>\n",
       "      <td>1</td>\n",
       "      <td>2018-04-10 12:42:46.146280</td>\n",
       "      <td>2018-04-10 12:42:46.146280</td>\n",
       "    </tr>\n",
       "    <tr>\n",
       "      <th>2</th>\n",
       "      <td>7961024</td>\n",
       "      <td>2018-04-09</td>\n",
       "      <td>/?backtopage=https://passportapplication.servi...</td>\n",
       "      <td>1</td>\n",
       "      <td>1</td>\n",
       "      <td>2018-04-10 12:42:46.146280</td>\n",
       "      <td>2018-04-10 12:42:46.146280</td>\n",
       "    </tr>\n",
       "    <tr>\n",
       "      <th>3</th>\n",
       "      <td>7961025</td>\n",
       "      <td>2018-04-09</td>\n",
       "      <td>/?backtopage=https://passportapplication.servi...</td>\n",
       "      <td>31</td>\n",
       "      <td>31</td>\n",
       "      <td>2018-04-10 12:42:46.146280</td>\n",
       "      <td>2018-04-10 12:42:46.146280</td>\n",
       "    </tr>\n",
       "    <tr>\n",
       "      <th>4</th>\n",
       "      <td>7961026</td>\n",
       "      <td>2018-04-09</td>\n",
       "      <td>/?backtopage=https://passportapplication.servi...</td>\n",
       "      <td>4</td>\n",
       "      <td>4</td>\n",
       "      <td>2018-04-10 12:42:46.146280</td>\n",
       "      <td>2018-04-10 12:42:46.146280</td>\n",
       "    </tr>\n",
       "  </tbody>\n",
       "</table>\n",
       "</div>"
      ],
      "text/plain": [
       "        id        date                                          page_path  \\\n",
       "0  7961022  2018-04-09                                                 /?   \n",
       "1  7961023  2018-04-09  /?backtopage=https://passportapplication.servi...   \n",
       "2  7961024  2018-04-09  /?backtopage=https://passportapplication.servi...   \n",
       "3  7961025  2018-04-09  /?backtopage=https://passportapplication.servi...   \n",
       "4  7961026  2018-04-09  /?backtopage=https://passportapplication.servi...   \n",
       "\n",
       "   pageviews  unique_pageviews                 created_at  \\\n",
       "0          1                 1 2018-04-10 12:42:46.146280   \n",
       "1          1                 1 2018-04-10 12:42:46.146280   \n",
       "2          1                 1 2018-04-10 12:42:46.146280   \n",
       "3         31                31 2018-04-10 12:42:46.146280   \n",
       "4          4                 4 2018-04-10 12:42:46.146280   \n",
       "\n",
       "                  updated_at  \n",
       "0 2018-04-10 12:42:46.146280  \n",
       "1 2018-04-10 12:42:46.146280  \n",
       "2 2018-04-10 12:42:46.146280  \n",
       "3 2018-04-10 12:42:46.146280  \n",
       "4 2018-04-10 12:42:46.146280  "
      ]
     },
     "execution_count": 17,
     "metadata": {},
     "output_type": "execute_result"
    }
   ],
   "source": [
    "ga.head()"
   ]
  },
  {
   "cell_type": "code",
   "execution_count": 18,
   "metadata": {},
   "outputs": [
    {
     "data": {
      "text/plain": [
       "(422252, 7)"
      ]
     },
     "execution_count": 18,
     "metadata": {},
     "output_type": "execute_result"
    }
   ],
   "source": [
    "ga.shape"
   ]
  },
  {
   "cell_type": "code",
   "execution_count": 9,
   "metadata": {},
   "outputs": [],
   "source": [
    "facts_metrics = pd.read_sql_query('select * from \"facts_metrics\"',con=engine)"
   ]
  },
  {
   "cell_type": "code",
   "execution_count": 19,
   "metadata": {},
   "outputs": [
    {
     "data": {
      "text/html": [
       "<div>\n",
       "<style scoped>\n",
       "    .dataframe tbody tr th:only-of-type {\n",
       "        vertical-align: middle;\n",
       "    }\n",
       "\n",
       "    .dataframe tbody tr th {\n",
       "        vertical-align: top;\n",
       "    }\n",
       "\n",
       "    .dataframe thead th {\n",
       "        text-align: right;\n",
       "    }\n",
       "</style>\n",
       "<table border=\"1\" class=\"dataframe\">\n",
       "  <thead>\n",
       "    <tr style=\"text-align: right;\">\n",
       "      <th></th>\n",
       "      <th>id</th>\n",
       "      <th>dimensions_date_id</th>\n",
       "      <th>dimensions_item_id</th>\n",
       "      <th>created_at</th>\n",
       "      <th>updated_at</th>\n",
       "      <th>pageviews</th>\n",
       "      <th>unique_pageviews</th>\n",
       "      <th>feedex_comments</th>\n",
       "    </tr>\n",
       "  </thead>\n",
       "  <tbody>\n",
       "    <tr>\n",
       "      <th>0</th>\n",
       "      <td>33196515</td>\n",
       "      <td>2018-04-14</td>\n",
       "      <td>3063416</td>\n",
       "      <td>2018-04-15 01:05:45.989887</td>\n",
       "      <td>2018-04-15 01:05:45.989887</td>\n",
       "      <td>0</td>\n",
       "      <td>0</td>\n",
       "      <td>0</td>\n",
       "    </tr>\n",
       "    <tr>\n",
       "      <th>1</th>\n",
       "      <td>33196516</td>\n",
       "      <td>2018-04-14</td>\n",
       "      <td>3063417</td>\n",
       "      <td>2018-04-15 01:05:45.989887</td>\n",
       "      <td>2018-04-15 01:05:45.989887</td>\n",
       "      <td>0</td>\n",
       "      <td>0</td>\n",
       "      <td>0</td>\n",
       "    </tr>\n",
       "    <tr>\n",
       "      <th>2</th>\n",
       "      <td>33196517</td>\n",
       "      <td>2018-04-14</td>\n",
       "      <td>3063418</td>\n",
       "      <td>2018-04-15 01:05:45.989887</td>\n",
       "      <td>2018-04-15 01:05:45.989887</td>\n",
       "      <td>0</td>\n",
       "      <td>0</td>\n",
       "      <td>0</td>\n",
       "    </tr>\n",
       "    <tr>\n",
       "      <th>3</th>\n",
       "      <td>33196518</td>\n",
       "      <td>2018-04-14</td>\n",
       "      <td>3063419</td>\n",
       "      <td>2018-04-15 01:05:45.989887</td>\n",
       "      <td>2018-04-15 01:05:45.989887</td>\n",
       "      <td>0</td>\n",
       "      <td>0</td>\n",
       "      <td>0</td>\n",
       "    </tr>\n",
       "    <tr>\n",
       "      <th>4</th>\n",
       "      <td>33196519</td>\n",
       "      <td>2018-04-14</td>\n",
       "      <td>3063420</td>\n",
       "      <td>2018-04-15 01:05:45.989887</td>\n",
       "      <td>2018-04-15 01:05:45.989887</td>\n",
       "      <td>0</td>\n",
       "      <td>0</td>\n",
       "      <td>0</td>\n",
       "    </tr>\n",
       "  </tbody>\n",
       "</table>\n",
       "</div>"
      ],
      "text/plain": [
       "         id dimensions_date_id  dimensions_item_id                 created_at  \\\n",
       "0  33196515         2018-04-14             3063416 2018-04-15 01:05:45.989887   \n",
       "1  33196516         2018-04-14             3063417 2018-04-15 01:05:45.989887   \n",
       "2  33196517         2018-04-14             3063418 2018-04-15 01:05:45.989887   \n",
       "3  33196518         2018-04-14             3063419 2018-04-15 01:05:45.989887   \n",
       "4  33196519         2018-04-14             3063420 2018-04-15 01:05:45.989887   \n",
       "\n",
       "                  updated_at  pageviews  unique_pageviews  feedex_comments  \n",
       "0 2018-04-15 01:05:45.989887          0                 0                0  \n",
       "1 2018-04-15 01:05:45.989887          0                 0                0  \n",
       "2 2018-04-15 01:05:45.989887          0                 0                0  \n",
       "3 2018-04-15 01:05:45.989887          0                 0                0  \n",
       "4 2018-04-15 01:05:45.989887          0                 0                0  "
      ]
     },
     "execution_count": 19,
     "metadata": {},
     "output_type": "execute_result"
    }
   ],
   "source": [
    "facts_metrics.head()"
   ]
  },
  {
   "cell_type": "code",
   "execution_count": 20,
   "metadata": {},
   "outputs": [
    {
     "data": {
      "text/plain": [
       "(4197562, 8)"
      ]
     },
     "execution_count": 20,
     "metadata": {},
     "output_type": "execute_result"
    }
   ],
   "source": [
    "facts_metrics.shape"
   ]
  },
  {
   "cell_type": "code",
   "execution_count": 59,
   "metadata": {},
   "outputs": [
    {
     "data": {
      "text/plain": [
       "4197562"
      ]
     },
     "execution_count": 59,
     "metadata": {},
     "output_type": "execute_result"
    }
   ],
   "source": [
    "facts_metrics.id.nunique()"
   ]
  },
  {
   "cell_type": "code",
   "execution_count": 29,
   "metadata": {},
   "outputs": [
    {
     "data": {
      "text/plain": [
       "count    487993.000000\n",
       "mean          8.601685\n",
       "std           2.666656\n",
       "min           1.000000\n",
       "25%          10.000000\n",
       "50%          10.000000\n",
       "75%          10.000000\n",
       "max          10.000000\n",
       "dtype: float64"
      ]
     },
     "execution_count": 29,
     "metadata": {},
     "output_type": "execute_result"
    }
   ],
   "source": [
    "facts_metrics.groupby('dimensions_item_id').size().describe()"
   ]
  },
  {
   "cell_type": "code",
   "execution_count": 52,
   "metadata": {},
   "outputs": [
    {
     "data": {
      "text/plain": [
       "count        10.000000\n",
       "mean     419756.200000\n",
       "std        1116.362327\n",
       "min      417781.000000\n",
       "25%      419089.500000\n",
       "50%      420141.000000\n",
       "75%      420554.500000\n",
       "max      421005.000000\n",
       "dtype: float64"
      ]
     },
     "execution_count": 52,
     "metadata": {},
     "output_type": "execute_result"
    }
   ],
   "source": [
    "facts_metrics.groupby('dimensions_date_id').size().describe()"
   ]
  },
  {
   "cell_type": "code",
   "execution_count": 64,
   "metadata": {},
   "outputs": [
    {
     "data": {
      "text/html": [
       "<div>\n",
       "<style scoped>\n",
       "    .dataframe tbody tr th:only-of-type {\n",
       "        vertical-align: middle;\n",
       "    }\n",
       "\n",
       "    .dataframe tbody tr th {\n",
       "        vertical-align: top;\n",
       "    }\n",
       "\n",
       "    .dataframe thead th {\n",
       "        text-align: right;\n",
       "    }\n",
       "</style>\n",
       "<table border=\"1\" class=\"dataframe\">\n",
       "  <thead>\n",
       "    <tr style=\"text-align: right;\">\n",
       "      <th></th>\n",
       "      <th>id</th>\n",
       "      <th>dimensions_date_id</th>\n",
       "      <th>dimensions_item_id</th>\n",
       "      <th>created_at</th>\n",
       "      <th>updated_at</th>\n",
       "      <th>pageviews</th>\n",
       "      <th>unique_pageviews</th>\n",
       "      <th>feedex_comments</th>\n",
       "    </tr>\n",
       "  </thead>\n",
       "  <tbody>\n",
       "    <tr>\n",
       "      <th>934545</th>\n",
       "      <td>30681861</td>\n",
       "      <td>2018-04-09</td>\n",
       "      <td>3063339</td>\n",
       "      <td>2018-04-10 13:04:50.487102</td>\n",
       "      <td>2018-04-10 13:04:50.487102</td>\n",
       "      <td>96</td>\n",
       "      <td>79</td>\n",
       "      <td>0</td>\n",
       "    </tr>\n",
       "    <tr>\n",
       "      <th>1402084</th>\n",
       "      <td>31099642</td>\n",
       "      <td>2018-04-08</td>\n",
       "      <td>3063339</td>\n",
       "      <td>2018-04-10 16:31:41.557328</td>\n",
       "      <td>2018-04-10 16:31:41.557328</td>\n",
       "      <td>34</td>\n",
       "      <td>29</td>\n",
       "      <td>0</td>\n",
       "    </tr>\n",
       "    <tr>\n",
       "      <th>1894435</th>\n",
       "      <td>31517903</td>\n",
       "      <td>2018-04-10</td>\n",
       "      <td>3063339</td>\n",
       "      <td>2018-04-11 01:00:10.599524</td>\n",
       "      <td>2018-04-11 01:00:10.599524</td>\n",
       "      <td>95</td>\n",
       "      <td>79</td>\n",
       "      <td>0</td>\n",
       "    </tr>\n",
       "    <tr>\n",
       "      <th>2390907</th>\n",
       "      <td>31936917</td>\n",
       "      <td>2018-04-11</td>\n",
       "      <td>3063339</td>\n",
       "      <td>2018-04-12 01:04:54.437760</td>\n",
       "      <td>2018-04-12 01:04:54.437760</td>\n",
       "      <td>81</td>\n",
       "      <td>67</td>\n",
       "      <td>0</td>\n",
       "    </tr>\n",
       "    <tr>\n",
       "      <th>2791599</th>\n",
       "      <td>32356233</td>\n",
       "      <td>2018-04-12</td>\n",
       "      <td>3063339</td>\n",
       "      <td>2018-04-13 01:00:59.367506</td>\n",
       "      <td>2018-04-13 01:00:59.367506</td>\n",
       "      <td>87</td>\n",
       "      <td>67</td>\n",
       "      <td>0</td>\n",
       "    </tr>\n",
       "  </tbody>\n",
       "</table>\n",
       "</div>"
      ],
      "text/plain": [
       "               id dimensions_date_id  dimensions_item_id  \\\n",
       "934545   30681861         2018-04-09             3063339   \n",
       "1402084  31099642         2018-04-08             3063339   \n",
       "1894435  31517903         2018-04-10             3063339   \n",
       "2390907  31936917         2018-04-11             3063339   \n",
       "2791599  32356233         2018-04-12             3063339   \n",
       "\n",
       "                        created_at                 updated_at  pageviews  \\\n",
       "934545  2018-04-10 13:04:50.487102 2018-04-10 13:04:50.487102         96   \n",
       "1402084 2018-04-10 16:31:41.557328 2018-04-10 16:31:41.557328         34   \n",
       "1894435 2018-04-11 01:00:10.599524 2018-04-11 01:00:10.599524         95   \n",
       "2390907 2018-04-12 01:04:54.437760 2018-04-12 01:04:54.437760         81   \n",
       "2791599 2018-04-13 01:00:59.367506 2018-04-13 01:00:59.367506         87   \n",
       "\n",
       "         unique_pageviews  feedex_comments  \n",
       "934545                 79                0  \n",
       "1402084                29                0  \n",
       "1894435                79                0  \n",
       "2390907                67                0  \n",
       "2791599                67                0  "
      ]
     },
     "execution_count": 64,
     "metadata": {},
     "output_type": "execute_result"
    }
   ],
   "source": [
    "facts_metrics[facts_metrics['dimensions_item_id']==3063339]"
   ]
  },
  {
   "cell_type": "code",
   "execution_count": null,
   "metadata": {},
   "outputs": [],
   "source": [
    "facts_metrics.groupby(['dimensions_date_id', 'dimensions_item_id', 'id']).sum()"
   ]
  },
  {
   "cell_type": "code",
   "execution_count": null,
   "metadata": {},
   "outputs": [],
   "source": [
    "facts_metrics.groupby('dimensions_item_id').sum()"
   ]
  },
  {
   "cell_type": "code",
   "execution_count": 30,
   "metadata": {},
   "outputs": [
    {
     "data": {
      "text/plain": [
       "487993"
      ]
     },
     "execution_count": 30,
     "metadata": {},
     "output_type": "execute_result"
    }
   ],
   "source": [
    "facts_metrics.dimensions_item_id.nunique()"
   ]
  },
  {
   "cell_type": "code",
   "execution_count": 31,
   "metadata": {},
   "outputs": [
    {
     "data": {
      "text/plain": [
       "10"
      ]
     },
     "execution_count": 31,
     "metadata": {},
     "output_type": "execute_result"
    }
   ],
   "source": [
    "facts_metrics.dimensions_date_id.nunique()"
   ]
  },
  {
   "cell_type": "markdown",
   "metadata": {},
   "source": []
  },
  {
   "cell_type": "code",
   "execution_count": 10,
   "metadata": {},
   "outputs": [],
   "source": [
    "schema = pd.read_sql_query('select * from \"schema_migrations\"',con=engine)"
   ]
  },
  {
   "cell_type": "code",
   "execution_count": 21,
   "metadata": {},
   "outputs": [
    {
     "data": {
      "text/html": [
       "<div>\n",
       "<style scoped>\n",
       "    .dataframe tbody tr th:only-of-type {\n",
       "        vertical-align: middle;\n",
       "    }\n",
       "\n",
       "    .dataframe tbody tr th {\n",
       "        vertical-align: top;\n",
       "    }\n",
       "\n",
       "    .dataframe thead th {\n",
       "        text-align: right;\n",
       "    }\n",
       "</style>\n",
       "<table border=\"1\" class=\"dataframe\">\n",
       "  <thead>\n",
       "    <tr style=\"text-align: right;\">\n",
       "      <th></th>\n",
       "      <th>version</th>\n",
       "    </tr>\n",
       "  </thead>\n",
       "  <tbody>\n",
       "    <tr>\n",
       "      <th>0</th>\n",
       "      <td>20161122145459</td>\n",
       "    </tr>\n",
       "    <tr>\n",
       "      <th>1</th>\n",
       "      <td>20161123141301</td>\n",
       "    </tr>\n",
       "    <tr>\n",
       "      <th>2</th>\n",
       "      <td>20161130153206</td>\n",
       "    </tr>\n",
       "    <tr>\n",
       "      <th>3</th>\n",
       "      <td>20161201111152</td>\n",
       "    </tr>\n",
       "    <tr>\n",
       "      <th>4</th>\n",
       "      <td>20161202101420</td>\n",
       "    </tr>\n",
       "  </tbody>\n",
       "</table>\n",
       "</div>"
      ],
      "text/plain": [
       "          version\n",
       "0  20161122145459\n",
       "1  20161123141301\n",
       "2  20161130153206\n",
       "3  20161201111152\n",
       "4  20161202101420"
      ]
     },
     "execution_count": 21,
     "metadata": {},
     "output_type": "execute_result"
    }
   ],
   "source": [
    "schema.head()"
   ]
  },
  {
   "cell_type": "code",
   "execution_count": 22,
   "metadata": {},
   "outputs": [
    {
     "data": {
      "text/plain": [
       "(113, 1)"
      ]
     },
     "execution_count": 22,
     "metadata": {},
     "output_type": "execute_result"
    }
   ],
   "source": [
    "schema.shape"
   ]
  },
  {
   "cell_type": "code",
   "execution_count": null,
   "metadata": {},
   "outputs": [],
   "source": []
  },
  {
   "cell_type": "code",
   "execution_count": null,
   "metadata": {},
   "outputs": [],
   "source": []
  },
  {
   "cell_type": "code",
   "execution_count": null,
   "metadata": {},
   "outputs": [],
   "source": []
  },
  {
   "cell_type": "code",
   "execution_count": null,
   "metadata": {},
   "outputs": [],
   "source": []
  },
  {
   "cell_type": "code",
   "execution_count": null,
   "metadata": {},
   "outputs": [],
   "source": []
  },
  {
   "cell_type": "code",
   "execution_count": null,
   "metadata": {},
   "outputs": [],
   "source": []
  },
  {
   "cell_type": "code",
   "execution_count": null,
   "metadata": {},
   "outputs": [],
   "source": []
  }
 ],
 "metadata": {
  "kernelspec": {
   "display_name": "give_data",
   "language": "python",
   "name": "give_data"
  },
  "language_info": {
   "codemirror_mode": {
    "name": "ipython",
    "version": 3
   },
   "file_extension": ".py",
   "mimetype": "text/x-python",
   "name": "python",
   "nbconvert_exporter": "python",
   "pygments_lexer": "ipython3",
   "version": "3.6.5"
  }
 },
 "nbformat": 4,
 "nbformat_minor": 2
}
