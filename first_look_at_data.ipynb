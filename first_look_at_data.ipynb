{
 "cells": [
  {
   "cell_type": "code",
   "execution_count": 1,
   "metadata": {},
   "outputs": [],
   "source": [
    "import pandas as pd"
   ]
  },
  {
   "cell_type": "code",
   "execution_count": 2,
   "metadata": {},
   "outputs": [],
   "source": [
    "from sqlalchemy import create_engine"
   ]
  },
  {
   "cell_type": "code",
   "execution_count": 3,
   "metadata": {},
   "outputs": [
    {
     "name": "stderr",
     "output_type": "stream",
     "text": [
      "/Users/ellieking/Documents/give-depts-data/give_data/lib/python3.6/site-packages/psycopg2/__init__.py:144: UserWarning: The psycopg2 wheel package will be renamed from release 2.8; in order to keep installing from binary please use \"pip install psycopg2-binary\" instead. For details see: <http://initd.org/psycopg/docs/install.html#binary-install-from-pypi>.\n",
      "  \"\"\")\n"
     ]
    }
   ],
   "source": [
    "engine = create_engine('postgresql://ellieking@localhost:5432/givedata')"
   ]
  },
  {
   "cell_type": "code",
   "execution_count": 6,
   "metadata": {},
   "outputs": [],
   "source": [
    "int_meta = pd.read_sql_query('select * from \"ar_internal_metadata\"',con=engine)"
   ]
  },
  {
   "cell_type": "code",
   "execution_count": 7,
   "metadata": {},
   "outputs": [
    {
     "data": {
      "text/html": [
       "<div>\n",
       "<style scoped>\n",
       "    .dataframe tbody tr th:only-of-type {\n",
       "        vertical-align: middle;\n",
       "    }\n",
       "\n",
       "    .dataframe tbody tr th {\n",
       "        vertical-align: top;\n",
       "    }\n",
       "\n",
       "    .dataframe thead th {\n",
       "        text-align: right;\n",
       "    }\n",
       "</style>\n",
       "<table border=\"1\" class=\"dataframe\">\n",
       "  <thead>\n",
       "    <tr style=\"text-align: right;\">\n",
       "      <th></th>\n",
       "      <th>key</th>\n",
       "      <th>value</th>\n",
       "      <th>created_at</th>\n",
       "      <th>updated_at</th>\n",
       "    </tr>\n",
       "  </thead>\n",
       "  <tbody>\n",
       "    <tr>\n",
       "      <th>0</th>\n",
       "      <td>environment</td>\n",
       "      <td>production</td>\n",
       "      <td>2017-02-13 16:16:49.504195</td>\n",
       "      <td>2017-02-13 16:16:49.504195</td>\n",
       "    </tr>\n",
       "    <tr>\n",
       "      <th>1</th>\n",
       "      <td>environment</td>\n",
       "      <td>production</td>\n",
       "      <td>2017-02-13 16:16:49.504195</td>\n",
       "      <td>2017-02-13 16:16:49.504195</td>\n",
       "    </tr>\n",
       "    <tr>\n",
       "      <th>2</th>\n",
       "      <td>environment</td>\n",
       "      <td>production</td>\n",
       "      <td>2017-02-13 16:16:49.504195</td>\n",
       "      <td>2017-02-13 16:16:49.504195</td>\n",
       "    </tr>\n",
       "    <tr>\n",
       "      <th>3</th>\n",
       "      <td>environment</td>\n",
       "      <td>production</td>\n",
       "      <td>2017-02-13 16:16:49.504195</td>\n",
       "      <td>2017-02-13 16:16:49.504195</td>\n",
       "    </tr>\n",
       "    <tr>\n",
       "      <th>4</th>\n",
       "      <td>environment</td>\n",
       "      <td>production</td>\n",
       "      <td>2017-02-13 16:16:49.504195</td>\n",
       "      <td>2017-02-13 16:16:49.504195</td>\n",
       "    </tr>\n",
       "  </tbody>\n",
       "</table>\n",
       "</div>"
      ],
      "text/plain": [
       "           key       value                 created_at  \\\n",
       "0  environment  production 2017-02-13 16:16:49.504195   \n",
       "1  environment  production 2017-02-13 16:16:49.504195   \n",
       "2  environment  production 2017-02-13 16:16:49.504195   \n",
       "3  environment  production 2017-02-13 16:16:49.504195   \n",
       "4  environment  production 2017-02-13 16:16:49.504195   \n",
       "\n",
       "                  updated_at  \n",
       "0 2017-02-13 16:16:49.504195  \n",
       "1 2017-02-13 16:16:49.504195  \n",
       "2 2017-02-13 16:16:49.504195  \n",
       "3 2017-02-13 16:16:49.504195  \n",
       "4 2017-02-13 16:16:49.504195  "
      ]
     },
     "execution_count": 7,
     "metadata": {},
     "output_type": "execute_result"
    }
   ],
   "source": [
    "int_meta.head()"
   ]
  },
  {
   "cell_type": "code",
   "execution_count": 8,
   "metadata": {},
   "outputs": [],
   "source": [
    "dates = pd.read_sql_query('select * from \"dimensions_dates\"',con=engine)\n",
    "items = pd.read_sql_query('select * from \"dimensions_items\"',con=engine)\n",
    "feedex = pd.read_sql_query('select * from \"events_feedexes\"',con=engine)\n",
    "ga = pd.read_sql_query('select * from \"events_gas\"',con=engine)\n",
    "facts_metrics = pd.read_sql_query('select * from \"facts_metrics\"',con=engine)\n",
    "schema = pd.read_sql_query('select * from \"schema_migrations\"',con=engine)\n",
    "users = pd.read_sql_query('select * from \"users\"',con=engine)"
   ]
  },
  {
   "cell_type": "code",
   "execution_count": null,
   "metadata": {},
   "outputs": [],
   "source": []
  },
  {
   "cell_type": "code",
   "execution_count": null,
   "metadata": {},
   "outputs": [],
   "source": []
  },
  {
   "cell_type": "code",
   "execution_count": null,
   "metadata": {},
   "outputs": [],
   "source": []
  },
  {
   "cell_type": "code",
   "execution_count": null,
   "metadata": {},
   "outputs": [],
   "source": []
  },
  {
   "cell_type": "code",
   "execution_count": null,
   "metadata": {},
   "outputs": [],
   "source": []
  },
  {
   "cell_type": "code",
   "execution_count": null,
   "metadata": {},
   "outputs": [],
   "source": []
  },
  {
   "cell_type": "code",
   "execution_count": null,
   "metadata": {},
   "outputs": [],
   "source": []
  }
 ],
 "metadata": {
  "kernelspec": {
   "display_name": "give_data",
   "language": "python",
   "name": "give_data"
  },
  "language_info": {
   "codemirror_mode": {
    "name": "ipython",
    "version": 3
   },
   "file_extension": ".py",
   "mimetype": "text/x-python",
   "name": "python",
   "nbconvert_exporter": "python",
   "pygments_lexer": "ipython3",
   "version": "3.6.5"
  }
 },
 "nbformat": 4,
 "nbformat_minor": 2
}
